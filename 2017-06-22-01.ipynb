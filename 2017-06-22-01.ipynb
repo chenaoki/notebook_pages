{
 "cells": [
  {
   "cell_type": "markdown",
   "metadata": {},
   "source": [
    "# anaconda::accelerate::cusparse\n",
    "\n",
    "https://docs.continuum.io/accelerate/cusparse"
   ]
  },
  {
   "cell_type": "code",
   "execution_count": 1,
   "metadata": {
    "collapsed": true
   },
   "outputs": [],
   "source": [
    "import numpy as np\n",
    "import accelerate.cuda.sparse as cusp"
   ]
  },
  {
   "cell_type": "code",
   "execution_count": 5,
   "metadata": {},
   "outputs": [
    {
     "data": {
      "text/plain": [
       "(40000, 40000)"
      ]
     },
     "execution_count": 5,
     "metadata": {},
     "output_type": "execute_result"
    }
   ],
   "source": [
    "R = np.load('R.npy')\n",
    "R_sp = cusp.csr_matrix(R)\n",
    "Dinv = np.load('Dinv.npy')[:,0]\n",
    "\n",
    "R_sp.shape"
   ]
  },
  {
   "cell_type": "code",
   "execution_count": 3,
   "metadata": {
    "collapsed": true
   },
   "outputs": [],
   "source": [
    "N = R.shape[0] # 行列サイズ\n",
    "\n",
    "handl = cusp.Sparse() # Sparseクラスのオブジェクト\n",
    "descr = handl.matdescr() # 行列ディスクリプタ。対称行列とか指定可能っぽい"
   ]
  },
  {
   "cell_type": "markdown",
   "metadata": {},
   "source": [
    "y = alpha \\* trans(A).dot(x) + beta \\* y\n",
    "\n",
    "http://qiita.com/aokomoriuta/items/079a63c91bb3531df43d\n",
    "\n",
    "http://docs.nvidia.com/cuda/cusparse/index.html#cusparsecreatematdescr"
   ]
  },
  {
   "cell_type": "code",
   "execution_count": 9,
   "metadata": {},
   "outputs": [
    {
     "name": "stdout",
     "output_type": "stream",
     "text": [
      "The slowest run took 4.25 times longer than the fastest. This could mean that an intermediate result is being cached.\n",
      "1000 loops, best of 3: 595 µs per loop\n"
     ]
    }
   ],
   "source": [
    "%%timeit\n",
    "handl.csrmv( \n",
    "    trans='N', #転置とか共役とか。N:そのまま\n",
    "    m=N, n=N, \n",
    "    nnz = R_sp.nnz, \n",
    "    alpha=1.0, \n",
    "    descr=descr, \n",
    "    csrVal=R_sp.data, csrRowPtr=R_sp.indptr, csrColInd=R_sp.indices,  #疎行列の内容\n",
    "    x=Dinv, \n",
    "    beta=0.0, y=Dinv)"
   ]
  },
  {
   "cell_type": "markdown",
   "metadata": {},
   "source": [
    "時間計測の結果、scipy.sparseの半分くらいの時間で出来ているっぽい。\n",
    "\n",
    "Dinvがnumpy.ndarrayなのは重要。\n",
    "\n",
    "うまく行けばGPU利用により２倍程度の高速化は可能か。"
   ]
  },
  {
   "cell_type": "code",
   "execution_count": 10,
   "metadata": {
    "collapsed": true
   },
   "outputs": [],
   "source": [
    "descr = handl.matdescr(\n",
    "    indexbase = 0, # 0 for 0-based indexing, or 1 for 1-based indexing\n",
    "    diagtype = 'N', #  ‘N’ : diagonal has non-unit elements. ‘U’ : diagonal only contains unit elements.\n",
    "    fillmode = 'L',\n",
    "    \n",
    ") "
   ]
  },
  {
   "cell_type": "code",
   "execution_count": null,
   "metadata": {
    "collapsed": true
   },
   "outputs": [],
   "source": []
  }
 ],
 "metadata": {
  "kernelspec": {
   "display_name": "Python 2",
   "language": "python",
   "name": "python2"
  },
  "language_info": {
   "codemirror_mode": {
    "name": "ipython",
    "version": 2
   },
   "file_extension": ".py",
   "mimetype": "text/x-python",
   "name": "python",
   "nbconvert_exporter": "python",
   "pygments_lexer": "ipython2",
   "version": "2.7.13"
  }
 },
 "nbformat": 4,
 "nbformat_minor": 2
}
