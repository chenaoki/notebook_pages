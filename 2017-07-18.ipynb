{
 "cells": [
  {
   "cell_type": "code",
   "execution_count": 1,
   "metadata": {
    "collapsed": true
   },
   "outputs": [],
   "source": [
    "import numpy as np\n",
    "import matplotlib.pyplot as plt\n",
    "import os\n",
    "import pandas as pd\n",
    "import pickle\n",
    "import copy\n",
    "import cv2\n",
    "import math\n",
    "from matplotlib import animation, rc\n",
    "from IPython.display import HTML\n",
    "%matplotlib inline"
   ]
  },
  {
   "cell_type": "code",
   "execution_count": 2,
   "metadata": {
    "collapsed": true
   },
   "outputs": [],
   "source": [
    "from mpl_toolkits.mplot3d import Axes3D"
   ]
  },
  {
   "cell_type": "code",
   "execution_count": 3,
   "metadata": {
    "collapsed": true
   },
   "outputs": [],
   "source": [
    "exp_dir = \"/mnt/recordings/ExperimentData/\"\n",
    "anl_dir = \"/mnt/recordings/AnalysisResult/Tomii/2017-07-19/\"\n",
    "\n",
    "df_path = anl_dir + \"pv_stim.csv\"\n",
    "\n",
    "pv_thre = 0.7\n"
   ]
  },
  {
   "cell_type": "code",
   "execution_count": 4,
   "metadata": {},
   "outputs": [
    {
     "name": "stdout",
     "output_type": "stream",
     "text": [
      "N: 37\n"
     ]
    }
   ],
   "source": [
    "df = pd.read_csv(df_path)\n",
    "print \"N:\",len(df)\n",
    "#df"
   ]
  },
  {
   "cell_type": "code",
   "execution_count": 10,
   "metadata": {
    "collapsed": true
   },
   "outputs": [],
   "source": [
    "sessions = range(len(df))\n",
    "\n",
    "#sessions =  range(5)\n",
    "\n",
    "#sessions = [3]\n",
    "\n",
    "#sessions = range(6)\n"
   ]
  },
  {
   "cell_type": "code",
   "execution_count": 13,
   "metadata": {
    "scrolled": false
   },
   "outputs": [
    {
     "name": "stdout",
     "output_type": "stream",
     "text": [
      "0::106.50,84.50::295,2.85\n",
      "1::58.50,68.00::354,0.99\n",
      "2::102.00,75.50::405,2.51\n",
      "3::87.00,73.00::355,1.16\n",
      "4::80.33,62.67::325,1.47\n",
      "5::89.50,80.50::380,-2.17\n",
      "6::52.50,26.00::320,-1.04\n",
      "7::41.60,86.20::160,-2.58\n",
      "8::37.67,86.33::140,1.73\n",
      "9::41.50,68.00::190,-0.98\n",
      "10::41.33,88.33::150,2.41\n"
     ]
    },
    {
     "name": "stderr",
     "output_type": "stream",
     "text": [
      "/home/tomii/.pyenv/versions/anaconda2-4.4.0/lib/python2.7/site-packages/ipykernel_launcher.py:46: VisibleDeprecationWarning: converting an array with ndim > 0 to an index will result in an error in the future\n",
      "/home/tomii/.pyenv/versions/anaconda2-4.4.0/lib/python2.7/site-packages/ipykernel_launcher.py:47: VisibleDeprecationWarning: converting an array with ndim > 0 to an index will result in an error in the future\n"
     ]
    },
    {
     "name": "stdout",
     "output_type": "stream",
     "text": [
      "11::49.33,79.67::250,1.30\n",
      "12::35.50,90.50::130,1.13\n",
      "13::37.00,87.50::140,1.60\n",
      "14::40.25,90.00::150,2.46\n",
      "15::56.50,90.50::160,-2.93\n",
      "16::57.60,91.20::170,-2.51\n",
      "17::57.00,89.00::180,-2.15\n",
      "18::55.75,90.00::190,-1.91\n",
      "19::57.25,84.00::200,-1.29\n",
      "20::56.67,75.33::210,-0.50\n",
      "21::60.50,81.50::230,0.01\n",
      "22::63.50,86.50::250,0.42\n",
      "23::69.33,91.67::270,1.13\n",
      "24::68.50,93.50::290,1.55\n",
      "25::57.33,59.67::260,-1.73\n",
      "26::64.33,60.33::250,-2.27\n",
      "27::46.50,74.00::170,-2.60\n",
      "28::78.00,38.50::160,2.24\n",
      "29::40.50,74.50::160,1.55\n",
      "30::54.33,80.67::175,2.97\n",
      "31::99.50,67.50::165,1.76\n",
      "32::55.20,81.80::180,0.22\n",
      "33::56.00,83.50::185,-2.96\n",
      "34::41.50,71.50::180,-2.40\n",
      "35::47.00,64.25::190,-2.30\n",
      "36::48.50,61.50::205,-1.58\n"
     ]
    }
   ],
   "source": [
    "vel_pre = []\n",
    "vel_pst = []\n",
    "\n",
    "for i in sessions:\n",
    "    \n",
    "    s = df.loc[i,:]\n",
    "    #print s\n",
    "    \n",
    "    sample = s[\"sample\"]\n",
    "    session = s[\"session\"]\n",
    "    f_stim = s[\"frame_stim\"]\n",
    "    stim_x = s[\"stim_x\"]\n",
    "    stim_y = s[\"stim_y\"]\n",
    "    \n",
    "    target = \"{0}/{1}/C001H001S{2:0>4}\".format(exp_dir, sample, session)    \n",
    "    save_dir = target.replace(exp_dir, anl_dir)    \n",
    "    \n",
    "    elec_phase = np.loadtxt(os.path.join(save_dir, \"elec_phase.log\"), delimiter=' ')[ f_stim , 1]\n",
    "    \n",
    "    file_path = os.path.join(save_dir, 'center_target.csv')\n",
    "    traj = np.loadtxt(file_path, delimiter=',')\n",
    "    i_stim = np.where( (traj == f_stim)[:,0] )[0]\n",
    "    \n",
    "    pre_y = traj[i_stim, 1][0]\n",
    "    pre_x = traj[i_stim, 2][0]\n",
    "    \n",
    "    if False:\n",
    "        print \"{0}:{1}:{2}:({3},{4}):({5:.1f},{6:.1f}):{7:.2f}:{8:.2f}\".format(\n",
    "            i, save_dir, f_stim, \n",
    "            stim_x,stim_y, \n",
    "            pre_x, pre_y,\n",
    "            elec_phase, distance\n",
    "        )\n",
    "    else:\n",
    "        print \"{0},{1:.2f},{2:.2f},{3},{4:.2f}\".format( i, pre_x, pre_y, f_stim, elec_phase )\n",
    "    \n",
    "    vel = np.zeros((len(traj), 2), dtype=np.float32)\n",
    "    vel[:,0] = traj[:, 0]\n",
    "    vel[0,1] = 0.\n",
    "    for j in range(len(traj)-1): \n",
    "        vel[j+1, 1] = np.linalg.norm( np.array(traj[j+1,2] - traj[j,2], traj[j+1,1] - traj[j,1]) ) / float(s[\"speed\"] * 10e-3)\n",
    "    vel_ave = np.convolve( np.ones(3)/3, vel[:,1])[:-3+1]    \n",
    "    \n",
    "    #print vel.shape, vel_ave.shape, i_stim\n",
    "    \n",
    "    vel_pre.append( np.max( vel_ave[:i_stim+1]) )\n",
    "    vel_pst.append( np.max( vel_ave[i_stim:]) )\n",
    "    \n",
    "    #print 'prop speed:{0}'.format(s[\"speed\"])\n",
    "    #print 'vel_max:{0}'.format(np.max(vel_ave))\n",
    "    \n",
    "\n",
    "    if False:\n",
    "        \n",
    "        traj_2d = np.zeros((128, 128), dtype=np.uint8)\n",
    "\n",
    "        for tr in traj:\n",
    "            f, y, x = tr.astype(np.int8)\n",
    "            traj_2d[ y, x ] = 1        \n",
    "        plt.imshow(traj_2d, cmap='gray')    \n",
    "        #plt.plot(traj[:,1], traj[:,2])\n",
    "        plt.show()\n",
    "    \n",
    "    \n",
    "    if False:\n",
    "    \n",
    "        fig = plt.figure()\n",
    "        ax = fig.add_subplot(111, projection='3d')\n",
    "\n",
    "        ax.plot(traj[:,2], traj[:,1], traj[:,0], color='red')\n",
    "\n",
    "        ax.plot( \n",
    "            np.array([ s[\"stim_x\"], s[\"stim_x\"] ]), \n",
    "            np.array([ s[\"stim_y\"], s[\"stim_y\"] ]), \n",
    "            np.array([np.min(traj[:,0]), np.max(traj[:,0])] ),\n",
    "            color = 'gray'\n",
    "        )\n",
    "\n",
    "        X = np.arange(0, 129, 1e0)\n",
    "        Y = np.arange(0, 129, 1e0)\n",
    "        X,Y = np.meshgrid(X, Y)\n",
    "        Z = np.copy(X)\n",
    "        Z[:,:] = f_stim\n",
    "        ax.plot_surface(X, Y, Z,alpha=.3, cstride=1, rstride=1, linewidth=0, antialiased=True, color='blue')\n",
    "\n",
    "        ax.scatter( \n",
    "            np.array([ s[\"stim_x\"] ]), \n",
    "            np.array([ s[\"stim_y\"] ]), \n",
    "            np.array([f_stim] ), \n",
    "            color='gray',\n",
    "            marker = '+',\n",
    "            s = 90\n",
    "        )\n",
    "\n",
    "        i_stim = np.where( (traj == f_stim)[:,0] )[0]\n",
    "        ax.scatter( \n",
    "            traj[i_stim, 2], \n",
    "            traj[i_stim, 1], \n",
    "            np.array([f_stim] ), \n",
    "            color='red',\n",
    "            marker = '+',\n",
    "            s = 90\n",
    "        )\n",
    "\n",
    "        plt.xlim([0,128])\n",
    "        plt.ylim([0,128])\n",
    "        plt.savefig(os.path.join(save_dir, \"plot_3d.png\"))\n",
    "        plt.show()\n",
    "        \n",
    "    if False:\n",
    "\n",
    "        plt.clf()\n",
    "        plt.plot(vel[:,0], vel[:,1])\n",
    "        plt.plot(vel[:,0],  np.convolve( np.ones(3)/3, vel[:,1])[:-3+1])\n",
    "        #plt.plot( np.array([f_stim, f_stim]), np.array([np.min(vel[:,1]), np.max(vel[:,1])] ) )\n",
    "        plt.plot( np.array([f_stim, f_stim]), np.array([0, 1.0] ) )\n",
    "        plt.plot( np.array([vel[0,0],vel[-1,0]]), np.array([0.15, 0.15] ), linestyle=\"dotted\" )\n",
    "        plt.savefig(os.path.join(save_dir, \"plot_velocity.png\"))\n",
    "        plt.xlim([vel[0,0],vel[-1,0]])\n",
    "        plt.ylim([0,1.0])\n",
    "        plt.show()    \n"
   ]
  },
  {
   "cell_type": "code",
   "execution_count": 324,
   "metadata": {},
   "outputs": [
    {
     "name": "stdout",
     "output_type": "stream",
     "text": [
      "37\n",
      "37\n"
     ]
    },
    {
     "data": {
      "image/png": "[encoded data removed]",
      "text/plain": [
       "<matplotlib.figure.Figure at 0x7f6c48136fd0>"
      ]
     },
     "metadata": {},
     "output_type": "display_data"
    },
    {
     "data": {
      "image/png": "[encoded data removed]",
      "text/plain": [
       "<matplotlib.figure.Figure at 0x7f6c48e47a90>"
      ]
     },
     "metadata": {},
     "output_type": "display_data"
    }
   ],
   "source": [
    "#print vel_pre.shape, vel_pst.shape\n",
    "print len(vel_pre)\n",
    "print len(vel_pst)\n",
    "plt.hist(vel_pre, np.arange(0,1.01,0.05))\n",
    "plt.title(\"histogram of sprial shift speed [ms]\")\n",
    "plt.ylim([0,20])\n",
    "plt.show()\n",
    "plt.hist(vel_pst, np.arange(0,1.01,0.05))\n",
    "plt.title(\"histogram of sprial shift speed [ms]\")\n",
    "plt.ylim([0,20])\n",
    "plt.show()"
   ]
  },
  {
   "cell_type": "code",
   "execution_count": 9,
   "metadata": {
    "collapsed": true
   },
   "outputs": [],
   "source": [
    "shift_thre = 10\n",
    "step_t1 = 8\n",
    "step_t2 = 8\n",
    "step_l = 8"
   ]
  },
  {
   "cell_type": "code",
   "execution_count": 10,
   "metadata": {},
   "outputs": [
    {
     "data": {
      "image/png": "[encoded data removed]",
      "text/plain": [
       "<matplotlib.figure.Figure at 0x7f960c5fa910>"
      ]
     },
     "metadata": {},
     "output_type": "display_data"
    },
    {
     "name": "stdout",
     "output_type": "stream",
     "text": [
      "13.4597958066\n"
     ]
    }
   ],
   "source": [
    "plt.hist(stim_params[:,3], np.arange(1,40,2))\n",
    "plt.title(\"histogram of sprial shift distance\")\n",
    "plt.show()\n",
    "print np.mean(stim_params[:,3])"
   ]
  },
  {
   "cell_type": "code",
   "execution_count": 11,
   "metadata": {
    "collapsed": true
   },
   "outputs": [],
   "source": [
    "data_num = np.zeros((step_t1, step_t2, step_l))\n",
    "data_suc = np.zeros((step_t1, step_t2, step_l))\n",
    "\n",
    "success =(stim_params[:,3] > shift_thre) * 1.0\n",
    "phi = ( ( stim_params[:,0]+np.pi) / ( np.pi / (step_t1/2) ) ).astype(np.int8)\n",
    "theta = (stim_params[:,1] / ( np.pi / (2*step_t2) ) ).astype(np.int8)\n",
    "l = (stim_params[:,2] / ((np.max(stim_params[:,2])+1)/step_l)).astype(np.int8)\n",
    "\n",
    "for n , s in enumerate(success):\n",
    "    i = phi[n]\n",
    "    j = theta[n]\n",
    "    k = l[n]\n",
    "    \n",
    "    data_num[i, j, k] += 1\n",
    "    if s > 0: data_suc[i, j, k] += 1"
   ]
  },
  {
   "cell_type": "code",
   "execution_count": 12,
   "metadata": {},
   "outputs": [
    {
     "data": {
      "image/png": "[encoded data removed]",
      "text/plain": [
       "<matplotlib.figure.Figure at 0x7f960c3f5f10>"
      ]
     },
     "metadata": {},
     "output_type": "display_data"
    }
   ],
   "source": [
    "plt.figure(figsize=(15,15))\n",
    "\n",
    "##--------------------##\n",
    "## phi                     ##\n",
    "##--------------------##\n",
    "\n",
    "num = np.sum(data_num, axis=(1,2))\n",
    "suc = np.sum(data_suc, axis=(1,2))\n",
    "plt.subplot(3,2,1)\n",
    "plt.bar(np.arange(-np.pi, np.pi, 2.*np.pi/step_t1), num, width=2.*np.pi/step_t1)\n",
    "plt.xlim([-np.pi, np.pi])\n",
    "plt.xticks([-np.pi, -np.pi/2, 0, np.pi/2, np.pi],\n",
    "          [r'$-\\pi$', r'$-\\pi/2$', r'$0$', r'$+\\pi/2$', r'$+\\pi$'])\n",
    "#plt.xlabel(r\"$\\theta_{1}$ [rad]\")\n",
    "plt.subplot(3,2,2)\n",
    "plt.bar(np.arange(-np.pi, np.pi, 2.*np.pi/step_t1), (suc/(num+((num==0)*1))), width=2.*np.pi/step_t1)\n",
    "plt.xlim([-np.pi, np.pi])\n",
    "plt.xticks([-np.pi, -np.pi/2, 0, np.pi/2, np.pi],\n",
    "          [r'$-\\pi$', r'$-\\pi/2$', r'$0$', r'$+\\pi/2$', r'$+\\pi$'])\n",
    "plt.ylim([0,1])\n",
    "#plt.xlabel(r\"$\\theta_{1}$ [rad]\")\n",
    "\n",
    "##-----------------------##\n",
    "## theta                     ##\n",
    "##-----------------------##\n",
    "\n",
    "num = np.sum(data_num, axis=(0,2))\n",
    "suc = np.sum(data_suc, axis=(0,2))\n",
    "plt.subplot(3,2,3)\n",
    "plt.bar(np.arange(0, .5*np.pi, .5*np.pi/step_t2), num, width=.5*np.pi/step_t2)\n",
    "plt.xlim([0, .5*np.pi])\n",
    "plt.xticks([0, np.pi/4, np.pi/2],\n",
    "          [r'$0$', r'$+\\pi/4$', r'$+\\pi/2$'])\n",
    "#plt.xlabel(r\"$\\theta_{2}$ [rad]\")\n",
    "plt.subplot(3,2,4)\n",
    "plt.bar(np.arange(0, .5*np.pi, .5*np.pi/step_t2), (suc/(num+((num==0)*1))), width=.5*np.pi/step_t2)\n",
    "plt.xlim([0, .5*np.pi])\n",
    "plt.xticks([0, np.pi/4, np.pi/2], [r'$0$', r'$+\\pi/4$', r'$+\\pi/2$'])\n",
    "#plt.xlabel(r\"$\\theta_{2}$ [rad]\")\n",
    "plt.ylim([0,1])\n",
    "\n",
    "\n",
    "##-----------------##\n",
    "## l                     ##\n",
    "##-----------------##\n",
    "\n",
    "num = np.sum(data_num, axis=(0,1))\n",
    "suc = np.sum(data_suc, axis=(0,1))\n",
    "ticks = [r'{0:.1f}'.format(v) for v in (np.arange(8)+1)*((np.max(stim_params[:,2])+1)/step_l) ]\n",
    "plt.subplot(3,2,5)\n",
    "plt.bar(np.arange(step_l), num, width=0.9, align='center')\n",
    "plt.xticks(np.arange(8), ticks)\n",
    "plt.subplot(3,2,6)\n",
    "plt.bar(np.arange(step_l), (suc/(num+((num==0)*1))), width=0.9, align='center')\n",
    "plt.ylim([0,1])\n",
    "plt.xticks(np.arange(8), ticks)\n",
    "plt.show()\n",
    "\n",
    "\n",
    "## 解析"
   ]
  },
  {
   "cell_type": "code",
   "execution_count": null,
   "metadata": {
    "collapsed": true
   },
   "outputs": [],
   "source": []
  }
 ],
 "metadata": {
  "kernelspec": {
   "display_name": "Python 2",
   "language": "python",
   "name": "python2"
  },
  "language_info": {
   "codemirror_mode": {
    "name": "ipython",
    "version": 2
   },
   "file_extension": ".py",
   "mimetype": "text/x-python",
   "name": "python",
   "nbconvert_exporter": "python",
   "pygments_lexer": "ipython2",
   "version": "2.7.13"
  }
 },
 "nbformat": 4,
 "nbformat_minor": 2
}
