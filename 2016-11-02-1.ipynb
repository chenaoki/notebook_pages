{
 "cells": [
  {
   "cell_type": "code",
   "execution_count": 11,
   "metadata": {
    "collapsed": true
   },
   "outputs": [],
   "source": [
    "import commands\n",
    "import numpy as np\n",
    "import matplotlib.pyplot as plt\n",
    "%matplotlib inline"
   ]
  },
  {
   "cell_type": "code",
   "execution_count": 2,
   "metadata": {
    "collapsed": false
   },
   "outputs": [
    {
     "name": "stdout",
     "output_type": "stream",
     "text": [
      "/Volumes/HD-PLFU3/AnalysisResult//20140911-2/C001H001S0008/shift_phase.npy\n",
      "/Volumes/HD-PLFU3/AnalysisResult//20140911-2/C001H001S0014/shift_phase.npy\n",
      "/Volumes/HD-PLFU3/AnalysisResult//20140911-2/C001H001S0015/shift_phase.npy\n",
      "/Volumes/HD-PLFU3/AnalysisResult//20140911-2/C001H001S0017/shift_phase.npy\n",
      "/Volumes/HD-PLFU3/AnalysisResult//20140911-2/C001H001S0034/shift_phase.npy\n",
      "/Volumes/HD-PLFU3/AnalysisResult//20140911-2/C001H001S0035/shift_phase.npy\n",
      "/Volumes/HD-PLFU3/AnalysisResult//20140911-2/C001H001S0036/shift_phase.npy\n",
      "/Volumes/HD-PLFU3/AnalysisResult//20140911-2/C001H001S0038/shift_phase.npy\n",
      "/Volumes/HD-PLFU3/AnalysisResult//20160907-3/C001H001S0006/shift_phase.npy\n",
      "/Volumes/HD-PLFU3/AnalysisResult//20160907-3/C001H001S0011/shift_phase.npy\n",
      "/Volumes/HD-PLFU3/AnalysisResult//20160907-3/C001H001S0017/shift_phase.npy\n",
      "/Volumes/HD-PLFU3/AnalysisResult//20160907-3/C001H001S0022/shift_phase.npy\n",
      "/Volumes/HD-PLFU3/AnalysisResult//20161019-1/C001H001S0018/shift_phase.npy\n",
      "/Volumes/HD-PLFU3/AnalysisResult//20161019-1/C001H001S0019/shift_phase.npy\n",
      "/Volumes/HD-PLFU3/AnalysisResult//20161019-2/C001H001S0006/shift_phase.npy\n",
      "/Volumes/HD-PLFU3/AnalysisResult//20161019-2/C001H001S0007/shift_phase.npy\n",
      "/Volumes/HD-PLFU3/AnalysisResult//20161019-2/C001H001S0008/shift_phase.npy\n",
      "/Volumes/HD-PLFU3/AnalysisResult//20161019-2/C001H001S0009/shift_phase.npy\n",
      "/Volumes/HD-PLFU3/AnalysisResult//20161019-2/C001H001S0010/shift_phase.npy\n",
      "/Volumes/HD-PLFU3/AnalysisResult//20161019-2/C001H001S0011/shift_phase.npy\n",
      "/Volumes/HD-PLFU3/AnalysisResult//20161019-2/C001H001S0012/shift_phase.npy\n",
      "/Volumes/HD-PLFU3/AnalysisResult//20161019-2/C001H001S0013/shift_phase.npy\n",
      "/Volumes/HD-PLFU3/AnalysisResult//20161019-2/C001H001S0014/shift_phase.npy\n",
      "/Volumes/HD-PLFU3/AnalysisResult//20161019-2/C001H001S0015/shift_phase.npy\n",
      "/Volumes/HD-PLFU3/AnalysisResult//20161019-2/C001H001S0016/shift_phase.npy\n",
      "/Volumes/HD-PLFU3/AnalysisResult//20161019-2/C001H001S0017/shift_phase.npy\n",
      "/Volumes/HD-PLFU3/AnalysisResult//20161019-2/C001H001S0018/shift_phase.npy\n",
      "/Volumes/HD-PLFU3/AnalysisResult//20161019-2/C001H001S0019/shift_phase.npy\n",
      "/Volumes/HD-PLFU3/AnalysisResult//20161019-2/C001H001S0020/shift_phase.npy\n",
      "/Volumes/HD-PLFU3/AnalysisResult//20161019-2/C001H001S0021/shift_phase.npy\n",
      "/Volumes/HD-PLFU3/AnalysisResult//20161019-2/C001H001S0022/shift_phase.npy\n",
      "/Volumes/HD-PLFU3/AnalysisResult//20161019-2/C001H001S0023/shift_phase.npy\n",
      "/Volumes/HD-PLFU3/AnalysisResult//20161019-2/C001H001S0024/shift_phase.npy\n",
      "/Volumes/HD-PLFU3/AnalysisResult//20161019-3/C001H001S0024/shift_phase.npy\n",
      "/Volumes/HD-PLFU3/AnalysisResult//20161019-3/C001H001S0025/shift_phase.npy\n",
      "/Volumes/HD-PLFU3/AnalysisResult//20161021-1/C001H001S0009/shift_phase.npy\n",
      "/Volumes/HD-PLFU3/AnalysisResult//20161021-1/C001H001S0010/shift_phase.npy\n",
      "/Volumes/HD-PLFU3/AnalysisResult//20161021-1/C001H001S0011/shift_phase.npy\n",
      "/Volumes/HD-PLFU3/AnalysisResult//20161021-1/C001H001S0012/shift_phase.npy\n",
      "/Volumes/HD-PLFU3/AnalysisResult//20161021-1/C001H001S0013/shift_phase.npy\n",
      "/Volumes/HD-PLFU3/AnalysisResult//20161021-1/C001H001S0014/shift_phase.npy\n",
      "/Volumes/HD-PLFU3/AnalysisResult//20161021-1/C001H001S0016/shift_phase.npy\n",
      "/Volumes/HD-PLFU3/AnalysisResult//20161021-2/C001H001S0010/shift_phase.npy\n",
      "/Volumes/HD-PLFU3/AnalysisResult//20161021-2/C001H001S0011/shift_phase.npy\n",
      "/Volumes/HD-PLFU3/AnalysisResult//20161021-2/C001H001S0012/shift_phase.npy\n",
      "45\n"
     ]
    }
   ],
   "source": [
    "files = commands.getoutput(\"find /Volumes/HD-PLFU3/AnalysisResult/ -maxdepth 3 -type f -name shift_phase.npy\").split('\\n')\n",
    "for f in files : print f\n",
    "print len(files)"
   ]
  },
  {
   "cell_type": "code",
   "execution_count": 5,
   "metadata": {
    "collapsed": false
   },
   "outputs": [
    {
     "name": "stdout",
     "output_type": "stream",
     "text": [
      "-0.25\n",
      "-0.0215697043185 1.0\n"
     ]
    }
   ],
   "source": [
    "def phase_add(a, b):\n",
    "    a_ = np.cos(a) + np.sin(a)*1j\n",
    "    b_ = np.cos(b) + np.sin(b)*1j\n",
    "    return np.angle(a_*b_)\n",
    "\n",
    "def phase_statics(X):\n",
    "    a = 0\n",
    "    for x in X: a += ( np.cos(x) + np.sin(x)*1j)\n",
    "    a /= len(X)\n",
    "    return np.angle(a), 1-np.abs(a)\n",
    "\n",
    "print phase_add(np.pi/4, -np.pi/2)/np.pi\n",
    "X = np.arange(-np.pi, np.pi, 0.01*np.pi)\n",
    "mean, var = phase_statics(X)\n",
    "print mean, var"
   ]
  },
  {
   "cell_type": "code",
   "execution_count": 6,
   "metadata": {
    "collapsed": false
   },
   "outputs": [
    {
     "name": "stdout",
     "output_type": "stream",
     "text": [
      "(2120,)\n"
     ]
    }
   ],
   "source": [
    "list_data = [ np.load(f) for f in files]\n",
    "list_phase = []\n",
    "for d in list_data : list_phase.extend(list(d))\n",
    "list_phase = np.array(list_phase)\n",
    "print list_phase.shape"
   ]
  },
  {
   "cell_type": "code",
   "execution_count": 14,
   "metadata": {
    "collapsed": false
   },
   "outputs": [
    {
     "name": "stdout",
     "output_type": "stream",
     "text": [
      "[ 2.27261714  2.54550033  2.07590368 ...,  1.54890451  1.96134066\n",
      "  2.64478515]\n",
      "(2120,)\n",
      "mean 2.50245428816\n",
      "var 0.33566031098\n"
     ]
    },
    {
     "data": {
      "image/png": "[encoded data removed]",
      "text/plain": [
       "<matplotlib.figure.Figure at 0x107f97a90>"
      ]
     },
     "metadata": {},
     "output_type": "display_data"
    }
   ],
   "source": [
    "print list_phase\n",
    "print list_phase.shape\n",
    "\n",
    "mean, var = phase_statics(list_phase)\n",
    "print \"mean\", mean\n",
    "print \"var\", var\n",
    "\n",
    "hist_phase, _, _ = plt.hist(list_phase, np.arange(-np.pi, np.pi+0.05*np.pi, 0.1*np.pi))\n",
    "plt.xlim(-np.pi, np.pi)\n",
    "plt.xlabel(\"Phase [rad]\")\n",
    "plt.ylabel(\"#Pixels\")\n",
    "plt.savefig(\"/Users/tomii/tmp/AnalysisResult/phase_shift_total.png\")\n",
    "plt.show()"
   ]
  },
  {
   "cell_type": "code",
   "execution_count": 16,
   "metadata": {
    "collapsed": false
   },
   "outputs": [
    {
     "name": "stdout",
     "output_type": "stream",
     "text": [
      "[ 181.   88.   47.   37.   20.   27.   24.   23.   12.   12.   24.   19.\n",
      "   15.   41.  122.  188.  337.  289.  289.  325.]\n"
     ]
    },
    {
     "data": {
      "image/png": "[encoded data removed]",
      "text/plain": [
       "<matplotlib.figure.Figure at 0x10dd91910>"
      ]
     },
     "metadata": {},
     "output_type": "display_data"
    }
   ],
   "source": [
    "def getAngleDensityMap(hist_phase, size = 512):\n",
    "    img = np.zeros([size, size])\n",
    "    center = [size / 2, size/2]\n",
    "    print hist_phase\n",
    "    for i in range(size): # y \n",
    "        for j in range(size): # x\n",
    "            pos = ( j - center[1] ) + 1j*( i - center[0] )\n",
    "            if np.abs(pos) < size / 2:\n",
    "                img[i,j] = hist_phase[int( - ( np.angle( pos ) + np.pi ) / (0.1*np.pi) )]\n",
    "    return img\n",
    "\n",
    "img = getAngleDensityMap(hist_phase)\n",
    "\n",
    "plt.imshow(img, cmap='gray')\n",
    "plt.colorbar()\n",
    "plt.show()"
   ]
  },
  {
   "cell_type": "code",
   "execution_count": 61,
   "metadata": {
    "collapsed": false
   },
   "outputs": [
    {
     "name": "stdout",
     "output_type": "stream",
     "text": [
      "(45,)\n"
     ]
    },
    {
     "data": {
      "image/png": "[encoded data removed]",
      "text/plain": [
       "<matplotlib.figure.Figure at 0x10e929690>"
      ]
     },
     "metadata": {},
     "output_type": "display_data"
    }
   ],
   "source": [
    "means = np.array([phase_statics(d)[0] for d in list_data])\n",
    "print means.shape\n",
    "plt.hist(means, np.arange(-np.pi, np.pi+0.05*np.pi, np.pi*0.1))\n",
    "plt.xlim(-np.pi, np.pi)\n",
    "plt.xlabel(\"Phase [rad]\")\n",
    "plt.ylabel(\"#Stimulation case\")\n",
    "plt.savefig(\"/Users/tomii/tmp/AnalysisResult/phase_shift_means.png\")"
   ]
  }
 ],
 "metadata": {
  "kernelspec": {
   "display_name": "Python 2",
   "language": "python",
   "name": "python2"
  },
  "language_info": {
   "codemirror_mode": {
    "name": "ipython",
    "version": 2
   },
   "file_extension": ".py",
   "mimetype": "text/x-python",
   "name": "python",
   "nbconvert_exporter": "python",
   "pygments_lexer": "ipython2",
   "version": "2.7.11"
  }
 },
 "nbformat": 4,
 "nbformat_minor": 0
}
