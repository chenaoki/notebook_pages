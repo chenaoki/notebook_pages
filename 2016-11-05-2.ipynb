{
 "cells": [
  {
   "cell_type": "code",
   "execution_count": 7,
   "metadata": {
    "collapsed": false
   },
   "outputs": [],
   "source": [
    "from mpl_toolkits.mplot3d import Axes3D\n",
    "import numpy as np\n",
    "import pandas as pd\n",
    "import matplotlib.pyplot as plt\n",
    "%matplotlib inline"
   ]
  },
  {
   "cell_type": "code",
   "execution_count": 8,
   "metadata": {
    "collapsed": true
   },
   "outputs": [],
   "source": [
    "def phase_add(a, b):\n",
    "    a_ = np.cos(a) + np.sin(a)*1j\n",
    "    b_ = np.cos(b) + np.sin(b)*1j\n",
    "    return np.angle(a_*b_)\n",
    "\n",
    "def phase_statics(X):\n",
    "    a = 0\n",
    "    for x in X: a += ( np.cos(x) + np.sin(x)*1j)\n",
    "    a /= len(X)\n",
    "    return np.angle(a), 1-np.abs(a)\n",
    "\n",
    "def getAngleDensityMap(hist_phase, size = 512):\n",
    "    img = np.zeros([size, size])\n",
    "    center = [size / 2, size/2]\n",
    "    print hist_phase\n",
    "    for i in range(size): # y \n",
    "        for j in range(size): # x\n",
    "            pos = ( j - center[1] ) + 1j*( i - center[0] )\n",
    "            if np.abs(pos) < size / 2:\n",
    "                img[i,j] = hist_phase[int( - ( np.angle( pos ) + np.pi ) / (0.1*np.pi) )]\n",
    "    return img\n"
   ]
  },
  {
   "cell_type": "code",
   "execution_count": 9,
   "metadata": {
    "collapsed": true
   },
   "outputs": [],
   "source": [
    "data_dir = \"/Volumes/HD-PLFU3/AnalysisResult/\"\n",
    "df_path = \"/Users/tomii/tmp/AnalysisResult/pv_stim_pandas.csv\"\n",
    "winrad = 4"
   ]
  },
  {
   "cell_type": "code",
   "execution_count": 10,
   "metadata": {
    "collapsed": false
   },
   "outputs": [
    {
     "name": "stdout",
     "output_type": "stream",
     "text": [
      "0 20140911-2 8 [ 1.23525972 -2.08003501  8.60232527]\n",
      "1 20140911-2 14 [  0.63330154   0.93936247  17.88854382]\n",
      "2 20140911-2 15 [ 0.78260306 -2.96347845  7.07106781]\n",
      "3 20140911-2 17 [ -0.42930068  -3.4646085   13.34166406]\n",
      "4 20140911-2 34 [ 0.98019815 -2.03245191  2.23606798]\n",
      "5 20140911-2 35 [  1.08595941  -2.21556272  38.94868419]\n",
      "6 20140911-2 36 [ -0.46645058  -3.08410212  13.15294644]\n",
      "7 20140911-2 38 [  0.41995919   0.2943393   15.5241747 ]\n",
      "8 20160907-3 6 [ -1.00477474  -4.09834636  14.14213562]\n",
      "9 20160907-3 10 [  2.60706737  -1.59361519  24.59674775]\n",
      "10 20160907-3 11 [-2.48086182 -4.03572208  3.60555128]\n",
      "11 20160907-3 17 [-2.84469657 -1.45209099  9.48683298]\n",
      "12 20160907-3 22 [  1.17900728  -0.76977443  34.6554469 ]\n",
      "13 20161019-1 18 [-2.71337265 -2.64152391  5.        ]\n",
      "14 20161019-1 19 [ -1.71351379  -3.31626485  23.70653918]\n",
      "15 20161019-2 6 [ -1.96593969  -2.2794226   38.05259518]\n",
      "16 20161019-2 7 [  1.42222355  -2.66070537  27.31300057]\n",
      "17 20161019-2 8 [  0.30489778  -2.53086669  24.8394847 ]\n",
      "18 20161019-2 9 [ -2.93230223  -1.9513027   35.05709629]\n",
      "19 20161019-2 10 [  0.80664284  -2.66070537  23.85372088]\n",
      "20 20161019-2 11 [ 1.19027011 -2.8198421   4.47213595]\n",
      "21 20161019-2 12 [ 0.37523625 -2.50508444  7.61577311]\n",
      "22 20161019-2 13 [  0.3163855   -2.58728516  22.8035085 ]\n",
      "23 20161019-2 14 [  0.39168574  -2.67794504  26.2488095 ]\n",
      "24 20161019-2 15 [  2.07192915  -3.25646926  30.88689042]\n",
      "25 20161019-2 16 [  2.35374954  -3.32470347  34.17601498]\n",
      "26 20161019-2 17 [  2.97806321  -3.34698804  20.        ]\n",
      "27 20161019-2 18 [-2.80538421 -3.32144615  7.28010989]\n",
      "28 20161019-2 19 [-2.42557414 -3.4276441   3.60555128]\n",
      "29 20161019-2 20 [-1.66214547 -3.60524026  4.47213595]\n",
      "30 20161019-2 21 [-1.00863603 -3.58143524  7.81024968]\n",
      "31 20161019-2 22 [-0.19489023 -3.60524026  7.21110255]\n",
      "32 20161019-2 23 [ 0.56625714 -3.72959526  2.23606798]\n",
      "33 20161019-2 24 [  1.06298427  -3.67654773  15.8113883 ]\n",
      "34 20161019-3 24 [ -1.56473108   0.31077706  16.55294536]\n",
      "35 20161019-3 25 [ -2.04189594   0.55575572  25.8069758 ]\n",
      "36 20161021-1 9 [  2.08116549  -1.66961978  22.13594362]\n",
      "37 20161021-1 10 [  1.39831119  -2.14203909  26.62705391]\n",
      "38 20161021-1 11 [  1.61780287  -1.956042    26.92582404]\n",
      "39 20161021-1 12 [  1.80417312  -2.08917833  24.18677324]\n",
      "40 20161021-1 13 [  1.7128814   -1.67188222  30.3644529 ]\n",
      "41 20161021-1 14 [  1.90769356  -1.94583828  20.22374842]\n",
      "42 20161021-1 16 [ 2.17814431 -2.70492672  3.60555128]\n",
      "43 20161021-2 10 [-0.12797664 -0.72101949  9.21954446]\n",
      "44 20161021-2 11 [-0.07844631 -1.53866453  4.47213595]\n",
      "45 20161021-2 12 [  0.14831675  -1.71216026  15.8113883 ]\n"
     ]
    },
    {
     "name": "stderr",
     "output_type": "stream",
     "text": [
      "/usr/local/lib/python2.7/site-packages/IPython/kernel/__main__.py:10: VisibleDeprecationWarning: using a non-integer number instead of an integer will result in an error in the future\n"
     ]
    }
   ],
   "source": [
    "df = pd.read_csv(df_path)\n",
    "data = np.zeros([len(df), 3])\n",
    "for i in range(len(df)):\n",
    "    s = df.loc[i,:]    \n",
    "    sess_dir = data_dir+\"{0}/C001H001S{1:0>4}/\".format(s.sample, s.session)\n",
    "    #print i, sess_dir\n",
    "    \n",
    "    pmap_data = np.load(sess_dir+'/pmap.npy')\n",
    "    \n",
    "    phases = pmap_data[s.frame_start, s.stim_x - winrad:s.stim_x+winrad, s.stim_y - winrad:s.stim_y+winrad]\n",
    "    phases = phases.flatten()\n",
    "    stim_point_phase, _ = phase_statics(phases)\n",
    "    stim_point_angle = np.angle((s.stim_x - s.pre_x) + 1j*(s.stim_y - s.pre_y)) - s.fb_angle\n",
    "    shift = np.abs(((s.pst_x - s.pre_x) + 1j*(s.pst_y - s.pre_y)))\n",
    "    \n",
    "    d = np.array([stim_point_phase, stim_point_angle, shift])\n",
    "    data[i,:] = d\n",
    "    print i, s.sample, s.session, d"
   ]
  },
  {
   "cell_type": "code",
   "execution_count": 11,
   "metadata": {
    "collapsed": false
   },
   "outputs": [
    {
     "name": "stdout",
     "output_type": "stream",
     "text": [
      "        sample  session  frame_start\n",
      "10  20160907-3       11          400\n",
      "11  20160907-3       17          360\n",
      "13  20161019-1       18          370\n",
      "14  20161019-1       19          370\n",
      "15  20161019-2        6          170\n",
      "18  20161019-2        9          190\n",
      "27  20161019-2       18          190\n",
      "28  20161019-2       19          200\n",
      "29  20161019-2       20          210\n",
      "35  20161019-3       25          255\n",
      "[[[ -2.48086182  -4.03572208   3.60555128]\n",
      "  [ -2.84469657  -1.45209099   9.48683298]\n",
      "  [ -2.71337265  -2.64152391   5.        ]\n",
      "  [ -1.71351379  -3.31626485  23.70653918]\n",
      "  [ -1.96593969  -2.2794226   38.05259518]\n",
      "  [ -2.93230223  -1.9513027   35.05709629]\n",
      "  [ -2.80538421  -3.32144615   7.28010989]\n",
      "  [ -2.42557414  -3.4276441    3.60555128]\n",
      "  [ -1.66214547  -3.60524026   4.47213595]\n",
      "  [ -2.04189594   0.55575572  25.8069758 ]]]\n"
     ]
    }
   ],
   "source": [
    "print df.loc[list(np.where(data[:,0]   <  -0.5*np.pi )[0]), [\"sample\", \"session\", \"frame_start\"]]\n",
    "print data[np.where(data[:,0]   <  -0.5*np.pi ), :]"
   ]
  },
  {
   "cell_type": "code",
   "execution_count": 12,
   "metadata": {
    "collapsed": false
   },
   "outputs": [
    {
     "name": "stderr",
     "output_type": "stream",
     "text": [
      "/usr/local/lib/python2.7/site-packages/matplotlib/collections.py:571: FutureWarning: elementwise comparison failed; returning scalar instead, but in the future will perform elementwise comparison\n",
      "  if self._edgecolors == str('face'):\n"
     ]
    },
    {
     "data": {
      "image/png": "[encoded data removed]",
      "text/plain": [
       "<matplotlib.figure.Figure at 0x10acfc610>"
      ]
     },
     "metadata": {},
     "output_type": "display_data"
    }
   ],
   "source": [
    "#thre = np.max(data[:,2])*0.5\n",
    "thre = np.mean(data[:,2])\n",
    "\n",
    "x =  np.cos(data[:,0])\n",
    "y = np.sin(data[:,0])\n",
    "x *= np.absolute(np.cos(data[:,1]))\n",
    "y *= np.absolute(np.cos(data[:,1]))\n",
    "\n",
    "#rgb = (np.c_[data[:,2], data[:,2], data[:,2]] > thre)*1.0\n",
    "rgb = np.c_[data[:,2], data[:,2], data[:,2]] / np.max(data[:,2])\n",
    "#rgb[:,1] = 0.0\n",
    "#rgb[:,2] = 1-rgb[:,0]\n",
    "\n",
    "fig, ax = plt.subplots()\n",
    "ax.scatter(x, y, s=100, facecolors=rgb)\n",
    "plt.xlim([-1.5,1.5])\n",
    "plt.ylim([-1.5,1.5])\n",
    "plt.show()"
   ]
  },
  {
   "cell_type": "code",
   "execution_count": 15,
   "metadata": {
    "collapsed": false
   },
   "outputs": [
    {
     "data": {
      "text/plain": [
       "-0.41614683654714241"
      ]
     },
     "execution_count": 15,
     "metadata": {},
     "output_type": "execute_result"
    }
   ],
   "source": [
    "np.cos(2.0)"
   ]
  },
  {
   "cell_type": "code",
   "execution_count": 14,
   "metadata": {
    "collapsed": false
   },
   "outputs": [
    {
     "data": {
      "text/plain": [
       "38.948684188300895"
      ]
     },
     "execution_count": 14,
     "metadata": {},
     "output_type": "execute_result"
    }
   ],
   "source": [
    "np.max(data[:,2])"
   ]
  }
 ],
 "metadata": {
  "kernelspec": {
   "display_name": "Python 2",
   "language": "python",
   "name": "python2"
  },
  "language_info": {
   "codemirror_mode": {
    "name": "ipython",
    "version": 2
   },
   "file_extension": ".py",
   "mimetype": "text/x-python",
   "name": "python",
   "nbconvert_exporter": "python",
   "pygments_lexer": "ipython2",
   "version": "2.7.11"
  }
 },
 "nbformat": 4,
 "nbformat_minor": 0
}
