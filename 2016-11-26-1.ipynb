{
 "cells": [
  {
   "cell_type": "code",
   "execution_count": 7,
   "metadata": {
    "collapsed": false
   },
   "outputs": [],
   "source": [
    "from mpl_toolkits.mplot3d import Axes3D\n",
    "import numpy as np\n",
    "import pandas as pd\n",
    "import matplotlib.pyplot as plt\n",
    "import math\n",
    "%matplotlib inline"
   ]
  },
  {
   "cell_type": "code",
   "execution_count": 3,
   "metadata": {
    "collapsed": true
   },
   "outputs": [],
   "source": [
    "data_dir = \"/Volumes/HD-PLFU3/AnalysisResult/\"\n",
    "df_path = \"/Users/tomii/tmp/AnalysisResult/pv_stim_pandas.csv\"\n",
    "winrad = 4"
   ]
  },
  {
   "cell_type": "code",
   "execution_count": 4,
   "metadata": {
    "collapsed": false
   },
   "outputs": [],
   "source": [
    "df = pd.read_csv(df_path)"
   ]
  },
  {
   "cell_type": "code",
   "execution_count": 8,
   "metadata": {
    "collapsed": false
   },
   "outputs": [],
   "source": [
    "data = np.zeros([len(df), 4])\n",
    "\n",
    "def phase_comp(p):\n",
    "    return math.atan2(np.absolute(np.sin(p)), np.absolute(np.cos(p)))\n",
    "\n",
    "for i in range(len(df)):\n",
    "    s = df.loc[i,:]    \n",
    "\n",
    "    theta_1 = s.stim_phase\n",
    "    \n",
    "    vec_pre = (s.stim_x - s.pre_x) + 1j*(s.stim_y - s.pre_y)\n",
    "    theta_2 = phase_comp(np.angle(vec_pre) - s.fb_angle)\n",
    "    l = np.abs(vec_pre) * 1000 / s.speed\n",
    "    \n",
    "    shift = np.abs(((s.pst_x - s.pre_x) + 1j*(s.pst_y - s.pre_y))) * 1000 / s.speed\n",
    "    \n",
    "    d = np.array([theta_1, theta_2, l, shift])\n",
    "    data[i,:] = d\n",
    "    #print i, s.sample, s.session, d"
   ]
  },
  {
   "cell_type": "code",
   "execution_count": 9,
   "metadata": {
    "collapsed": false
   },
   "outputs": [
    {
     "name": "stdout",
     "output_type": "stream",
     "text": [
      "        sample  session  frame_start\n",
      "10  20160907-3       11          400\n",
      "11  20160907-3       17          360\n",
      "13  20161019-1       18          370\n",
      "14  20161019-1       19          370\n",
      "15  20161019-2        6          170\n",
      "18  20161019-2        9          190\n",
      "27  20161019-2       18          190\n",
      "28  20161019-2       19          200\n",
      "29  20161019-2       20          210\n",
      "35  20161019-3       25          255\n",
      "[[[ -2.48086182   0.89412943  17.54116039   2.77350098]\n",
      "  [ -2.84469657   1.45209099  22.42673806   7.29756383]\n",
      "  [ -2.71337265   0.50006874  30.18461713   8.33333333]\n",
      "  [ -1.71351379   0.1746722   16.49915823  39.51089864]\n",
      "  [ -1.96593969   0.86217005  18.43908891  25.36839679]\n",
      "  [ -2.93230223   1.19028995   7.18021974  23.37139752]\n",
      "  [ -2.80538421   0.1798535   14.90711985   4.85340659]\n",
      "  [ -2.42557414   0.28605144  11.81336343   2.40370085]\n",
      "  [ -1.66214547   0.46364761   7.45355992   2.98142397]\n",
      "  [ -2.04189594   0.55575572  16.66666667  28.67441756]]]\n"
     ]
    }
   ],
   "source": [
    "print df.loc[list(np.where(data[:,0]   <  -0.5*np.pi )[0]), [\"sample\", \"session\", \"frame_start\"]]\n",
    "print data[np.where(data[:,0]   <  -0.5*np.pi ), :]"
   ]
  },
  {
   "cell_type": "code",
   "execution_count": 10,
   "metadata": {
    "collapsed": false
   },
   "outputs": [
    {
     "name": "stderr",
     "output_type": "stream",
     "text": [
      "/usr/local/lib/python2.7/site-packages/matplotlib/collections.py:571: FutureWarning: elementwise comparison failed; returning scalar instead, but in the future will perform elementwise comparison\n",
      "  if self._edgecolors == str('face'):\n"
     ]
    },
    {
     "data": {
      "image/png": "[encoded data removed]",
      "text/plain": [
       "<matplotlib.figure.Figure at 0x10e319750>"
      ]
     },
     "metadata": {},
     "output_type": "display_data"
    }
   ],
   "source": [
    "#thre = np.max(data[:,2])*0.5\n",
    "thre = np.mean(data[:,2])\n",
    "\n",
    "x =  np.cos(data[:,0])\n",
    "y = np.sin(data[:,0])\n",
    "x *= np.absolute(np.cos(data[:,1]))\n",
    "y *= np.absolute(np.cos(data[:,1]))\n",
    "\n",
    "#rgb = (np.c_[data[:,2], data[:,2], data[:,2]] > thre)*1.0\n",
    "rgb = np.c_[data[:,2], data[:,2], data[:,2]] / np.max(data[:,2])\n",
    "#rgb[:,1] = 0.0\n",
    "#rgb[:,2] = 1-rgb[:,0]\n",
    "\n",
    "fig, ax = plt.subplots()\n",
    "ax.scatter(x, y, s=100, facecolors=rgb)\n",
    "plt.xlim([-1.5,1.5])\n",
    "plt.ylim([-1.5,1.5])\n",
    "plt.show()"
   ]
  },
  {
   "cell_type": "code",
   "execution_count": 11,
   "metadata": {
    "collapsed": false
   },
   "outputs": [
    {
     "data": {
      "text/plain": [
       "30.184617127124724"
      ]
     },
     "execution_count": 11,
     "metadata": {},
     "output_type": "execute_result"
    }
   ],
   "source": [
    "np.max(data[:,2])"
   ]
  }
 ],
 "metadata": {
  "kernelspec": {
   "display_name": "Python 2",
   "language": "python",
   "name": "python2"
  },
  "language_info": {
   "codemirror_mode": {
    "name": "ipython",
    "version": 2
   },
   "file_extension": ".py",
   "mimetype": "text/x-python",
   "name": "python",
   "nbconvert_exporter": "python",
   "pygments_lexer": "ipython2",
   "version": "2.7.11"
  }
 },
 "nbformat": 4,
 "nbformat_minor": 0
}
