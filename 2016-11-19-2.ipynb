{
 "cells": [
  {
   "cell_type": "code",
   "execution_count": 1,
   "metadata": {
    "collapsed": false
   },
   "outputs": [],
   "source": [
    "from mpl_toolkits.mplot3d import Axes3D\n",
    "import numpy as np\n",
    "import pandas as pd\n",
    "import matplotlib.pyplot as plt\n",
    "import math\n",
    "%matplotlib inline"
   ]
  },
  {
   "cell_type": "code",
   "execution_count": 2,
   "metadata": {
    "collapsed": true
   },
   "outputs": [],
   "source": [
    "df_path = \"/Users/tomii/tmp/AnalysisResult/pv_stim_pandas.csv\""
   ]
  },
  {
   "cell_type": "code",
   "execution_count": 3,
   "metadata": {
    "collapsed": false,
    "scrolled": true
   },
   "outputs": [],
   "source": [
    "df = pd.read_csv(df_path)"
   ]
  },
  {
   "cell_type": "code",
   "execution_count": 4,
   "metadata": {
    "collapsed": false
   },
   "outputs": [],
   "source": [
    "data = np.zeros([len(df), 4])\n",
    "\n",
    "def phase_comp(p):\n",
    "    return math.atan2(np.absolute(np.sin(p)), np.absolute(np.cos(p)))\n",
    "\n",
    "for i in range(len(df)):\n",
    "    s = df.loc[i,:]    \n",
    "\n",
    "    theta_1 = s.stim_phase\n",
    "    vec_pre = (s.stim_x - s.pre_x) + 1j*(s.stim_y - s.pre_y)\n",
    "    theta_2 = phase_comp(np.angle(vec_pre) - s.fb_angle)\n",
    "    shift = np.abs(((s.pst_x - s.pre_x) + 1j*(s.pst_y - s.pre_y)))\n",
    "    \n",
    "    d = np.array([theta_1, np.abs(vec_pre), theta_2, shift])\n",
    "    data[i,:] = d\n",
    "    #print i, s.sample, s.session, d\n",
    "\n",
    "#plt.hist(data[:,3], np.arange(1,40,2))\n",
    "#plt.title(\"histogram of sprial shift distance\")\n",
    "#plt.show()"
   ]
  },
  {
   "cell_type": "code",
   "execution_count": 5,
   "metadata": {
    "collapsed": true
   },
   "outputs": [],
   "source": [
    "thre = 20\n",
    "step_t1 = 8\n",
    "step_t2 = 4\n",
    "step_l = 3\n",
    "\n",
    "success =(data[:,3] > thre) * 1.0\n",
    "theta_1 = ( ( data[:,0]+np.pi) / ( np.pi / (step_t1/2) ) ).astype(np.int8)\n",
    "theta_2 = (data[:,2] / ( np.pi / (2*step_t2) ) ).astype(np.int8)\n",
    "l = (data[:,1] / ((np.max(data[:,1])+step_l)/step_l)).astype(np.int8)"
   ]
  },
  {
   "cell_type": "code",
   "execution_count": 6,
   "metadata": {
    "collapsed": false
   },
   "outputs": [],
   "source": [
    "data_num = np.zeros((step_t1, step_t2, step_l))\n",
    "data_suc = np.zeros((step_t1, step_t2, step_l))\n",
    "for n , s in enumerate(success):\n",
    "    i = theta_1[n]\n",
    "    j = theta_2[n]\n",
    "    k = l[n]\n",
    "    \n",
    "    data_num[i, j, k] += 1\n",
    "    if s > 0: data_suc[i, j, k] += 1"
   ]
  },
  {
   "cell_type": "code",
   "execution_count": 30,
   "metadata": {
    "collapsed": false
   },
   "outputs": [
    {
     "data": {
      "image/png": "[encoded data removed]",
      "text/plain": [
       "<matplotlib.figure.Figure at 0x10da8f410>"
      ]
     },
     "metadata": {},
     "output_type": "display_data"
    }
   ],
   "source": [
    "plt.figure(figsize=(10,10))\n",
    "\n",
    "num = np.sum(data_num, axis=(1,2))\n",
    "suc = np.sum(data_suc, axis=(1,2))\n",
    "plt.subplot(3,2,1)\n",
    "plt.bar(np.arange(-np.pi, np.pi, 2.*np.pi/step_t1), num, width=2.*np.pi/step_t1)\n",
    "plt.xlim([-np.pi, np.pi])\n",
    "plt.xticks([-np.pi, -np.pi/2, 0, np.pi/2, np.pi],\n",
    "          [r'$-\\pi$', r'$-\\pi/2$', r'$0$', r'$+\\pi/2$', r'$+\\pi$'])\n",
    "plt.title(\"frequency\")\n",
    "plt.subplot(3,2,2)\n",
    "plt.bar(np.arange(-np.pi, np.pi, 2.*np.pi/step_t1), (suc/(num+((num==0)*1))), width=2.*np.pi/step_t1)\n",
    "plt.xlim([-np.pi, np.pi])\n",
    "plt.xticks([-np.pi, -np.pi/2, 0, np.pi/2, np.pi],\n",
    "          [r'$-\\pi$', r'$-\\pi/2$', r'$0$', r'$+\\pi/2$', r'$+\\pi$'])\n",
    "plt.ylim([0,1])\n",
    "plt.title(\"success rate\")\n",
    "\n",
    "num = np.sum(data_num, axis=(0,2))\n",
    "suc = np.sum(data_suc, axis=(0,2))\n",
    "plt.subplot(3,2,3)\n",
    "plt.bar(np.arange(0, .5*np.pi, .5*np.pi/step_t2), num, width=.5*np.pi/step_t2)\n",
    "plt.xlim([0, .5*np.pi])\n",
    "plt.xticks([0, np.pi/4, np.pi/2],\n",
    "          [r'$0$', r'$+\\pi/4$', r'$+\\pi/2$'])\n",
    "plt.subplot(3,2,4)\n",
    "plt.bar(np.arange(0, .5*np.pi, .5*np.pi/step_t2), (suc/(num+((num==0)*1))), width=.5*np.pi/step_t2)\n",
    "plt.xlim([0, .5*np.pi])\n",
    "plt.xticks([0, np.pi/4, np.pi/2],\n",
    "          [r'$0$', r'$+\\pi/4$', r'$+\\pi/2$'])\n",
    "plt.ylim([0,1])\n",
    "\n",
    "\n",
    "num = np.sum(data_num, axis=(0,1))\n",
    "suc = np.sum(data_suc, axis=(0,1))\n",
    "plt.subplot(3,2,5)\n",
    "plt.bar(np.arange(step_l), num, width=0.9, align='center')\n",
    "plt.xticks([0, 1, 2],\n",
    "          [r'$near$', r'$middle$', r'$far$'])\n",
    "plt.subplot(3,2,6)\n",
    "plt.bar(np.arange(step_l), (suc/(num+((num==0)*1))), width=0.9, align='center')\n",
    "plt.ylim([0,1])\n",
    "plt.xticks([0, 1, 2],\n",
    "          [r'$near$', r'$middle$', r'$far$'])\n",
    "\n",
    "plt.show()\n"
   ]
  },
  {
   "cell_type": "code",
   "execution_count": null,
   "metadata": {
    "collapsed": true
   },
   "outputs": [],
   "source": []
  }
 ],
 "metadata": {
  "kernelspec": {
   "display_name": "Python 2",
   "language": "python",
   "name": "python2"
  },
  "language_info": {
   "codemirror_mode": {
    "name": "ipython",
    "version": 2
   },
   "file_extension": ".py",
   "mimetype": "text/x-python",
   "name": "python",
   "nbconvert_exporter": "python",
   "pygments_lexer": "ipython2",
   "version": "2.7.11"
  }
 },
 "nbformat": 4,
 "nbformat_minor": 0
}
