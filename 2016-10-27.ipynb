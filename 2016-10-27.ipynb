{
 "cells": [
  {
   "cell_type": "code",
   "execution_count": 48,
   "metadata": {
    "collapsed": false
   },
   "outputs": [],
   "source": [
    "from mpl_toolkits.mplot3d import Axes3D\n",
    "import numpy as np\n",
    "import matplotlib.pyplot as plt\n",
    "%matplotlib inline\n",
    "data_dir = \"/Volumes/HD-PLFU3/AnalysisResult/\""
   ]
  },
  {
   "cell_type": "code",
   "execution_count": 49,
   "metadata": {
    "collapsed": false
   },
   "outputs": [
    {
     "name": "stdout",
     "output_type": "stream",
     "text": [
      "00  :  20140911-2  :  8  :  [0, 128, 60, 128]\n",
      "01  :  20140911-2  :  14  :  [30, 128, 0, 128]\n",
      "02  :  20140911-2  :  15  :  [0, 128, 0, 128]\n",
      "03  :  20140911-2  :  17  :  [0, 128, 0, 128]\n",
      "04  :  20140911-2  :  34  :  [70, 128, 0, 128]\n",
      "05  :  20140911-2  :  35  :  [0, 128, 0, 128]\n",
      "06  :  20140911-2  :  36  :  [0, 128, 0, 128]\n",
      "07  :  20140911-2  :  38  :  [0, 128, 0, 128]\n",
      "08  :  20160907-3  :  6  :  [0, 128, 0, 128]\n",
      "09  :  20160907-3  :  10  :  [0, 128, 0, 128]\n",
      "10  :  20160907-3  :  11  :  [0, 128, 0, 128]\n",
      "11  :  20160907-3  :  17  :  [0, 128, 0, 128]\n",
      "12  :  20160907-3  :  22  :  [0, 128, 0, 128]\n",
      "13  :  20161019-1  :  18  :  [90, 128, 0, 128]\n",
      "14  :  20161019-1  :  19  :  [50, 128, 0, 128]\n",
      "15  :  20161019-2  :  6  :  [0, 128, 0, 128]\n",
      "16  :  20161019-2  :  7  :  [0, 128, 0, 128]\n",
      "17  :  20161019-2  :  8  :  [0, 128, 0, 128]\n",
      "18  :  20161019-2  :  9  :  [0, 128, 0, 128]\n",
      "19  :  20161019-2  :  10  :  [0, 128, 0, 128]\n",
      "20  :  20161019-2  :  11  :  [0, 128, 0, 128]\n",
      "21  :  20161019-2  :  12  :  [0, 128, 0, 128]\n",
      "22  :  20161019-2  :  13  :  [0, 128, 0, 128]\n",
      "23  :  20161019-2  :  14  :  [0, 128, 0, 128]\n",
      "24  :  20161019-2  :  15  :  [0, 128, 0, 128]\n",
      "25  :  20161019-2  :  16  :  [0, 128, 0, 128]\n",
      "26  :  20161019-2  :  17  :  [0, 128, 0, 128]\n",
      "27  :  20161019-2  :  18  :  [0, 128, 0, 128]\n",
      "28  :  20161019-2  :  19  :  [0, 128, 0, 128]\n",
      "29  :  20161019-2  :  20  :  [0, 128, 0, 128]\n",
      "30  :  20161019-2  :  21  :  [0, 128, 0, 128]\n",
      "31  :  20161019-2  :  22  :  [0, 128, 0, 128]\n",
      "32  :  20161019-2  :  23  :  [0, 128, 0, 128]\n",
      "33  :  20161019-2  :  24  :  [0, 128, 0, 128]\n",
      "34  :  20161019-3  :  24  :  [0, 128, 32, 128]\n",
      "35  :  20161019-3  :  25  :  [0, 128, 0, 128]\n",
      "36  :  20161021-1  :  9  :  [0, 128, 0, 128]\n",
      "37  :  20161021-1  :  10  :  [0, 128, 0, 128]\n",
      "38  :  20161021-1  :  11  :  [0, 128, 0, 128]\n",
      "39  :  20161021-1  :  12  :  [82, 128, 0, 128]\n",
      "40  :  20161021-1  :  13  :  [80, 128, 0, 128]\n",
      "41  :  20161021-1  :  14  :  [80, 128, 0, 128]\n",
      "42  :  20161021-1  :  16  :  [90, 128, 0, 128]\n",
      "43  :  20161021-2  :  10  :  [0, 128, 52, 128]\n",
      "44  :  20161021-2  :  11  :  [0, 128, 0, 128]\n",
      "45  :  20161021-2  :  12  :  [0, 128, 0, 128]\n"
     ]
    }
   ],
   "source": [
    "stims = [ ]\n",
    "for line in file(\"/Users/tomii/tmp/AnalysisResult/pv_stim.csv\"):\n",
    "    s = line.rstrip('\\n').split(',')\n",
    "    stims.append({\n",
    "            \"sample\":s[0], \n",
    "            \"session\" : int(s[1]), \n",
    "            \"frame_start\":int(s[2]),  \n",
    "            \"frame_end\": int(s[3]), \n",
    "            \"core_id\" : int(s[4]),\n",
    "            \"roi\" : [ int(v) for v in s[5:]]        \n",
    "        })\n",
    "for i, s in enumerate(stims): print \"{0:0>2}\".format(i), \" : \", s[\"sample\"], \" : \", s[\"session\"] , \" : \", s[\"roi\"]"
   ]
  },
  {
   "cell_type": "code",
   "execution_count": 50,
   "metadata": {
    "collapsed": false
   },
   "outputs": [
    {
     "name": "stdout",
     "output_type": "stream",
     "text": [
      "{'roi': [30, 128, 0, 128], 'core_id': 14, 'sample': '20140911-2', 'frame_end': 328, 'session': 14, 'frame_start': 306}\n",
      "/Volumes/HD-PLFU3/AnalysisResult/20140911-2/C001H001S0014/\n"
     ]
    }
   ],
   "source": [
    "s = stims[]\n",
    "print s\n",
    "frame_start = s[\"frame_start\"]\n",
    "frame_end = s[\"frame_end\"]\n",
    "core_id = s[\"core_id\"]\n",
    "sess_dir = data_dir+\"{0}/C001H001S{1:0>4}/\".format(s[\"sample\"], s[\"session\"])\n",
    "print sess_dir"
   ]
  },
  {
   "cell_type": "code",
   "execution_count": 51,
   "metadata": {
    "collapsed": false
   },
   "outputs": [
    {
     "name": "stdout",
     "output_type": "stream",
     "text": [
      "306,  14,  26,  91, \n",
      "306,  14,  51,  82, \n",
      "328,  14,  21,  85, \n",
      "328,  14,  36,  75, \n"
     ]
    },
    {
     "data": {
      "image/png": "[encoded data removed]",
      "text/plain": [
       "<matplotlib.figure.Figure at 0x10e61c610>"
      ]
     },
     "metadata": {},
     "output_type": "display_data"
    }
   ],
   "source": [
    "x = np.fromfile(sess_dir+\"/core.log\", sep=' ')\n",
    "x = x.reshape(x.shape[0]/4, 4)\n",
    "\n",
    "d = filter(lambda l:l[0] in [frame_start, frame_end], x)\n",
    "for l in d: \n",
    "    for e in l:\n",
    "        print \"{0:.0f}, \".format(e),\n",
    "    print\n",
    "    \n",
    "core_data = np.load(sess_dir+'/core.npy')\n",
    "pmap_data = np.load(sess_dir+'/pmap.npy')\n",
    "plt.subplot('221')\n",
    "plt.imshow(pmap_data[frame_start])\n",
    "plt.subplot('222')\n",
    "plt.imshow(pmap_data[frame_end])\n",
    "plt.subplot('223')\n",
    "plt.imshow(core_data[frame_start], cmap='gray')\n",
    "plt.subplot('224')\n",
    "plt.imshow(core_data[frame_end], cmap='gray')\n",
    "plt.show()"
   ]
  },
  {
   "cell_type": "code",
   "execution_count": 52,
   "metadata": {
    "collapsed": false
   },
   "outputs": [
    {
     "name": "stdout",
     "output_type": "stream",
     "text": [
      "306,  14,  26,  91, \n",
      "306,  14,  51,  82, \n",
      "328,  14,  21,  85, \n",
      "328,  14,  36,  75, \n"
     ]
    },
    {
     "data": {
      "image/png": "[encoded data removed]",
      "text/plain": [
       "<matplotlib.figure.Figure at 0x10e627e50>"
      ]
     },
     "metadata": {},
     "output_type": "display_data"
    }
   ],
   "source": [
    "d = filter(lambda l:l[1] == core_id, d)\n",
    "for l in d: \n",
    "    for e in l:\n",
    "        print \"{0:.0f}, \".format(e),\n",
    "    print\n",
    "core_data = np.load(sess_dir+'/core.npy')\n",
    "plt.subplot('121')\n",
    "plt.imshow((core_data[frame_start]==core_id)*1, cmap='gray')\n",
    "plt.subplot('122')\n",
    "plt.imshow((core_data[frame_end] == core_id)*1, cmap='gray')\n",
    "plt.show()"
   ]
  },
  {
   "cell_type": "code",
   "execution_count": 53,
   "metadata": {
    "collapsed": false
   },
   "outputs": [
    {
     "data": {
      "image/png": "[encoded data removed]",
      "text/plain": [
       "<matplotlib.figure.Figure at 0x10e6b69d0>"
      ]
     },
     "metadata": {},
     "output_type": "display_data"
    }
   ],
   "source": [
    "core_traj = (core_data[frame_start:frame_end,:,:] == core_id )*1\n",
    "core_traj[:,:s[\"roi\"][0],:]= 0\n",
    "core_traj[:,s[\"roi\"][1]:,:]= 0\n",
    "core_traj[:,:,:s[\"roi\"][2]]= 0\n",
    "core_traj[:,:,s[\"roi\"][3]:]= 0\n",
    "np.save(sess_dir+\"core_traj\", core_traj)\n",
    "\n",
    "core_integ = np.sum( core_traj, axis=0)\n",
    "plt.imshow((core_integ>0), cmap='gray')\n",
    "plt.savefig(sess_dir+\"/core_integ.png\")\n",
    "plt.show()"
   ]
  },
  {
   "cell_type": "code",
   "execution_count": 54,
   "metadata": {
    "collapsed": false
   },
   "outputs": [
    {
     "name": "stdout",
     "output_type": "stream",
     "text": [
      "(30,)\n",
      "mean 1.67641143382\n",
      "div 0.818587780802\n"
     ]
    },
    {
     "data": {
      "image/png": "[encoded data removed]",
      "text/plain": [
       "<matplotlib.figure.Figure at 0x10eb9e550>"
      ]
     },
     "metadata": {},
     "output_type": "display_data"
    }
   ],
   "source": [
    "core_index = np.array(np.where(core_integ>0)).T\n",
    "shift_phase = np.array( [ pmap_data[frame_start, p[0], p[1]] for p in core_index] )\n",
    "np.save(sess_dir+\"/shift_phase\", shift_phase)\n",
    "\n",
    "plt.hist(shift_phase, bins=np.arange(-np.pi, np.pi, np.pi*0.1))\n",
    "plt.savefig(sess_dir+'shift_phase_hist.png')\n",
    "\n",
    "print shift_phase.shape\n",
    "print 'mean', np.mean(shift_phase)\n",
    "print 'div', np.var(shift_phase)"
   ]
  }
 ],
 "metadata": {
  "kernelspec": {
   "display_name": "Python 2",
   "language": "python",
   "name": "python2"
  },
  "language_info": {
   "codemirror_mode": {
    "name": "ipython",
    "version": 2
   },
   "file_extension": ".py",
   "mimetype": "text/x-python",
   "name": "python",
   "nbconvert_exporter": "python",
   "pygments_lexer": "ipython2",
   "version": "2.7.11"
  }
 },
 "nbformat": 4,
 "nbformat_minor": 0
}
