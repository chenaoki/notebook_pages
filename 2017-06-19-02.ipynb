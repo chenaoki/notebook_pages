{
 "cells": [
  {
   "cell_type": "code",
   "execution_count": 1,
   "metadata": {
    "collapsed": true
   },
   "outputs": [],
   "source": [
    "import scipy.sparse as sp\n",
    "import numpy as np\n",
    "import matplotlib.pyplot as plt\n",
    "%matplotlib inline"
   ]
  },
  {
   "cell_type": "code",
   "execution_count": 2,
   "metadata": {
    "collapsed": true
   },
   "outputs": [],
   "source": [
    "h = 200 \n",
    "w =  200\n",
    "ds = 0.015\n",
    "sigma_l_i    = 1.74                  # (mS/cm)\n",
    "sigma_t_i    = 0.19                  # (mS/cm)\n",
    "sigma_l_e    = 6.25                  # (mS/cm)\n",
    "sigma_t_e    = 2.36                  # (mS/cm)\n",
    "\n",
    "xx =  sigma_l_i\n",
    "yy =  sigma_t_i"
   ]
  },
  {
   "cell_type": "code",
   "execution_count": 3,
   "metadata": {
    "collapsed": true
   },
   "outputs": [],
   "source": [
    "def ivec_real( y, x ):\n",
    "    _x = x if x >=0 else w+x \n",
    "    _y = y if y >=0 else h+y \n",
    "    return w*_y + _x\n",
    "\n",
    "def ivec_all( y, x ):\n",
    "    _x = x if x >=0 else (w+2)+x \n",
    "    _y = y if y >=0 else (h+2)+y \n",
    "    return (w+2)*_y + _x"
   ]
  },
  {
   "cell_type": "code",
   "execution_count": 4,
   "metadata": {
    "collapsed": true
   },
   "outputs": [],
   "source": [
    "size_real = h*w\n",
    "size_all  = (h+2)*(w+2)"
   ]
  },
  {
   "cell_type": "code",
   "execution_count": 5,
   "metadata": {},
   "outputs": [
    {
     "name": "stdout",
     "output_type": "stream",
     "text": [
      "(40804, 40000)\n"
     ]
    }
   ],
   "source": [
    "# Isolated Boundary condition : A1(size_real, size_all)\n",
    "A1 = sp.lil_matrix((size_all, size_real), dtype=np.float32)\n",
    "#A1 = np.zeros((size_all, size_real), dtype=np.float64)\n",
    "\n",
    "# - Real points\n",
    "for n in range(h):\n",
    "    for m in range(w):\n",
    "          A1[ ivec_all(n+1, m+1), ivec_real(n,m)] = 1.0\n",
    "\n",
    "# - 4 corners\n",
    "A1[ ivec_all( 0, 0), ivec_real( 0, 0)] =  2.0 \n",
    "A1[ ivec_all( 0, 0), ivec_real( 1, 0)] = -2.0 \n",
    "A1[ ivec_all( 0, 0), ivec_real( 0, 1)] = -2.0\n",
    "A1[ ivec_all( 0, 0), ivec_real( 1, 1)] =  3.0\n",
    "A1[ ivec_all( 1, 0), ivec_real( 0, 0)] =  1.0\n",
    "A1[ ivec_all( 1, 0), ivec_real( 1, 0)] = -1.0\n",
    "A1[ ivec_all( 1, 0), ivec_real( 1, 1)] =  1.0\n",
    "A1[ ivec_all( 0, 1), ivec_real( 0, 0)] =  1.0\n",
    "A1[ ivec_all( 0, 1), ivec_real( 0, 1)] = -1.0\n",
    "A1[ ivec_all( 0, 1), ivec_real( 1, 1)] =  1.0\n",
    "\n",
    "A1[ ivec_all( -1, 0), ivec_real( -1, 0)] =  2.0 \n",
    "A1[ ivec_all( -1, 0), ivec_real( -2, 0)] = -2.0 \n",
    "A1[ ivec_all( -1, 0), ivec_real( -1, 1)] = -2.0\n",
    "A1[ ivec_all( -1, 0), ivec_real( -2, 1)] =  3.0\n",
    "A1[ ivec_all( -2, 0), ivec_real( -1, 0)] =  1.0\n",
    "A1[ ivec_all( -2, 0), ivec_real( -2, 0)] = -1.0\n",
    "A1[ ivec_all( -2, 0), ivec_real( -2, 1)] =  1.0\n",
    "A1[ ivec_all( -1, 1), ivec_real( -1, 0)] =  1.0\n",
    "A1[ ivec_all( -1, 1), ivec_real( -1, 1)] = -1.0\n",
    "A1[ ivec_all( -1, 1), ivec_real( -2, 1)] =  1.0\n",
    "\n",
    "A1[ ivec_all( 0, -1), ivec_real( 0, -1)] =  2.0 \n",
    "A1[ ivec_all( 0, -1), ivec_real( 1, -1)] = -2.0 \n",
    "A1[ ivec_all( 0, -1), ivec_real( 0, -2)] = -2.0\n",
    "A1[ ivec_all( 0, -1), ivec_real( 1, -2)] =  3.0\n",
    "A1[ ivec_all( 1, -1), ivec_real( 0, -1)] =  1.0\n",
    "A1[ ivec_all( 1, -1), ivec_real( 1, -1)] = -1.0\n",
    "A1[ ivec_all( 1, -1), ivec_real( 1, -2)] =  1.0\n",
    "A1[ ivec_all( 0, -2), ivec_real( 0, -1)] =  1.0\n",
    "A1[ ivec_all( 0, -2), ivec_real( 0, -2)] = -1.0\n",
    "A1[ ivec_all( 0, -2), ivec_real( 1, -2)] =  1.0\n",
    "\n",
    "A1[ ivec_all( -1, -1), ivec_real( -1, -1)] =  2.0 \n",
    "A1[ ivec_all( -1, -1), ivec_real( -2, -1)] = -2.0 \n",
    "A1[ ivec_all( -1, -1), ivec_real( -1, -2)] = -2.0\n",
    "A1[ ivec_all( -1, -1), ivec_real( -2, -2)] =  3.0\n",
    "A1[ ivec_all( -2, -1), ivec_real( -1, -1)] =  1.0\n",
    "A1[ ivec_all( -2, -1), ivec_real( -2, -1)] = -1.0\n",
    "A1[ ivec_all( -2, -1), ivec_real( -2, -2)] =  1.0\n",
    "A1[ ivec_all( -1, -2), ivec_real( -1, -1)] =  1.0\n",
    "A1[ ivec_all( -1, -2), ivec_real( -1, -2)] = -1.0\n",
    "A1[ ivec_all( -1, -2), ivec_real( -2, -2)] =  1.0\n",
    "\n",
    "# - 4 edges\n",
    "for m in range(1,w-1):\n",
    "    A1[ ivec_all(  0, m+1), ivec_real(  0, m)] =  1.0\n",
    "    A1[ ivec_all( -1, m+1), ivec_real( -1, m)] =  1.0\n",
    "\n",
    "for n in range(1,h-1):\n",
    "    A1[ ivec_all( n+1,  0), ivec_real( n,  0)] =  1.0\n",
    "    A1[ ivec_all( n+1, -1), ivec_real( n, -1)] =  1.0\n",
    "\n",
    "print A1.shape"
   ]
  },
  {
   "cell_type": "code",
   "execution_count": 6,
   "metadata": {},
   "outputs": [
    {
     "name": "stdout",
     "output_type": "stream",
     "text": [
      "(40000, 40804)\n"
     ]
    }
   ],
   "source": [
    "# Parabolic PDE coefficients\n",
    "#A2 = np.zeros((size_real, size_all), dtype=np.float32)\n",
    "A2 = sp.lil_matrix((size_real, size_all), dtype=np.float32)\n",
    "\n",
    "for y in range(h):\n",
    "    for x in range(w):\n",
    "        A2[ ivec_real(y,x), ivec_all(y+1, x+1)] = -(2*xx+2*yy)/(ds**2)\n",
    "        A2[ ivec_real(y,x), ivec_all(y  , x+1)] = yy/(ds**2)\n",
    "        A2[ ivec_real(y,x), ivec_all(y+2, x+1)] = yy/(ds**2)\n",
    "        A2[ ivec_real(y,x), ivec_all(y+1, x  )] = xx/(ds**2)\n",
    "        A2[ ivec_real(y,x), ivec_all(y+1, x+2)] = xx/(ds**2)\n",
    "\n",
    "print A2.shape"
   ]
  },
  {
   "cell_type": "code",
   "execution_count": 7,
   "metadata": {
    "collapsed": true
   },
   "outputs": [],
   "source": [
    "A1_sp =sp.csr_matrix(A1)\n",
    "A2_sp =sp.csr_matrix(A2)\n",
    "A = A2_sp.dot(A1_sp)"
   ]
  },
  {
   "cell_type": "code",
   "execution_count": 8,
   "metadata": {
    "collapsed": true
   },
   "outputs": [],
   "source": [
    "A_ = A.todense()\n",
    "Dinv = (1/np.diag(A_))[:, np.newaxis]\n",
    "R = A_ - np.diag(np.diag(A_))"
   ]
  },
  {
   "cell_type": "code",
   "execution_count": 34,
   "metadata": {
    "collapsed": true
   },
   "outputs": [],
   "source": [
    "A_diag = A.diagonal()\n",
    "Dinv = (1/A_diag)[:, np.newaxis]\n",
    "R = A.todense() - np.diag(A_diag)"
   ]
  },
  {
   "cell_type": "code",
   "execution_count": 30,
   "metadata": {},
   "outputs": [
    {
     "name": "stdout",
     "output_type": "stream",
     "text": [
      "[[ -8577.77636719      0.              0.         ...,      0.              0.\n",
      "       0.        ]\n",
      " [     0.         -16311.11035156      0.         ...,      0.              0.\n",
      "       0.        ]\n",
      " [     0.              0.         -16311.11035156 ...,      0.              0.\n",
      "       0.        ]\n",
      " ..., \n",
      " [     0.              0.              0.         ..., -16311.11035156\n",
      "       0.              0.        ]\n",
      " [     0.              0.              0.         ...,      0.\n",
      "  -16311.11035156      0.        ]\n",
      " [     0.              0.              0.         ...,      0.              0.\n",
      "   -8577.77636719]]\n",
      "[[ -8577.77636719      0.              0.         ...,      0.              0.\n",
      "       0.        ]\n",
      " [     0.         -16311.11035156      0.         ...,      0.              0.\n",
      "       0.        ]\n",
      " [     0.              0.         -16311.11035156 ...,      0.              0.\n",
      "       0.        ]\n",
      " ..., \n",
      " [     0.              0.              0.         ..., -16311.11035156\n",
      "       0.              0.        ]\n",
      " [     0.              0.              0.         ...,      0.\n",
      "  -16311.11035156      0.        ]\n",
      " [     0.              0.              0.         ...,      0.              0.\n",
      "   -8577.77636719]]\n"
     ]
    }
   ],
   "source": [
    "#print np.diag(A_)\n",
    "print np.diag(np.diag(A_))\n",
    "#print A.diagonal()\n",
    "print np.diag( A.diagonal() )"
   ]
  },
  {
   "cell_type": "code",
   "execution_count": 10,
   "metadata": {},
   "outputs": [
    {
     "name": "stdout",
     "output_type": "stream",
     "text": [
      "(40000, 1)\n",
      "(40000, 40000)\n"
     ]
    }
   ],
   "source": [
    "print Dinv.shape\n",
    "print R.shape"
   ]
  },
  {
   "cell_type": "code",
   "execution_count": 11,
   "metadata": {
    "collapsed": true
   },
   "outputs": [],
   "source": [
    "import chainer\n",
    "from chainer import cuda\n",
    "import cupy as xp\n",
    "cuda.get_device(0).use()"
   ]
  },
  {
   "cell_type": "code",
   "execution_count": 12,
   "metadata": {},
   "outputs": [
    {
     "ename": "CUDARuntimeError",
     "evalue": "cudaErrorMemoryAllocation: out of memory",
     "output_type": "error",
     "traceback": [
      "\u001b[0;31m\u001b[0m",
      "\u001b[0;31mCUDARuntimeError\u001b[0mTraceback (most recent call last)",
      "\u001b[0;32m<ipython-input-12-bcce0cbc6eb1>\u001b[0m in \u001b[0;36m<module>\u001b[0;34m()\u001b[0m\n\u001b[1;32m      1\u001b[0m \u001b[0mA_xp\u001b[0m \u001b[0;34m=\u001b[0m\u001b[0mcuda\u001b[0m\u001b[0;34m.\u001b[0m\u001b[0mto_gpu\u001b[0m\u001b[0;34m(\u001b[0m\u001b[0mA_\u001b[0m\u001b[0;34m,\u001b[0m \u001b[0mdevice\u001b[0m\u001b[0;34m=\u001b[0m\u001b[0;36m0\u001b[0m\u001b[0;34m)\u001b[0m\u001b[0;34m\u001b[0m\u001b[0m\n\u001b[0;32m----> 2\u001b[0;31m \u001b[0mR_xp\u001b[0m \u001b[0;34m=\u001b[0m \u001b[0mcuda\u001b[0m\u001b[0;34m.\u001b[0m\u001b[0mto_gpu\u001b[0m\u001b[0;34m(\u001b[0m\u001b[0mR\u001b[0m\u001b[0;34m,\u001b[0m \u001b[0mdevice\u001b[0m\u001b[0;34m=\u001b[0m\u001b[0;36m0\u001b[0m\u001b[0;34m)\u001b[0m\u001b[0;34m\u001b[0m\u001b[0m\n\u001b[0m\u001b[1;32m      3\u001b[0m \u001b[0;31m#A2_xp =cuda.to_gpu(A2, device=0)\u001b[0m\u001b[0;34m\u001b[0m\u001b[0;34m\u001b[0m\u001b[0m\n",
      "\u001b[0;32m/home/tomii/.pyenv/versions/anaconda2-4.4.0/lib/python2.7/site-packages/chainer/cuda.pyc\u001b[0m in \u001b[0;36mto_gpu\u001b[0;34m(array, device, stream)\u001b[0m\n\u001b[1;32m    279\u001b[0m \u001b[0;34m\u001b[0m\u001b[0m\n\u001b[1;32m    280\u001b[0m         \u001b[0;32mif\u001b[0m \u001b[0marray_dev\u001b[0m\u001b[0;34m.\u001b[0m\u001b[0mid\u001b[0m \u001b[0;34m==\u001b[0m \u001b[0;34m-\u001b[0m\u001b[0;36m1\u001b[0m\u001b[0;34m:\u001b[0m\u001b[0;34m\u001b[0m\u001b[0m\n\u001b[0;32m--> 281\u001b[0;31m             \u001b[0;32mreturn\u001b[0m \u001b[0mcupy\u001b[0m\u001b[0;34m.\u001b[0m\u001b[0masarray\u001b[0m\u001b[0;34m(\u001b[0m\u001b[0marray\u001b[0m\u001b[0;34m)\u001b[0m\u001b[0;34m\u001b[0m\u001b[0m\n\u001b[0m\u001b[1;32m    282\u001b[0m \u001b[0;34m\u001b[0m\u001b[0m\n\u001b[1;32m    283\u001b[0m         \u001b[0;31m# Need to make a copy when an array is copied to another device\u001b[0m\u001b[0;34m\u001b[0m\u001b[0;34m\u001b[0m\u001b[0m\n",
      "\u001b[0;32m/home/tomii/.pyenv/versions/anaconda2-4.4.0/lib/python2.7/site-packages/cupy/creation/from_data.pyc\u001b[0m in \u001b[0;36masarray\u001b[0;34m(a, dtype)\u001b[0m\n\u001b[1;32m     44\u001b[0m \u001b[0;34m\u001b[0m\u001b[0m\n\u001b[1;32m     45\u001b[0m     \"\"\"\n\u001b[0;32m---> 46\u001b[0;31m     \u001b[0;32mreturn\u001b[0m \u001b[0mcore\u001b[0m\u001b[0;34m.\u001b[0m\u001b[0marray\u001b[0m\u001b[0;34m(\u001b[0m\u001b[0ma\u001b[0m\u001b[0;34m,\u001b[0m \u001b[0mdtype\u001b[0m\u001b[0;34m,\u001b[0m \u001b[0mFalse\u001b[0m\u001b[0;34m)\u001b[0m\u001b[0;34m\u001b[0m\u001b[0m\n\u001b[0m\u001b[1;32m     47\u001b[0m \u001b[0;34m\u001b[0m\u001b[0m\n\u001b[1;32m     48\u001b[0m \u001b[0;34m\u001b[0m\u001b[0m\n",
      "\u001b[0;32mcupy/core/core.pyx\u001b[0m in \u001b[0;36mcupy.core.core.array (cupy/core/core.cpp:58633)\u001b[0;34m()\u001b[0m\n",
      "\u001b[0;32mcupy/core/core.pyx\u001b[0m in \u001b[0;36mcupy.core.core.array (cupy/core/core.cpp:58404)\u001b[0;34m()\u001b[0m\n",
      "\u001b[0;32mcupy/core/core.pyx\u001b[0m in \u001b[0;36mcupy.core.core.ndarray.__init__ (cupy/core/core.cpp:6387)\u001b[0;34m()\u001b[0m\n",
      "\u001b[0;32mcupy/cuda/memory.pyx\u001b[0m in \u001b[0;36mcupy.cuda.memory.alloc (cupy/cuda/memory.cpp:6076)\u001b[0;34m()\u001b[0m\n",
      "\u001b[0;32mcupy/cuda/memory.pyx\u001b[0m in \u001b[0;36mcupy.cuda.memory.MemoryPool.malloc (cupy/cuda/memory.cpp:9344)\u001b[0;34m()\u001b[0m\n",
      "\u001b[0;32mcupy/cuda/memory.pyx\u001b[0m in \u001b[0;36mcupy.cuda.memory.MemoryPool.malloc (cupy/cuda/memory.cpp:9250)\u001b[0;34m()\u001b[0m\n",
      "\u001b[0;32mcupy/cuda/memory.pyx\u001b[0m in \u001b[0;36mcupy.cuda.memory.SingleDeviceMemoryPool.malloc (cupy/cuda/memory.cpp:7905)\u001b[0;34m()\u001b[0m\n",
      "\u001b[0;32mcupy/cuda/memory.pyx\u001b[0m in \u001b[0;36mcupy.cuda.memory.SingleDeviceMemoryPool.malloc (cupy/cuda/memory.cpp:7680)\u001b[0;34m()\u001b[0m\n",
      "\u001b[0;32mcupy/cuda/memory.pyx\u001b[0m in \u001b[0;36mcupy.cuda.memory._malloc (cupy/cuda/memory.cpp:6018)\u001b[0;34m()\u001b[0m\n",
      "\u001b[0;32mcupy/cuda/memory.pyx\u001b[0m in \u001b[0;36mcupy.cuda.memory._malloc (cupy/cuda/memory.cpp:5939)\u001b[0;34m()\u001b[0m\n",
      "\u001b[0;32mcupy/cuda/memory.pyx\u001b[0m in \u001b[0;36mcupy.cuda.memory.Memory.__init__ (cupy/cuda/memory.cpp:1773)\u001b[0;34m()\u001b[0m\n",
      "\u001b[0;32mcupy/cuda/runtime.pyx\u001b[0m in \u001b[0;36mcupy.cuda.runtime.malloc (cupy/cuda/runtime.cpp:3430)\u001b[0;34m()\u001b[0m\n",
      "\u001b[0;32mcupy/cuda/runtime.pyx\u001b[0m in \u001b[0;36mcupy.cuda.runtime.check_status (cupy/cuda/runtime.cpp:2242)\u001b[0;34m()\u001b[0m\n",
      "\u001b[0;31mCUDARuntimeError\u001b[0m: cudaErrorMemoryAllocation: out of memory"
     ]
    }
   ],
   "source": [
    "A_xp =cuda.to_gpu(A_, device=0)\n",
    "R_xp = cuda.to_gpu(R, device=0)\n",
    "#A2_xp =cuda.to_gpu(A2, device=0)"
   ]
  }
 ],
 "metadata": {
  "kernelspec": {
   "display_name": "Python 2",
   "language": "python",
   "name": "python2"
  },
  "language_info": {
   "codemirror_mode": {
    "name": "ipython",
    "version": 2
   },
   "file_extension": ".py",
   "mimetype": "text/x-python",
   "name": "python",
   "nbconvert_exporter": "python",
   "pygments_lexer": "ipython2",
   "version": "2.7.13"
  }
 },
 "nbformat": 4,
 "nbformat_minor": 2
}
