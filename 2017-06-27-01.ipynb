{
 "cells": [
  {
   "cell_type": "code",
   "execution_count": 8,
   "metadata": {
    "collapsed": true
   },
   "outputs": [],
   "source": [
    "import os\n",
    "import numpy as np\n",
    "import struct\n",
    "import matplotlib.pyplot as plt\n",
    "import glob\n",
    "%matplotlib inline\n",
    "\n",
    "from matplotlib import animation, rc\n",
    "from IPython.display import HTML"
   ]
  },
  {
   "cell_type": "markdown",
   "metadata": {},
   "source": [
    "### definitions"
   ]
  },
  {
   "cell_type": "code",
   "execution_count": 96,
   "metadata": {
    "collapsed": true
   },
   "outputs": [],
   "source": [
    "def createGeoMap2d(shape):\n",
    "    img = np.zeros(shape, dtype=np.int8)\n",
    "    return img"
   ]
  },
  {
   "cell_type": "code",
   "execution_count": 120,
   "metadata": {
    "collapsed": true
   },
   "outputs": [],
   "source": [
    "def saveGeoMap2d(img, f_path):\n",
    "    with open(f_path, \"wb\") as outf:\n",
    "        outf.write(struct.pack('i', img.shape[1]))\n",
    "        outf.write(struct.pack('i', img.shape[0]))\n",
    "        for x in range(img.shape[1]):\n",
    "            for y in range(img.shape[0]):\n",
    "                outf.write(struct.pack('c', chr(img[y, x])))"
   ]
  },
  {
   "cell_type": "code",
   "execution_count": 121,
   "metadata": {
    "collapsed": true
   },
   "outputs": [],
   "source": [
    "def readGeoMap2d(f_path):\n",
    "    params = {}\n",
    "\n",
    "    f = open(f_path, \"rb\")\n",
    "    params[\"nx\"] =struct.unpack('i', f.read(4))[0]\n",
    "    params[\"ny\"] = struct.unpack('i', f.read(4))[0]\n",
    "    \n",
    "    nx = params[\"nx\"]\n",
    "    ny = params[\"ny\"]\n",
    "    assert nx > 0 and ny > 0\n",
    "    \n",
    "    img = np.zeros((ny, nx), dtype=np.int8)\n",
    "    \n",
    "    for x in range(nx):\n",
    "        for y in range(ny):\n",
    "            img[y, x] = ord(struct.unpack('c', f.read(1))[0]) # ASCII -> int\n",
    "            \n",
    "    return params, img"
   ]
  },
  {
   "cell_type": "code",
   "execution_count": 122,
   "metadata": {
    "collapsed": false
   },
   "outputs": [],
   "source": [
    "def readSnp2d(f_path):\n",
    "    params = {}\n",
    "    \n",
    "    f = open(f_path, \"rb\")\n",
    "    params[\"nx\"] =struct.unpack('i', f.read(4))[0]\n",
    "    params[\"ny\"] = struct.unpack('i', f.read(4))[0]\n",
    "    params[\"t\"] = struct.unpack('d', f.read(8))[0]\n",
    "    params[\"H\"] = struct.unpack('d', f.read(8))[0]\n",
    "    params[\"DeltaT\"] = struct.unpack('d', f.read(8))[0]\n",
    "    \n",
    "    nx = params[\"nx\"]\n",
    "    ny = params[\"ny\"]\n",
    "    assert nx > 0 and ny > 0\n",
    "\n",
    "    img = np.zeros((ny, nx), dtype=np.float32)\n",
    "    for x in range(nx):\n",
    "        for y in range(ny):\n",
    "            img[y, x] = struct.unpack('f', f.read(4))[0]\n",
    "\n",
    "    return params, img"
   ]
  },
  {
   "cell_type": "markdown",
   "metadata": {},
   "source": [
    "### 動作確認"
   ]
  },
  {
   "cell_type": "code",
   "execution_count": 123,
   "metadata": {
    "collapsed": true
   },
   "outputs": [],
   "source": [
    "sim_dir = \"/home/tomii/src/SimSonic2D/examples/hello/\""
   ]
  },
  {
   "cell_type": "code",
   "execution_count": 124,
   "metadata": {
    "collapsed": false
   },
   "outputs": [
    {
     "data": {
      "text/plain": [
       "<matplotlib.colorbar.Colorbar at 0x7f4e736b7810>"
      ]
     },
     "execution_count": 124,
     "metadata": {},
     "output_type": "execute_result"
    },
    {
     "data": {
      "image/png": "[encoded data removed]",
      "text/plain": [
       "<matplotlib.figure.Figure at 0x7f4e7390d150>"
      ]
     },
     "metadata": {},
     "output_type": "display_data"
    }
   ],
   "source": [
    "map_file = os.path.join(sim_dir, 'Geometry.map2D')\n",
    "\n",
    "params, img = readGeoMap2d(map_file)\n",
    "plt.imshow(img, cmap='gray')\n",
    "plt.colorbar()"
   ]
  },
  {
   "cell_type": "code",
   "execution_count": 125,
   "metadata": {
    "collapsed": false
   },
   "outputs": [],
   "source": [
    "saveGeoMap2d(img, \"sample.map2D\")"
   ]
  },
  {
   "cell_type": "code",
   "execution_count": 126,
   "metadata": {
    "collapsed": false
   },
   "outputs": [
    {
     "data": {
      "text/plain": [
       "<matplotlib.colorbar.Colorbar at 0x7f4e73521350>"
      ]
     },
     "execution_count": 126,
     "metadata": {},
     "output_type": "execute_result"
    },
    {
     "data": {
      "image/png": "[encoded data removed]",
      "text/plain": [
       "<matplotlib.figure.Figure at 0x7f4e73f7ef10>"
      ]
     },
     "metadata": {},
     "output_type": "display_data"
    }
   ],
   "source": [
    "map_file = 'sample.map2D'\n",
    "params, img = readGeoMap2d(map_file)\n",
    "plt.imshow(img, cmap='gray')\n",
    "plt.colorbar()"
   ]
  },
  {
   "cell_type": "code",
   "execution_count": 93,
   "metadata": {
    "collapsed": false,
    "scrolled": false
   },
   "outputs": [
    {
     "data": {
      "text/html": [
       "<video width=\"432\" height=\"288\" controls autoplay loop>\n",
       "  <source type=\"video/mp4\" src=\"data:video/mp4;base64,AAAAHGZ0eXBNNFYgAAACAGlzb21pc28yYXZjMQAAAAhmcmVlAAAxOG1kYXQAAAKtBgX//6ncRem9\n",
       "5tlIt5Ys2CDZI+7veDI2NCAtIGNvcmUgMTQ4IHIyNjQzIDVjNjU3MDQgLSBILjI2NC9NUEVHLTQg\n",
       "QVZDIGNvZGVjIC0gQ29weWxlZnQgMjAwMy0yMDE1IC0gaHR0cDovL3d3dy52aWRlb2xhbi5vcmcv\n",
       "eDI2NC5odG1sIC0gb3B0aW9uczogY2FiYWM9MSByZWY9MyBkZWJsb2NrPTE6MDowIGFuYWx5c2U9\n",
       "MHgzOjB4MTEzIG1lPWhleCBzdWJtZT03IHBzeT0xIHBzeV9yZD0xLjAwOjAuMDAgbWl4ZWRfcmVm\n",
       "PTEgbWVfcmFuZ2U9MTYgY2hyb21hX21lPTEgdHJlbGxpcz0xIDh4OGRjdD0xIGNxbT0wIGRlYWR6\n",
       "b25lPTIxLDExIGZhc3RfcHNraXA9MSBjaHJvbWFfcXBfb2Zmc2V0PS0yIHRocmVhZHM9OSBsb29r\n",
       "YWhlYWRfdGhyZWFkcz0xIHNsaWNlZF90aHJlYWRzPTAgbnI9MCBkZWNpbWF0ZT0xIGludGVybGFj\n",
       "ZWQ9MCBibHVyYXlfY29tcGF0PTAgY29uc3RyYWluZWRfaW50cmE9MCBiZnJhbWVzPTMgYl9weXJh\n",
       "bWlkPTIgYl9hZGFwdD0xIGJfYmlhcz0wIGRpcmVjdD0xIHdlaWdodGI9MSBvcGVuX2dvcD0wIHdl\n",
       "aWdodHA9MiBrZXlpbnQ9MjUwIGtleWludF9taW49NSBzY2VuZWN1dD00MCBpbnRyYV9yZWZyZXNo\n",
       "PTAgcmNfbG9va2FoZWFkPTQwIHJjPWNyZiBtYnRyZWU9MSBjcmY9MjMuMCBxY29tcD0wLjYwIHFw\n",
       "bWluPTAgcXBtYXg9NjkgcXBzdGVwPTQgaXBfcmF0aW89MS40MCBhcT0xOjEuMDAAgAAAAS1liIQA\n",
       "E//+97GPgU3IAA2XOop6H+EVsfSQUXqx2aBk6gAAAwAAiYGOFkC1uVpxUAAA34VBjqmZClRADXMF\n",
       "UW3inE78bko0N9VBQTwNBtQneuItdlvdRZsmdUi9Q3g1wBvxHHrzHPaj1P3ERLtBPUrTZPI2w3Iu\n",
       "+9szJR7qqhjAdkmwCKnEEg+BlxZhHqektvGDyufP8TFULl9xv6+dv5YQ4gyobA4jXGFvOgXvADrT\n",
       "PPpJ44NGa98UFp7kPWQHhF0n26uDsXdpflm3Yek7Fcce3ABcWa9oKUeO0fFuFvVsw6cA8rEi+GGC\n",
       "hKsEUGRgZGhfV2QZ5NfkuimOKiP3YKk+nEddq/+OG7cuC8QhG/f3pyCo3nzmQyyInbEKMDa0lFdt\n",
       "JPTuDkAB8AX2FJOBAAAFMUGaJGxBL/61KoAVjp6ABQgqv2PV2d/cjnGEdpsia/r2G3MEddanDn+T\n",
       "gE6J33ZXKAqUe1LPzHmbI5ETdx1cwm+XxFL6DEUUbdcJ4oL9ZXCtEsBtpjnJ0OjVo7ViYjw6wXp2\n",
       "GLquyo/L/ao1auE5/CYBOR+pnZPkKS1Vc8uNBYYrGm3HuKlE3Ej/TaN4pVyNaghLrkK7Iknkk3XD\n",
       "54iOA3xb1DwbFDkcXviRTo2tyLD1Rqvn4lfxhNKG7gxe/55yu9TIJDZXzi+HiB2he8wLydftiROb\n",
       "rRbu1UnFv4fRA/ly8KuRUvlbHU+NM7sTvlkV1rIiaIbLlqbSGA4YlS0KkgRIOwUDVy7DlhCKTxFg\n",
       "fabpQdB+EpXCF3N3XjRqAWTumAD1i+irCxilkkeZGL3/2JwaFprmfWXYtVHZIqeSyEugCtcTVyDu\n",
       "iV8xFznQktVLyUMlutoRGxLaNQ+3OrT+WJczTXYY9sbNFnm7tnFOv8wGc12A1Alf583K8WaB9oBp\n",
       "LV0c5sd/1eQ6Nznd6yu6QrEGF2h4hq3pNcRS6qp2E0sijw/4TASnWS7joSHnVZ+5+KA1Nb2dZvE6\n",
       "lXldL9VpJXP9TIu5+tTLyt0SmsYWd7gxsAKgbKkzzfvjGtWmro7lpOlHsoMrt70j0PRh76kI/2va\n",
       "91su/y1IIN/I44SWyYWXU+ZXPLLvrM1g8//+Vvqo/Msm4b+Yo9PvReuEgwhyXUsgPnW5rEysm3Fq\n",
       "nGXtHXJCndsCXLFMMvrYEGnJfXGNl+sH703Up+/F5H4QlRa2YCKTzTpnX13YQS1fUIwAenBZVtl/\n",
       "3lulNLwNqQ+7E1Lh2go4ynx19qAP/f2Z0pwS8zEb/XxxdTCTSEFuHjf3JwyRXLjAA7D0boY1xHcL\n",
       "jw6Ec3MIQ6TqHT7XUe66m78d652f5CPChSz0W903axH4VfwLGcK5kHcS1DuavpYyt6OAvEopMoTY\n",
       "H6ZIFkdrl2kcdF9xH0f7aaI7M4ygVd2wEIb71cmrW9eRAeWTjbEiSK6kQlRkQh6dIynG8T1rzoMD\n",
       "ictD58Zd7Udd0N5UgTbeRy/nUfbSCOBEGDjomb1PjljEn5hYJL4MSCPYx3bLnvGwasCDLoaZ/zfZ\n",
       "W9aSve0+uTN4OQIdplfYihgg2RiiZbAW0WccXXSns7CfntO2ThRpiVAmuQ57c0ojAsu6fuqSt1MK\n",
       "sZRR3tanv137KKs92ZqriF1XLhf3z0YAKZ8gG6deLlWPxxmGEMtqKWKes+W3aIycpS0BOikWkuDM\n",
       "hj8Fu5QbLe+Y+dPQTz4ducjvD65BuQttB4HbDLhoWma0dG209RSqEXz+BuMEnOvaMxKcrolqhWq/\n",
       "PfssVrnYrWwYMSMgkwHr2weKoYTP1KUu7+TCP1NnP8uWqTSGY84+XX99dJbTNMZad/qJQTm1Y1Uw\n",
       "tpMQaG2tXRQQ4TLOrRFz+UPH3YcLV5t9gaY5nmZiiiv8eYVq739vj+OFjfw2KhcQyUKcJKZQn8jB\n",
       "6tf6fm5rF4WVgaTaWcX7HFUrjprxBHIe3lggKwdVizfY196ckoNm/+ZZQSdc0Fx+408YgI+hXmgV\n",
       "GQADc42TT4M1w+wZFTDl2hz30buDELbxbOZzjG1JpYSs/KKVkF0qUoPoJ6xYuCcu+nn8KOZmsXxY\n",
       "SSsbMmiRW26xa26uh+2XMDvuS/u3JHvXNiRv6LGukMht0n/j0vj/RzQBYt40k3wTUop9jJzstWXF\n",
       "6iMbf60bpDdTdj1JGdXkKGmL51vrw25igalgkyjtP6uomAAAAgNBnkJ4gh8ADn5T6RfgrHE2cR/C\n",
       "7sN8ARvWv4aq/4O2lmbeC6RKF6rfSwlx3xYQks+7W9rvZtpXIfun30PPSmO7m2/z/d6npJ1xF1K6\n",
       "lvwhtcOzE8Lbmx9mPeBtFl/WwQw5fh6MIVJT2cUHv4e24OixIMGE/OOe/+IyWT8/Lf6sC6iDYsA6\n",
       "mJOXO5EUvDztMEgUAH+Nr2cNFvidaPSs4JzDN5Bhpm0XGCv2t1YUOe/gzhUhp/dM/YG6d+aUqARs\n",
       "SaLsRiF5itHMZc1o2RC8ha7Zjf4XcqFG/GBELC0pjvXVfeyOPJL8sItfAe4cUSCeth2aK/cxlWCc\n",
       "p5wtufLYkCWJr0QPlSbI7pej5A2ehyBzp+6lybEV23vYUXNeokbzPgRoW8ZlsUTG1MJFcWfSO4mo\n",
       "456aXvTpqPTcCgcl9gbDUgclX0UZJbuQ+qieaEHc5TyyzNDxwgicfymuSXuAwo8vT92eYble0ug2\n",
       "E7mFCf7C/EHIFlnb3z+Od3afvPyCDNFp7ZP8UpnTUFqKFFEU/S/H9kq3DFg6FrM2ISJUqDL+8Nmi\n",
       "ajWuF59KxN2QGw2KGAV/L4f9ekTvIoqDmk1tx6ccd6nZDEflfjSZ1LiVFdKHrxsCTGgz91YXwvjo\n",
       "ZJe02k9RX6TjEUvcZ7PGqFkQeLlXhKwqcQ580cHKbiH762oZ4/uDFwAAAM0BnmF0Q/8AD9/mczIS\n",
       "+zy/rk/AN/4jzSuKpjFeDzO9sPogqtcyZvK6bXWW1019Ks5bTheJZKqEaJKcN7HxxHR6iedpQMA9\n",
       "i+vXl2ZHDbW/JoufNt+hRAAA4UYIZhUiR5qGM1kW8SnC1owo/0bueJ/jJjhj6M+0gLPZ2qiHugiY\n",
       "goggQat1XKI5ASxlIsXB0VFsafWleJU08X6rE+j85b970Y6hfXe8yfdhC4iZuibyOV8MIYPtU4QY\n",
       "I6YbPLuOC67MkseFW00TCIzHoMM+AAAB5gGeY2pD/wAfvsBg0BEkIAviEC6cllCzX74F38Wum8DX\n",
       "fKdjyKGxnOLsatK79Nj8+hEUQKNXEOmUEn+C/1OlAVZ6ixYrcgQTAjq+qdYnhOg4QM8Q6hDuwF8P\n",
       "A4UsNXZFcb1jk9fhgoDQ7HbIuu0+QOW1uAI/Jtzhg2cYGpXqhQMScnPLssn2IwFi+KyJjvarHtkk\n",
       "Ok3PCpHgRowUwD7iK39HfzS4UwTBr+zpFD8fjLUAD1dvwCfChOrXW7vNGE1oW5U2Qfdd6ttl+EmU\n",
       "eP6LeRdauQljI2a0wBq81bFz7/ZUyGD5cV8yjRYNm7lIbxpyG5irQChv6AboihYLFaqlf3u9klcv\n",
       "KqwE6bz2JVV+AjW+LzSnpefZ2gxo0EvqX0bzKbcJhjO/lfaOIXCzqI/o6vmHHWix/aEZ0Err0BRk\n",
       "rXZuv6fNj6hYQ3FuVx0uwnsmSX1oTWsE2di1RT2EuUd5Va2bTpTjujXGH+dSuC1cKJrXN3nFzzST\n",
       "Pt+Cav+PXDV+mrRkP+0g5BnUH7/uj76tMimJj+Vfzv7lbi4TcT6gNmFk6+cBwaOoex7Yq/BCsUGS\n",
       "+cyIjpMzPgDXskoPfR72c1+G+tvJYx51+4lRhQiExqFpPnFVD2Rk0XTO9f1jvWCdgCJTwKokDQAA\n",
       "BPhBmmVJqEFomUwIJ//+tSqAF4bqUABzmA8YQ0bsajlvI2FW2Z9P5YsDoq8f3A3amYVU/hC5AR39\n",
       "H0upcysohybQ6fn5JpyIF1WdWhk/Oo1QSNs/zag6FFN7wsTg+/XLQ0a35FF/D6lgkzZTx2JOwC8h\n",
       "yGH9HpbN7idDu8+1FoJqfX1LdLQ2gUFNVjFgSgFbpSevPiZ+ZYFpO6kKWrmw6vetdoEy3/8Bn4bQ\n",
       "GD1v7Gn4FVbGVGWfiWaEXyaRZHxJ1F8tZOnXbqc1tvR3fZtXkv1O6CmvbDKFD8ivSGOQmAoFcJbD\n",
       "PTVIaw2DheLizHyJ75He2InC4Cf9cFx0FmKf2+hmyJbXb8ek1geXH3JFSt07Wc2A+AoGNv0Rak3V\n",
       "iz37MfxUsMqXzFBTg+TOSN92vCCJxuDnKzIjlHkNulo79fmczkm0OAyqAGx5RqzvwMWU/1Js7h0x\n",
       "m1dZZ1pMAHQHtR7UUSBSTkIjbc/wKOwzwMFJXZlNzzGrWEC6y576NqCEXlzo4ZL49aKh+vV4VVMH\n",
       "OJz74gWQMOVkxUBQX0yVgH8/kMwxOKmtLfpN+nsl/3na87/bcqvRTxYntrbtKlFtItD246/Le7Ks\n",
       "AqbbLkGRY+0HcI/nvKVZZOpwTwGw3kS/9N28qSZ99If8OptHNpKjR0CLSeqaQ4LKrLJhL4+I1WmF\n",
       "CAssAFbIUnG6sF5MAUcHbxJatEEYDYwRMr+znOukdLsUX7JBSABzHZ3sqXTeQ4c+uzACqHGaFF9F\n",
       "ZrCcQj55istKheRuYskR+wLZc9HJX21XDFR72Gt8euDj1Z1H+OQ3Vu9iiVvUGQQg3LfMyW9wn9us\n",
       "UV7gVROqfA6C4MKQbDiyE3iIVg1SSuCsQQ3bixMWDxOZEiN4qWFsmj1w98KjSEKxdJyIoYBxvOoH\n",
       "nTrCLUaStkcdZKnwEOIHA1wuxmRlCP3PoZw8mTXuu4+/y32Tc9K7oRDNp3fMJMxsbYup9tMzfxlz\n",
       "P7vaDJfDkX09JwVYGUC9hU4FWRMsyL6XkWsbqiJ+nxZsCIlKm7OHloZccpMHv2xGK5LcmlzVEwD3\n",
       "I+q1pEBuHXGG9v7Ug0vadcw6XgNHWUFng7UjmQEWbGAR6m+Lq5JXqQvurQsecRsPYallFYH+wumR\n",
       "+qIvRskoId/ItGwYIZWsoWn+WkwW0J9072HEq1XwoHF7lWpyIWDJZ2IU7Yxa5BYXtxIvjbuEpbo4\n",
       "K+L+mdEOcXDFgj9LKRz7YNBiQ5PIuk79MVEQfsnyvMfgP7S++aTxFE8yNRYr3nJKeOV4N/cp8TNI\n",
       "p8V/h/9m8+DBXbDURA8H51FDRfZwOThpQUukGd1sHbrXIyN6N42qxyLuVOFwH3badt1UIUE9qemU\n",
       "d8BNFkdF1/6R86oKeZNxcJOPSApL0Cqdh5XpUpNenYsMqaBA+WVBNsGZH+7HLlVZwV936b5YOAer\n",
       "5BxrDX0VR/9XeP8wNY59JontCbeIU7svZugyo+yAJ2vdLI0iz35RtMge1qTFPJ8eqKxNgGBzP6bW\n",
       "mKaZ4Om7oErvLbi3kdXGObS+PqZbXCuhJMAaHCR6ObVUNR0W+5BEc1oiGkkmKErbFPdp5G5NH3wN\n",
       "YkKp0jvECye/FaSrYHaG4XlbyszH5c+kzAhVDfd76llcgFPwu0axUvLTPrMGwVvYQo2Fh8MnjNVU\n",
       "VUVVOAK3DXpuozCpz+8JDz4Ayv0AAAWGQZqJSeEKUmUwIJf//rUqgBiLi/F+jRjYAAGhRhgOpjmM\n",
       "7pQclpzxCLMgdDkQVtCaQU1OcKXLP/02VBkZ9LwtjnEI5SyKwWxA7PSLAFUoaCdCp7wRzlGRG+6r\n",
       "BujmVG93DM/QZsEj5nrXeUbyb50sjJUaCT6nLiwH/KHE/F4471lhSonIIPXU2zVVeiy90O5Sqc37\n",
       "3iS0RRtzRn5cDGcIaV4Wa/b6b27lUvZ6/f0pjfBra+J+O4S6SCMLVskK8NtK8wGduGuk5EVs7KeB\n",
       "WwwB5TWOQNUZIpJDYYfsxXqSSXB6K7CdCqywRLzl8z+a9OywqQUbVl5beSkyrEINhg0MGKkec0mT\n",
       "21VNWX8j6EkeW7F0zLRXDArdt4X00QK2iTdRUxKDRaPR7koXybvGRzBoRedLPx9LFata9aClxokw\n",
       "/+YZGffNUecwuc/NFm12713Yq0eIu8v+Q0b3VfHJmW72t5XpbFHPvJmq0SymzLhqIIU06LitPyQn\n",
       "qoVBcjipfbFZdK8ilHr+GEUoLI8FAohxEC5XDgQQwJGy1qaSEOBD8GCDzx/AJEwQAfSQt6fNAewT\n",
       "6BKcPjSJpkdNmuB4Xh8H4Y3bhvekN0VrescPQ5Yo8wtlOk5HauMci61kE98ZDSj/5eKSdETwGYPI\n",
       "NnQQ0+OLgQsmlIZHHqx1IwUvj1mdb2+sjl/GHYEfSCVA0RTZSbQhhrV4vJsK7evXExzWlUecUoBM\n",
       "6Dpm715DHqUPgWkSjidD0f9WBUwTFxxxqYXHkzJ9uBJDiSgQ56FItLJMGr7vzx0WBU9fxU/gAyt4\n",
       "o0Jrv/q5GXD8aIx/Y/wYUz1lwF2b8JSAy9ehFIHfgZiApxYQbVCMgY4gcinao1+YZQJfjQ1TwbpI\n",
       "4HGRnQFcpR9gI3vNPaVPZOhbk6UICJ3/VkC/89cdURhoaoJX0mtt8joWuPzfMFq5smHTH9lSPRVI\n",
       "K/mPh0yM8vKNKAqDxvyIby9bc29244zlyAbgomWMnQlLnBDMwhIp2jUG1uuw66yKKDuzVaXZlYbP\n",
       "nSRtPPBCdG/S4C5U75OpAyMs3gUOxOWlWObPGdHbQOZoTn2dNK57z9Lod4RIZIqVr2U0D0qhgK4Y\n",
       "qlL48DtXUiQ6C60EGfEhM0yovFH5YGLjPIspu7G0vH0MQhJKiTZLwZUy5b/k9ViGxj66Jk1AMomB\n",
       "PvF5Ip74AVlYCrc6JTL/zgQshozfatEzWbBz2Medg/ChdyYpTiL512BGRnM5w2gXSjP2mm1qnnfX\n",
       "rP/EPHOkJ/oYSsKaFpoBFDYSoCDEMFw6NqkX4xnixEe5w8mWJDVmRUNeuy9SbyuEpl2E/BKqjEKY\n",
       "isfPZAjKS41SxPUlZOnnq5Em4Fd0P37N6WWtc8gX5UGS2rfKOKvIfpUT4THUTbetIdtIHdEg1l0K\n",
       "XBCUpvroWMjpRjzPWDiCYvQySyRRVpPcPDtLKrN6+mNb3dU2NjAz0VTwZQfMGk7E2xZaGJ9MFHw0\n",
       "O+OD1N5iT/ywM3f8TQTU9zAu4r3hc41UbOQgOolbyDliWRAjVjvuuSc8/gvCRXvaiKrwN3/mYtut\n",
       "Js8zunbjWie7Hfi2klxh2nP5Kc32UGG7810U/Efe2BfWVQN0Q8wqva8UaaGZbBJnY38L4i4l0Yon\n",
       "66E0A/QK+M7leh9tiKViHd3LpYSD4D2+pvdWbDNJA52VBtCZF6wSYsHCEQkgY0De2k7Np82z3BU/\n",
       "Umnmc5PGKByl/bwAH23POtKKP1by0/k8k/hC/NcStK6H1cWN6P5JCJ8RCYTu68MQAxYCZlyvtgKW\n",
       "lQonsvxi9rYJ0jG7FKydrExEEoDBsWPcthbVVIvjjC6M+xNsjdsPVkho0J/JninVSezKGk9dao0l\n",
       "6DwmTqnqDeo7EV6sxwAABT1BnqdFNEwQ/wBEbblXLTD4wc/gAAN9y3vfGmBaclEo/LGCASPhuiWA\n",
       "ntolnZT2wJ/aKBFFY+zd2pLRGPBA+68pbR59krZoY21YC9h/cohiFhZi/Nu+db6XXD/kRv9kcReI\n",
       "yd5I5DzYzoit7Djzto89f8fDQqgw+lXBhBGlHSngUAcAQhe23DWcS+hu3m7iw+4ukSsgcndC98Mc\n",
       "XRiWXmY8aWf/oTBYecvAFIv7G8D2NPIG+36h3l3YsW4BlsDySz8z94ESVhvGOCRkpL6ssbc0NOlg\n",
       "PVhGtieMjS7LmOonL9iiisHEUeoaWEZ4m+wIFky19F1VkDNguoIA2ZD+pi28HKuR9W+N20AxUIHX\n",
       "rnNtusHTaicLTlZIot4ZiU6by8Vn4N1i7pyz2eHRzdnJmVcVMPRowrlYZ7OcpmTVLkjQ5thw5gSp\n",
       "nxBI4+EEymIpTU/Dwis6pWTtDvRNybEMRQ7bdOjobDDAJS4c7WOO/d/z1CK3feRAYhVV197QnnHI\n",
       "RUlQyOZaLTBlGNa04i95VmrGdPGuPucYCalQtaHUvYhR1F07AUIkUORyKIFulXFAWG30CN//3lFR\n",
       "T/d8hKUZ9MLlI8e4s6fGaJ6TUbOoX0N4w6IcHLj1vKh+pItBef47RtGUaic9h4uArnkTyH0mbH/m\n",
       "5OAcdlEIsCbgOWYle8ZD8YRRWpZMV+7VGXNFZW6Zql7DGZJcbkStlHDpFjErhFu5IdEZE+zsj5iF\n",
       "Bw12pJ6fq9I1dG0gtUi+aiXAa8OipVSrcjEP7H5rURVuNyppcQ6ytKn51DLOiD6c4jXEzo4tURYD\n",
       "CbPOMzczNoW7czeXBFsYQbZ7ADORMKd/1wB5g1nh3yM2JDHukPAKYhjkZQ5QaQ/i7kqGQ75flVo4\n",
       "Z4LigU4Q/iBUePYS0JxdgKnqvJ+/bPOlF/HklnXDo6nrYXKKzQWGM1wLubh3zUJDr6k8YgeighLn\n",
       "38Y2gWu1dWOMdpuZk99LEi94/vCO6R0uC7V3BMdt79yMc/M12I3bl6R45MXI2hpESxCo4WL+VroW\n",
       "BW4NKg3owyRg7LT6xMHEPMr9qA/hnULZ4wTNe+p4xIKKFPxckfArPt37JUYO1jlTTZVfACYlwl6U\n",
       "YPqUJfyH8qa6k58V123Qn0OLHF9dFPREFjF1gxujljwvOZencA0FV7ZfLfestY4mPUPPiSuAzPtM\n",
       "3hCOYn9rVUxIzOuUXRc5jP/jOw7fiOBi7xEIAK9UXo/xGP953A/zyJq1VbQkSvgg8J/k5yLVJsJ2\n",
       "mC06bhtYF+GM6UG/Uew16tVvlHc2bHLzm5L3ztXWe6tMBAB4dUuL0LX6Y4chAHI3EDSPSG6Z8EAH\n",
       "b3z2RFggNczrZFk3KYukrFYRF18AALOSuwZmMsFbWRtY1thDX/9mFCNk+vMTIDnv3nN3n72ELEVj\n",
       "sVA6fZOuu7r2ABohYqu85SIMweVm+s+ZQ/lw675oPNUcE0OUd4noJG26bDGvQzccPEXs3L7YN1wo\n",
       "jK5hojo96piGq3SicTZN5ycLqMo+xnPDR2Knz1wVf61fKJxn3iexCKkoFHpx9MBLKCzfc2pmwRLr\n",
       "MHGvHQMYexxemlLr8cvCWt9HhDGH/T34LTBMKGvA729yAKoovGPJMc8hPln7xibR89L7GKOFfuhD\n",
       "VGOYJ4/OeEmybab3JkiHm/l00trTjvnCojxgVmJfTe3SXxWiASVnOylyZfi7b/EBTd1Vlp6DEB1X\n",
       "UaqWgJPsxxidMT+Ch9ZQqCtUjbqUGJO9TgI5lSU5xVSevlpEA09uh7ZyeQwTaVUAAAM3AZ7GdEP/\n",
       "AJ9/v8RZrIgAdpdnLmaFrgbbqDqVeVeasSGQgvL5f25WAI6ymcxUm+OCS+UjegLvDZPPCHaS7NUl\n",
       "K36BG1eEssvSgtGFWF1qDHcJiGEExYgLWDVYlmOf1sQ0/f4B3zAc4RGKEhlwvWV5pGi0bR5BWpMO\n",
       "CTxxTWNfBQ43/hgq8j8PZmhAdxsvAcVxNharnnFocLREq4H0VmLmPiHCeb9ljsTqhY/fDRjy75oL\n",
       "KxnAPpfmeCl9OciiyORtpVeh+wjfLRpPGdAErx2rr9EodTXNzCBfqCvphuKGlt4uUn8z4zvR2CX4\n",
       "N3INHJYjoNddCKBY4eOfep9LyYnyPKzt6nXbxi2rhj8em17O2A6L1EsPgeCBe7zwgRwteBx2dxY3\n",
       "vT/4/Y3aRMxDBIteycLXSVkKv+xah45VhK5Sg4qc/FPcpCvCWEwpuLyxUDAtJL06EdV+Z4L8lIiy\n",
       "C/HeeBTR18ZphmFjYc2hcqTz9orZ12NcBlGVRriAgGh7gtXALvS1pp6o8hzQoUQD3k8zuuQUoSI7\n",
       "nv6IRslmpnD+KG+dRCOU58sDplr8w1TGKLQvM/XYEz6owxBGfObn4yMz2plqtjHNcRSrITYtpSVu\n",
       "l369+/VEYDqQyHl8pojctFb+vg6Iau2E3KZQBTFgpcOllKCeevhvvOwEtXR6J7kQGLv9GKKWuxOd\n",
       "ZZO0b/0YQ5HZdxJxVYV+uC/G02WGOnupFgFUzRWITw5NErniNEnmTIrswMcyF5lDm7yy6gx/1nWn\n",
       "uCRb1gwgfK8ytufRwAQ3uPQo2uTiK6xS7EYpqy/L2cmhR0j7TtM15C0wKbGeZSZetnbM/KT8cZqq\n",
       "iJ7xw03lNJxbQvSON7TlLp/kywPEd3g429VQ0t81DgKqWMvcR3BHpgBuyoWeMVUkw9aORk+1hnRV\n",
       "BuLKZbbin1waFb53CUU5wS8khzi/RDmEW2KA2W9ca6oEE3Tedh+hpKeyDPBoKoN6nJl7H8b980Hl\n",
       "/AdjnSvoRjCz90DAdLYeUaabX3sXoX0/JLE60reUo5wUm4SyhI+VMBjk5xH/shEqmlubG8Ipqwr5\n",
       "O4Keya+QKRpYEvUOZF4to6XKgAAAAjMBnshqQ/8An01X/zTmkEoitKU5wAX16sAgcLCOWW12nPa7\n",
       "CCzcBCZTJ/JiyxWl8p0fvnscAFupKYyDlQEQVnjZdJTJaelIkX8Fp043YOU9DXhiZ0KiLGCLYQnM\n",
       "K4zhbqLh7OXgl7G//8BW0v94XBJxJ9CdXSNYsjaKbW62Ncy0dsza5Ei7+9FCOu4U9MZOPOlgIhiE\n",
       "PlvMcZ6cBGOVTH1CLy3mglQItugrVUADjLsMCWM8JHtMLTAIX6jMtfwWKm+2ywteEA6EP3deETJF\n",
       "FM5yZHXnDFg5t98YXY0OJCNoA3mlya8Z8i2f6R3CJYk03/OhTf4Q3gvMoNZcGK46Fk7Wmb6td+C+\n",
       "sTRk1QN5Mgk6RATJ0YpO9ewZDZsL11/8OJf5QXd3c0ZCfyJ3A7ehreSpbltBxctQ57ekitnZr0Ob\n",
       "x9lMlcY5QjP6M1a1bUZYDRJ6MVVeb3SirBZXX0HpEiYr57Zsw4pbMYFXN4YbU+3d1aHGiaMa1LzU\n",
       "8hSTmZotNkPmtOSQDtC5TfRSUKrr/oKIWKz2iaa2QkrNreRZfpE1bPydQS2BLym9JNNDVwK3CV11\n",
       "JqEAqjOdpRAh2/2d60MEepSD7gOny9HdjAUcv3XVTSvvL69pl528etZMr5YFkFxd2pnguRoUtKBy\n",
       "HCzdwz2KBpI8O4g38gaSJ5EyxjzLabnhRngtmYWHy/4UoMEoZHMv0JrPZOdJjr0wgfHxrfm/hNhl\n",
       "SpYWMh//PrAiLruANUiyEAAAAntBmspJqEFomUwIJ//+tSqAc3ahuDSOZIASN3X0xjuXR31lB6P5\n",
       "X3WubZd/hGllRCh99OTKDNFIdJHlsmiLVnWbRvLBSJmTb+wgLyOc7RQ430119uZUAdNZxEEddgtU\n",
       "YBESWoYyzRPv8SRs+a/1SS/alhGzDA1XaZGJags+0ithGF1rrE1jAnSjsoAR+uZTP5t6p4VDEFLQ\n",
       "+kiokCKhvidwG3vvnrkRw4lhTUEXJq00VGwM1es5coPsfUPxOtP8VCXBY4Fv8jRuaVZnaKm9KPxW\n",
       "KRs1yucUP/1AO+xS9inwberfESVd/OEDEhHMobIr3EGxVrL6fe+k+HllCus0U1Xy4eyWP/mqzZme\n",
       "L8bMExW/kiE2GvOw81TFFeUhFpGUWuh1P5hw8vMWi25ONeHOzJ+Hq43XR8H1gLgunojvSdmTcwXG\n",
       "pey3z1LWEXTmkpi4tN0QMQ5cCTHr1DGg1/p1iOsIfi9TsCzqWCEzkP6hv/mko8Qa8GaCEVgZ2JjK\n",
       "mMUH179FYMudt/mVeSkJdIOx8hfV4uj8HkzfL1Bs2/gjR6ynfXTucJmPwi9Us6M/Jgu87H8LlAnW\n",
       "AHh3vegPSrwwcr7EeKNGqLmKfmSNZs5/QRsobvY3Al35K5c0wmfydYXQ89WlRZGyK3xKaEM+1LhB\n",
       "zpPzdeBEm8CdsBK7204CvvPfJGJyaJTSy8g78hfFi3B9raP4lt6h9OZix+pSzW5IPV8JqjR7qpvh\n",
       "8Qv044jPhrRNbF0D4DQm/+0aaMqpZnJkO8kApKUwpL0D0Dw5wyEjD9cxKyjfQKOcvMwlWo5MkSiS\n",
       "8hsAeZgN61Za5orx5k3y5NJWlYowWjXybPUrnQAAAr1Bmu5J4QpSZTAgl//+tSqAGUDjCZVYB83y\n",
       "/IAW3XNIBaBbSShCZ/gNM9AXlvsvlfWnfC2KoXAfvT7IzRRucdXXX0CmmhNZOL+Diwuezz43U2jG\n",
       "qwR3jtD2z9mxTRDbl1Gi8wUhSRKt2P/9S7XaScapySIP6LfWRiif+nv2LGucllCYTntJePCcr4Ie\n",
       "y3M29Ed+AI/Lb9aJk/SZds58mfsywGV6TYV0zxssFNvzqztBdz8+0bGJkUU4w4/KaXpqScVNyibY\n",
       "ASDKPE3GvNoKTUkE3ryB3la2S/UdaAx4CJH4aWF+7Oc1OWA4kM9WpcJ+eTiWPF1FFATyweTJnUgi\n",
       "EUBVc1PtBAPSebGAV3KithDSIQquoGeWci+yCvZoaECdo5TcSpL+DWBr8jKrkSOE7bFJ2NtljR3A\n",
       "ul8tPtqFhDSLXU9b9K3nhWzaLTkDFBM1YPnBy9+Onw2jjj24xRwRm74OIOg0MeRl3yxROxJgkesE\n",
       "PEY/aA26ieixQB9AeUES3AJh1l9aYxqYSRClbnDWmRIoT883FxL+vgjtIMsqgDiL4RTyxqvVLj9i\n",
       "vD2zn/j5cw+ohUux1oKu3Wl9NsMz0jltT7l5qKBd5nxEhTIsDfmv0DYdERGl9bCzhyJ5ocEoU/4o\n",
       "EgGARhPCA8UGOHbsFNAH1P3xxaxTR9XLd6QOo9Ut0aFezyPMoqpnK/NUSxuTLqChJfEoOztX0E9z\n",
       "79WVe2OxBD45qCjaG3X5/tMkgPL+A3WVUEl/WbZ7WLd1FdkvweWOW7RzFxgzG3tCKPa9mVGRJrxI\n",
       "JpMGVFI8AxAbp4h3lvcOWsgdT+UiPi0RX1QHu5DKAn0EqcY6/Oo6guSeybSBzb8/YofATUw27pfP\n",
       "zVhAJbatJA4+5SrCdLdUj5bdZrHtG65BuL4zJOElcwQR5+y4Hov1yLfEb5GCyv+q4AAAAadBnwxF\n",
       "NEwQ/wBIVpcxT/mjZHETACFOcaFiN0A+L9nM835yU/Zewdl2Mh5RPpy6hutvpSDA8RAKXZ68PRgu\n",
       "NJqSJkOSGgMF2Qn0pTqx0klmtc68YHupZDEniITJLy9Q2R9eIr/tm1H402bSGjFad0Dzp/Lv+i+B\n",
       "5jpQXsXodiqLpdekdbPxNfym6qkIV96Vn2fkddQWhZC5E7/3wu2HKIt5ScT096Pu/nmRnbrr0QSb\n",
       "GUDU3L/eOxj3jX/u9eX3rqI2IRMzA7xTl8/e4ruDCOOLK90Px0WNRF009xFRt/T3y2zt7G1KRJ4V\n",
       "u573lJhycyvuNbZJBz5qnLrYExdM+XczY6DPZ3pi9AHEwIqjNiwS5jOdqhDJjXPsvn8hyr0qQ0DW\n",
       "ltrHvLzAlJvFmVyKzvNWMZ/4G54FIz5EdgvhoFPL6SZZF68JxMR6kBDD7PauyoB17BvhVHtGTNl4\n",
       "wHFprHm84zGFzaDqO1IUBpx5Goq+AqJExwov+AryadIUtrVKI6dS90TsIMMcLXKsQGGd4GTXRR/t\n",
       "Dr5a6qM7zr9UPJWsS3DJXBklysAAAAFKAZ8rdEP/AJ9/jbvEZ5MYNmezbiADdylRWRGROxxXbuRv\n",
       "6zEWjY7rueCG+Elp+CFrdVyXLMl+e1CTEF9RxH2Q8zf+wQXyDtWQki3fzjk1LvfHyuugleZMPsXt\n",
       "kF3bHG970ikOErrsQ4iCE68rPsz8GKiL9J/zgooTDk3840uJWPlyXSf4JbY4hXYtv4NS6B8/IEhW\n",
       "U1e332B3anHH7MxIct8Eu8n612bIKu2zzjEXdP9zNp4wW+n1Dgm1/VSmB4h9achc/+nP1TPEmJOF\n",
       "wVRM4m5x0vFxLi/UiXs9sadZVO9IGDKvgjUPjlbtlSUii3AdqN05F7WPv/GhxWtTk1vuntHIY21U\n",
       "q7Mypk2nqhBgmnL3edVQH8BsptgKDbTi3cTPBKdAx5iKB8pXOilfTqhPvA3PvolmJYhKMs0aU7Aj\n",
       "0eSFEdXNfG4KLDhNAAAAxAGfLWpD/wCfTO6Ay23MiibvUIX/bmZaQ2EBAvNWnqdQc201yhXztvEC\n",
       "gyww87FS4cM9GgKYKdD4QX91tNhHTaADZXcgfcDgCBewNnXQkdF+sopoMf3TRp8wwT5yj8dTHL5X\n",
       "WFMVs0OhMpXAhJPEk3jlcsvqLL9ZcVI6vmPb9kaHcru6zBeUry3xBsmgH9b3ZBPkboCqwsBMYjYQ\n",
       "MP3cMwuQsnvsaaotmbvSCv+0SUs9STebF0dws37IkMjS8CMbEXn3yoEAAAHyQZsySahBaJlMCH//\n",
       "/qmWAC3/CuNMjsi1WtVKtctnq6MANvFNIoDqJ2sgD7UGPDJ9owO1oAA5vCtWwgC5iwFwvO/hUZLn\n",
       "gT3k4C27+IHIvNnYCmXz9TB+b/3ljNuAAYYA2cjHjMUDcjoy19cGnWl5wosfLR4DUyfjeUKws4cW\n",
       "MmiZxDqlqCb9nVxfUe18r5qSnueyloXT5kGWtHPj8eQEPtvqRtrcR4j1KQjPAn7CLzXcX2R6fCOW\n",
       "9hnMMWYLfMvgLTbOLsfSfGWoNSZZbhpIvBLPhu2dR4ZGYxKWpIIpNFjI+eN8OA++hk5+utzg8rMy\n",
       "iKG0XLNHSvSw4ybWKC5896ZBGscfVhHN2MOdl471I4jrg0C46JqfCX8xqCn5amXX/aiECifiUfyV\n",
       "4qJvMiy86abYMVotJHjzoOrCZXGZ6YOuTguaRzQNPXOS88gGQMeQstcBaJpeTvB+UYs+7bXc7sId\n",
       "t1mqoQEOKCMq3yWnkhZ0+TKzYOIYwuyIDAmRrOzH7MxSCSDvW8ymd0gUha7C2SMposD64ytyn3i8\n",
       "FQzwS+nHcrfbNByx5lGCnnbjdSWcVdWdZysZTv4eQplGNmcnCmrsWFy6gne8rtSGZKSuDArBYXE7\n",
       "vU1I+3RgAKKJD9OjAim2Qfy9JMNkohXZsYNwKUlBAAABgEGfUEURLBD/AEhWl4Am0cLXHDurhfWD\n",
       "QB5/uir4vHZzuqiQMGSKIAs6nwe1QAanjDS1D0D/xiTeZJP9wfl3ggmO6vOqQipbbu8EcEAqvKqM\n",
       "AI2b8xuIqSDHx1ac6TyXUnHVao5DALuIqiXQQHbk/uf5aDn1fsuF1Vpc7bB6UvHeg8AIekj+gmx5\n",
       "kVcCW00JVgExBMfwOOIOHUQAUdCqtgXIPH8itqp6I3mmQki452V7qkY+m6LvzsndolEubkloPgKT\n",
       "OugMu2aVtmNyB8WM49xugEuJ0NdXqzBMuFijGq5/u+sEB+ExeyLNU2CNWK6ULnvfOdOroDtlvuXJ\n",
       "u32HmfLpXbxADr1iRObaTPKePy7REvajDpYrtrvxBdbEiHULQSeIbKKZLRu3gL0PcXTfsXpyaTz6\n",
       "usTqLrd/V9x2STUIlbw1mw+YRNBscJnl03RkAx2hVFKfkluSBRri/XOdTRvg1EfKRd1nqSFmhi2I\n",
       "6UTBQiYkTYb2UpAN7wgMn5e7kAAAAMgBn290Q/8AltyTI7fqUeBT+LEobYbdNZi0HnFe3lF2Upnq\n",
       "LYCfAUS8L9OO/76KX9CtM19M5LJXwWA2B1y78/MJKX6S1NLDiSAPCH93k1TgJ2ji3Hw72QGh2jeZ\n",
       "i9AXYajv0h8vfyR+JphXoVZC7SiIPWmW5Gxa/SfhGLv4nrRN4wV51cIfpneN5SGqISVmltKJ6+80\n",
       "cGdrPlppKMRBXTbYb/i7QG+E5wsvWXqo3BWkyA8bXF+crKVs6M33J+w1RIf4McRTVuEVKgAAANMB\n",
       "n3FqQ/8AlwNbnd9AJ3wz5mYRSqveN7IzMJo6aQAA523WsYuonZu1NMDjjHyOidjb/PuG6HRz0g9B\n",
       "/qFG9Z2UWhPgiy6GoHzNH179QPN9QTQdSbtpESiO5qVpw1EML/4Bzzz7rtZyZErreygpX5chIkns\n",
       "9/3EomtJzNJryLI6SoxMB6voVW/YkedRAvSQ0p2Ihx/0V+VcHlRMKgJlcBXHfRtfIRSqdX6IzRKQ\n",
       "AwXJ68w0qk6Bh2KRMAx/nwKC8tdAgkiPJd4reKRWVNfKZ2rkI3eBAAAEEm1vb3YAAABsbXZoZAAA\n",
       "AAAAAAAAAAAAAAAAA+gAAA7YAAEAAAEAAAAAAAAAAAAAAAABAAAAAAAAAAAAAAAAAAAAAQAAAAAA\n",
       "AAAAAAAAAAAAQAAAAAAAAAAAAAAAAAAAAAAAAAAAAAAAAAAAAAAAAAIAAAM8dHJhawAAAFx0a2hk\n",
       "AAAAAwAAAAAAAAAAAAAAAQAAAAAAAA7YAAAAAAAAAAAAAAAAAAAAAAABAAAAAAAAAAAAAAAAAAAA\n",
       "AQAAAAAAAAAAAAAAAAAAQAAAAAGwAAABIAAAAAAAJGVkdHMAAAAcZWxzdAAAAAAAAAABAAAO2AAA\n",
       "EAAAAQAAAAACtG1kaWEAAAAgbWRoZAAAAAAAAAAAAAAAAAAAKAAAAJgAVcQAAAAAAC1oZGxyAAAA\n",
       "AAAAAAB2aWRlAAAAAAAAAAAAAAAAVmlkZW9IYW5kbGVyAAAAAl9taW5mAAAAFHZtaGQAAAABAAAA\n",
       "AAAAAAAAAAAkZGluZgAAABxkcmVmAAAAAAAAAAEAAAAMdXJsIAAAAAEAAAIfc3RibAAAALNzdHNk\n",
       "AAAAAAAAAAEAAACjYXZjMQAAAAAAAAABAAAAAAAAAAAAAAAAAAAAAAGwASAASAAAAEgAAAAAAAAA\n",
       "AQAAAAAAAAAAAAAAAAAAAAAAAAAAAAAAAAAAAAAAAAAAABj//wAAADFhdmNDAWQAFf/hABhnZAAV\n",
       "rNlBsJaEAAADAAQAAAMAKDxYtlgBAAZo6+PLIsAAAAAcdXVpZGtoQPJfJE/FujmlG88DI/MAAAAA\n",
       "AAAAGHN0dHMAAAAAAAAAAQAAABMAAAgAAAAAFHN0c3MAAAAAAAAAAQAAAAEAAACoY3R0cwAAAAAA\n",
       "AAATAAAAAQAAEAAAAAABAAAoAAAAAAEAABAAAAAAAQAAAAAAAAABAAAIAAAAAAEAABAAAAAAAQAA\n",
       "KAAAAAABAAAQAAAAAAEAAAAAAAAAAQAACAAAAAABAAAQAAAAAAEAACgAAAAAAQAAEAAAAAABAAAA\n",
       "AAAAAAEAAAgAAAAAAQAAKAAAAAABAAAQAAAAAAEAAAAAAAAAAQAACAAAAAAcc3RzYwAAAAAAAAAB\n",
       "AAAAAQAAABMAAAABAAAAYHN0c3oAAAAAAAAAAAAAABMAAAPiAAAFNQAAAgcAAADRAAAB6gAABPwA\n",
       "AAWKAAAFQQAAAzsAAAI3AAACfwAAAsEAAAGrAAABTgAAAMgAAAH2AAABhAAAAMwAAADXAAAAFHN0\n",
       "Y28AAAAAAAAAAQAAACwAAABidWR0YQAAAFptZXRhAAAAAAAAACFoZGxyAAAAAAAAAABtZGlyYXBw\n",
       "bAAAAAAAAAAAAAAAAC1pbHN0AAAAJal0b28AAAAdZGF0YQAAAAEAAAAATGF2ZjU2LjQwLjEwMQ==\n",
       "\">\n",
       "  Your browser does not support the video tag.\n",
       "</video>"
      ],
      "text/plain": [
       "<IPython.core.display.HTML object>"
      ]
     },
     "execution_count": 93,
     "metadata": {},
     "output_type": "execute_result"
    },
    {
     "data": {
      "image/png": "[encoded data removed]",
      "text/plain": [
       "<matplotlib.figure.Figure at 0x7f4e73c4f050>"
      ]
     },
     "metadata": {},
     "output_type": "display_data"
    }
   ],
   "source": [
    "files = glob.glob(sim_dir+\"*snp2D\")\n",
    "files.sort()\n",
    "\n",
    "fig = plt.figure()\n",
    "plt.axis('off')\n",
    "\n",
    "ims = []\n",
    "for i, f_path in enumerate(files):\n",
    "    params, img = readSnp2d(f_path)\n",
    "    im = plt.imshow(img)\n",
    "    ims.append([im])\n",
    "\n",
    "ani = animation.ArtistAnimation(fig, ims)\n",
    "HTML(ani.to_html5_video())"
   ]
  }
 ],
 "metadata": {
  "kernelspec": {
   "display_name": "Python 2",
   "language": "python",
   "name": "python2"
  },
  "language_info": {
   "codemirror_mode": {
    "name": "ipython",
    "version": 2
   },
   "file_extension": ".py",
   "mimetype": "text/x-python",
   "name": "python",
   "nbconvert_exporter": "python",
   "pygments_lexer": "ipython2",
   "version": "2.7.13"
  }
 },
 "nbformat": 4,
 "nbformat_minor": 2
}
