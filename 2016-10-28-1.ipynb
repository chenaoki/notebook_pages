{
 "cells": [
  {
   "cell_type": "code",
   "execution_count": 1,
   "metadata": {
    "collapsed": true
   },
   "outputs": [],
   "source": [
    "import commands\n",
    "import numpy as np\n",
    "import matplotlib.pyplot as plt\n",
    "%matplotlib inline"
   ]
  },
  {
   "cell_type": "code",
   "execution_count": 3,
   "metadata": {
    "collapsed": false
   },
   "outputs": [
    {
     "name": "stdout",
     "output_type": "stream",
     "text": [
      "/Volumes/HD-PLFU3/AnalysisResult//20140911-2/C001H001S0008/shift_phase.npy\n",
      "/Volumes/HD-PLFU3/AnalysisResult//20140911-2/C001H001S0014/shift_phase.npy\n",
      "/Volumes/HD-PLFU3/AnalysisResult//20140911-2/C001H001S0015/shift_phase.npy\n",
      "/Volumes/HD-PLFU3/AnalysisResult//20140911-2/C001H001S0017/shift_phase.npy\n",
      "/Volumes/HD-PLFU3/AnalysisResult//20140911-2/C001H001S0034/shift_phase.npy\n",
      "/Volumes/HD-PLFU3/AnalysisResult//20140911-2/C001H001S0035/shift_phase.npy\n",
      "/Volumes/HD-PLFU3/AnalysisResult//20140911-2/C001H001S0036/shift_phase.npy\n",
      "/Volumes/HD-PLFU3/AnalysisResult//20140911-2/C001H001S0038/shift_phase.npy\n",
      "/Volumes/HD-PLFU3/AnalysisResult//20160907-3/C001H001S0006/shift_phase.npy\n",
      "/Volumes/HD-PLFU3/AnalysisResult//20160907-3/C001H001S0011/shift_phase.npy\n",
      "/Volumes/HD-PLFU3/AnalysisResult//20160907-3/C001H001S0017/shift_phase.npy\n",
      "/Volumes/HD-PLFU3/AnalysisResult//20160907-3/C001H001S0022/shift_phase.npy\n",
      "/Volumes/HD-PLFU3/AnalysisResult//20161019-1/C001H001S0018/shift_phase.npy\n",
      "/Volumes/HD-PLFU3/AnalysisResult//20161019-1/C001H001S0019/shift_phase.npy\n",
      "/Volumes/HD-PLFU3/AnalysisResult//20161019-2/C001H001S0006/shift_phase.npy\n",
      "/Volumes/HD-PLFU3/AnalysisResult//20161019-2/C001H001S0007/shift_phase.npy\n",
      "/Volumes/HD-PLFU3/AnalysisResult//20161019-2/C001H001S0008/shift_phase.npy\n",
      "/Volumes/HD-PLFU3/AnalysisResult//20161019-2/C001H001S0009/shift_phase.npy\n",
      "/Volumes/HD-PLFU3/AnalysisResult//20161019-2/C001H001S0010/shift_phase.npy\n",
      "/Volumes/HD-PLFU3/AnalysisResult//20161019-2/C001H001S0011/shift_phase.npy\n",
      "/Volumes/HD-PLFU3/AnalysisResult//20161019-2/C001H001S0012/shift_phase.npy\n",
      "/Volumes/HD-PLFU3/AnalysisResult//20161019-2/C001H001S0013/shift_phase.npy\n",
      "/Volumes/HD-PLFU3/AnalysisResult//20161019-2/C001H001S0014/shift_phase.npy\n",
      "/Volumes/HD-PLFU3/AnalysisResult//20161019-2/C001H001S0015/shift_phase.npy\n",
      "/Volumes/HD-PLFU3/AnalysisResult//20161019-2/C001H001S0016/shift_phase.npy\n",
      "/Volumes/HD-PLFU3/AnalysisResult//20161019-2/C001H001S0017/shift_phase.npy\n",
      "/Volumes/HD-PLFU3/AnalysisResult//20161019-2/C001H001S0018/shift_phase.npy\n",
      "/Volumes/HD-PLFU3/AnalysisResult//20161019-2/C001H001S0019/shift_phase.npy\n",
      "/Volumes/HD-PLFU3/AnalysisResult//20161019-2/C001H001S0020/shift_phase.npy\n",
      "/Volumes/HD-PLFU3/AnalysisResult//20161019-2/C001H001S0021/shift_phase.npy\n",
      "/Volumes/HD-PLFU3/AnalysisResult//20161019-2/C001H001S0022/shift_phase.npy\n",
      "/Volumes/HD-PLFU3/AnalysisResult//20161019-2/C001H001S0023/shift_phase.npy\n",
      "/Volumes/HD-PLFU3/AnalysisResult//20161019-2/C001H001S0024/shift_phase.npy\n",
      "/Volumes/HD-PLFU3/AnalysisResult//20161019-3/C001H001S0024/shift_phase.npy\n",
      "/Volumes/HD-PLFU3/AnalysisResult//20161019-3/C001H001S0025/shift_phase.npy\n",
      "/Volumes/HD-PLFU3/AnalysisResult//20161021-1/C001H001S0009/shift_phase.npy\n",
      "/Volumes/HD-PLFU3/AnalysisResult//20161021-1/C001H001S0010/shift_phase.npy\n",
      "/Volumes/HD-PLFU3/AnalysisResult//20161021-1/C001H001S0011/shift_phase.npy\n",
      "/Volumes/HD-PLFU3/AnalysisResult//20161021-1/C001H001S0012/shift_phase.npy\n",
      "/Volumes/HD-PLFU3/AnalysisResult//20161021-1/C001H001S0013/shift_phase.npy\n",
      "/Volumes/HD-PLFU3/AnalysisResult//20161021-1/C001H001S0014/shift_phase.npy\n",
      "/Volumes/HD-PLFU3/AnalysisResult//20161021-1/C001H001S0016/shift_phase.npy\n",
      "/Volumes/HD-PLFU3/AnalysisResult//20161021-2/C001H001S0010/shift_phase.npy\n",
      "/Volumes/HD-PLFU3/AnalysisResult//20161021-2/C001H001S0011/shift_phase.npy\n",
      "/Volumes/HD-PLFU3/AnalysisResult//20161021-2/C001H001S0012/shift_phase.npy\n",
      "45\n"
     ]
    }
   ],
   "source": [
    "files = commands.getoutput(\"find /Volumes/HD-PLFU3/AnalysisResult/ -maxdepth 3 -type f -name shift_phase.npy\").split('\\n')\n",
    "for f in files : print f\n",
    "print len(files)"
   ]
  },
  {
   "cell_type": "code",
   "execution_count": 24,
   "metadata": {
    "collapsed": false
   },
   "outputs": [],
   "source": [
    "def phase_add(a, b):\n",
    "    a_ = np.cos(a) + np.sin(a)*1j\n",
    "    b_ = np.cos(b) + np.sin(b)*1j\n",
    "    return np.angle(a_*b_)\n",
    "\n",
    "def phase_mean(X):\n",
    "    a = 1\n",
    "    for x in X : a *= ( np.cos(x) + np.sin(x)*1j)\n",
    "    return np.angle(a)\n",
    "\n",
    "def phase_var(X):\n",
    "    a = 0\n",
    "    for x in X: a += ( np.cos(x) + np.sin(x)*1j)\n",
    "    return np.angle(a)\n",
    "\n",
    "#print phase_add(np.pi/4, -np.pi/2)/np.pi\n",
    "#X = np.arange(-np.pi, 2*np.pi+0.1*np.pi, 0.2*np.pi)\n",
    "#print X\n",
    "#print phase_mean(X)/np.pi"
   ]
  },
  {
   "cell_type": "code",
   "execution_count": 4,
   "metadata": {
    "collapsed": false
   },
   "outputs": [
    {
     "name": "stdout",
     "output_type": "stream",
     "text": [
      "(2123,)\n"
     ]
    }
   ],
   "source": [
    "list_data = [ np.load(f) for f in files]\n",
    "list_phase = []\n",
    "for d in list_data : list_phase.extend(list(d))\n",
    "list_phase = np.array(list_phase)\n",
    "print list_phase.shape"
   ]
  },
  {
   "cell_type": "code",
   "execution_count": 27,
   "metadata": {
    "collapsed": false
   },
   "outputs": [
    {
     "name": "stdout",
     "output_type": "stream",
     "text": [
      "(2123,)\n",
      "mean 2.55429917248\n",
      "var 2.50090837931\n"
     ]
    },
    {
     "data": {
      "image/png": "[encoded data removed]",
      "text/plain": [
       "<matplotlib.figure.Figure at 0x103e11e50>"
      ]
     },
     "metadata": {},
     "output_type": "display_data"
    }
   ],
   "source": [
    "print list_phase.shape\n",
    "print \"mean\", phase_mean(list_phase)\n",
    "print \"var\", phase_var(list_phase)\n",
    "plt.hist(list_phase, np.arange(-np.pi, np.pi+0.05*np.pi, 0.1*np.pi))\n",
    "plt.xlim(-np.pi, np.pi)\n",
    "plt.xlabel(\"Phase [rad]\")\n",
    "plt.ylabel(\"#Pixels\")\n",
    "plt.savefig(\"/Users/tomii/tmp/AnalysisResult/phase_shift_total.png\")\n",
    "plt.show()"
   ]
  },
  {
   "cell_type": "code",
   "execution_count": 28,
   "metadata": {
    "collapsed": false
   },
   "outputs": [
    {
     "name": "stdout",
     "output_type": "stream",
     "text": [
      "(45,)\n",
      "2.55429917248\n",
      "-2.64090385289\n"
     ]
    },
    {
     "data": {
      "image/png": "[encoded data removed]",
      "text/plain": [
       "<matplotlib.figure.Figure at 0x103e11c10>"
      ]
     },
     "metadata": {},
     "output_type": "display_data"
    }
   ],
   "source": [
    "means = np.array([phase_mean(d) for d in list_data])\n",
    "print means.shape\n",
    "print phase_mean(means)\n",
    "print phase_var(means)\n",
    "plt.hist(means, np.arange(-np.pi, np.pi+0.05*np.pi, np.pi*0.1))\n",
    "plt.xlabel(\"Phase [rad]\")\n",
    "plt.ylabel(\"#Stimulation case\")\n",
    "plt.savefig(\"/Users/tomii/tmp/AnalysisResult/phase_shift_means.png\")"
   ]
  },
  {
   "cell_type": "code",
   "execution_count": 4,
   "metadata": {
    "collapsed": false
   },
   "outputs": [
    {
     "data": {
      "text/plain": [
       "1.5814260587551985"
      ]
     },
     "execution_count": 4,
     "metadata": {},
     "output_type": "execute_result"
    }
   ],
   "source": [
    "np.sqrt(2.50090837931)"
   ]
  }
 ],
 "metadata": {
  "kernelspec": {
   "display_name": "Python 2",
   "language": "python",
   "name": "python2"
  },
  "language_info": {
   "codemirror_mode": {
    "name": "ipython",
    "version": 2
   },
   "file_extension": ".py",
   "mimetype": "text/x-python",
   "name": "python",
   "nbconvert_exporter": "python",
   "pygments_lexer": "ipython2",
   "version": "2.7.11"
  }
 },
 "nbformat": 4,
 "nbformat_minor": 0
}
