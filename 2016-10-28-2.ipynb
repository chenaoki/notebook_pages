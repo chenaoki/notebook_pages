{
 "cells": [
  {
   "cell_type": "code",
   "execution_count": 1,
   "metadata": {
    "collapsed": false
   },
   "outputs": [],
   "source": [
    "from mpl_toolkits.mplot3d import Axes3D\n",
    "import numpy as np\n",
    "import matplotlib.pyplot as plt\n",
    "# data_dir = \"/Volumes/HD-PLFU3/AnalysisResult/\"\n",
    "data_dir = \"/Users/tomii/tmp/AnalysisResult/\""
   ]
  },
  {
   "cell_type": "code",
   "execution_count": 2,
   "metadata": {
    "collapsed": true
   },
   "outputs": [],
   "source": [
    "def show_log(d):\n",
    "    for i, l in enumerate(d): \n",
    "        print i, \",\", \n",
    "        for e in l:\n",
    "            print \"{0:.0f}, \".format(e),\n",
    "        print\n",
    "        \n",
    "def recur_trace(d):\n",
    "    tr_base = []\n",
    "    tr_ext   = []\n",
    "    for i, l in enumerate(d): \n",
    "        if len(tr_base) == 0: \n",
    "            tr_base.append(l)\n",
    "        else:\n",
    "            if tr_base[-1][0] == l[0]:\n",
    "                if len(tr_base) >= 2:\n",
    "                    p1 = np.array([tr_base[-2][2],  tr_base[-2][3]])\n",
    "                    p2 = np.array([tr_base[-1][2],  tr_base[-1][3]])\n",
    "                    p3 = np.array([                    l[2],                     l[3]])\n",
    "                    p1p2 = np.linalg.norm(p1-p2)\n",
    "                    p1p3 = np.linalg.norm(p1-p3)\n",
    "                    if p1p3 < p1p2:\n",
    "                        tr_ext.append(tr_base[-1]) \n",
    "                        tr_base[-1] = l\n",
    "                    else:\n",
    "                        tr_ext.append(l)\n",
    "                else:\n",
    "                    tr_ext.append(l)\n",
    "            else:\n",
    "                tr_base.append(l)\n",
    "    return tr_base, tr_ext"
   ]
  },
  {
   "cell_type": "code",
   "execution_count": 3,
   "metadata": {
    "collapsed": false
   },
   "outputs": [],
   "source": [
    "stims = [ ]\n",
    "for line in file(\"/Users/tomii/tmp/AnalysisResult/pv_stim.csv\"):\n",
    "    s = line.rstrip('\\n').split(',')\n",
    "    stims.append({\n",
    "            \"sample\":s[0], \n",
    "            \"session\" : int(s[1]), \n",
    "            \"frame_start\":int(s[2]),  \n",
    "            \"frame_end\": int(s[3]), \n",
    "            \"core_id\" : int(s[4]),\n",
    "            \"roi\" : [ int(v) for v in s[5:]]        \n",
    "        })\n",
    "#for i, s in enumerate(stims): print \"{0:0>2}\".format(i), \" : \", s[\"sample\"], \" : \", s[\"session\"] , \" : \", s[\"roi\"]"
   ]
  },
  {
   "cell_type": "code",
   "execution_count": 4,
   "metadata": {
    "collapsed": false
   },
   "outputs": [
    {
     "name": "stdout",
     "output_type": "stream",
     "text": [
      "{'roi': [0, 128, 0, 128], 'core_id': 6, 'sample': '20161021-1', 'frame_end': 205, 'session': 9, 'frame_start': 175}\n",
      "/Volumes/HD-PLFU3/AnalysisResult/20161021-1/C001H001S0009/\n"
     ]
    }
   ],
   "source": [
    "s = stims[36]\n",
    "sess_dir = data_dir+\"{0}/C001H001S{1:0>4}/\".format(s[\"sample\"], s[\"session\"])\n",
    "frame_start = s[\"frame_start\"]\n",
    "frame_end = s[\"frame_end\"]\n",
    "core_id = s[\"core_id\"]\n",
    "left = s[\"roi\"][0]\n",
    "right = s[\"roi\"][1]\n",
    "top = s[\"roi\"][2]\n",
    "bottom = s[\"roi\"][3]\n",
    "print s\n",
    "print sess_dir"
   ]
  },
  {
   "cell_type": "code",
   "execution_count": 5,
   "metadata": {
    "collapsed": false
   },
   "outputs": [],
   "source": [
    "x = np.fromfile(sess_dir+\"/core.log\", sep=' ')\n",
    "x = x.reshape(x.shape[0]/4, 4)\n",
    "#show_log(x)"
   ]
  },
  {
   "cell_type": "code",
   "execution_count": 6,
   "metadata": {
    "collapsed": false
   },
   "outputs": [],
   "source": [
    "d = filter(lambda l:\\\n",
    "           l[0] in range(frame_start, frame_end+1) and\\\n",
    "           l[1] == core_id \\\n",
    "           and \\\n",
    "           top <= l[2] <= bottom \\\n",
    "           and \\\n",
    "           left <= l[3] <= right \\\n",
    "           , x)\n",
    "#show_log(d)"
   ]
  },
  {
   "cell_type": "code",
   "execution_count": 7,
   "metadata": {
    "collapsed": false
   },
   "outputs": [
    {
     "name": "stdout",
     "output_type": "stream",
     "text": [
      "\n",
      "0\n",
      "0 , 175,  6,  68,  75, \n",
      "1 , 176,  6,  65,  74, \n",
      "2 , 177,  6,  64,  74, \n",
      "3 , 178,  6,  64,  73, \n",
      "4 , 179,  6,  63,  73, \n",
      "5 , 180,  6,  63,  73, \n",
      "6 , 181,  6,  62,  72, \n",
      "7 , 182,  6,  62,  72, \n",
      "8 , 183,  6,  62,  72, \n",
      "9 , 184,  6,  62,  72, \n",
      "10 , 185,  6,  62,  72, \n",
      "11 , 186,  6,  61,  71, \n",
      "12 , 187,  6,  61,  71, \n",
      "13 , 188,  6,  60,  70, \n",
      "14 , 189,  6,  60,  70, \n",
      "15 , 190,  6,  60,  70, \n",
      "16 , 191,  6,  60,  70, \n",
      "17 , 192,  6,  60,  70, \n",
      "18 , 193,  6,  60,  70, \n",
      "19 , 194,  6,  60,  70, \n",
      "20 , 195,  6,  60,  70, \n",
      "21 , 196,  6,  60,  70, \n",
      "22 , 197,  6,  60,  69, \n",
      "23 , 198,  6,  60,  69, \n",
      "24 , 199,  6,  60,  69, \n",
      "25 , 200,  6,  60,  69, \n",
      "26 , 201,  6,  59,  69, \n",
      "27 , 202,  6,  59,  69, \n",
      "28 , 203,  6,  59,  69, \n",
      "29 , 204,  6,  59,  68, \n",
      "30 , 205,  6,  59,  68, \n",
      "1\n",
      "0 , 175,  6,  81,  55, \n",
      "1 , 176,  6,  82,  56, \n",
      "2 , 177,  6,  82,  56, \n",
      "3 , 178,  6,  82,  56, \n",
      "4 , 179,  6,  82,  57, \n",
      "5 , 180,  6,  83,  57, \n",
      "6 , 181,  6,  83,  58, \n",
      "7 , 182,  6,  84,  58, \n",
      "8 , 183,  6,  84,  58, \n",
      "9 , 184,  6,  84,  59, \n",
      "10 , 185,  6,  85,  59, \n",
      "11 , 186,  6,  86,  60, \n",
      "12 , 187,  6,  86,  61, \n",
      "13 , 188,  6,  87,  62, \n",
      "14 , 189,  6,  88,  64, \n",
      "15 , 190,  6,  89,  64, \n",
      "16 , 191,  6,  90,  65, \n",
      "17 , 192,  6,  89,  65, \n",
      "18 , 193,  6,  91,  68, \n",
      "19 , 194,  6,  92,  70, \n",
      "20 , 195,  6,  92,  70, \n",
      "21 , 196,  6,  92,  71, \n",
      "22 , 197,  6,  92,  72, \n",
      "23 , 198,  6,  92,  73, \n",
      "24 , 199,  6,  92,  73, \n",
      "25 , 200,  6,  91,  74, \n",
      "26 , 201,  6,  91,  74, \n",
      "27 , 202,  6,  90,  75, \n",
      "28 , 203,  6,  87,  76, \n",
      "29 , 204,  6,  87,  76, \n",
      "30 , 205,  6,  87,  76, \n",
      "2\n",
      "0 , 176,  6,  70,  75, \n",
      "1 , 177,  6,  71,  75, \n",
      "2 , 178,  6,  72,  75, \n",
      "3 , 179,  6,  72,  76, \n",
      "4 , 180,  6,  74,  76, \n",
      "5 , 181,  6,  74,  76, \n",
      "6 , 182,  6,  74,  76, \n",
      "7 , 183,  6,  74,  76, \n",
      "8 , 184,  6,  75,  76, \n",
      "9 , 185,  6,  76,  76, \n",
      "10 , 186,  6,  76,  76, \n",
      "11 , 187,  6,  76,  76, \n",
      "12 , 188,  6,  77,  76, \n",
      "13 , 189,  6,  77,  76, \n",
      "14 , 190,  6,  78,  76, \n",
      "15 , 191,  6,  78,  76, \n",
      "16 , 192,  6,  78,  76, \n",
      "17 , 193,  6,  79,  76, \n",
      "18 , 194,  6,  80,  76, \n",
      "19 , 195,  6,  80,  76, \n",
      "20 , 196,  6,  80,  76, \n",
      "21 , 197,  6,  81,  76, \n",
      "22 , 198,  6,  82,  77, \n",
      "23 , 199,  6,  82,  76, \n",
      "24 , 200,  6,  83,  77, \n",
      "25 , 201,  6,  84,  77, \n",
      "26 , 202,  6,  84,  76, \n",
      "3\n",
      "0 , 183,  6,  85,  60, \n",
      "1 , 185,  6,  86,  61, \n",
      "2 , 192,  6,  90,  67, \n"
     ]
    }
   ],
   "source": [
    "tr_all = []\n",
    "tr_ext = d\n",
    "while True:\n",
    "    tr_base, tr_ext = recur_trace(tr_ext)\n",
    "    tr_all.append(tr_base)\n",
    "    if len(tr_ext) == 0:\n",
    "        break\n",
    "\n",
    "print \n",
    "\n",
    "for i, tr in enumerate(tr_all): \n",
    "    print i\n",
    "    show_log(tr)"
   ]
  }
 ],
 "metadata": {
  "kernelspec": {
   "display_name": "Python 2",
   "language": "python",
   "name": "python2"
  },
  "language_info": {
   "codemirror_mode": {
    "name": "ipython",
    "version": 2
   },
   "file_extension": ".py",
   "mimetype": "text/x-python",
   "name": "python",
   "nbconvert_exporter": "python",
   "pygments_lexer": "ipython2",
   "version": "2.7.11"
  }
 },
 "nbformat": 4,
 "nbformat_minor": 0
}
