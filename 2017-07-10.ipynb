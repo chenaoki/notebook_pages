{
 "cells": [
  {
   "cell_type": "code",
   "execution_count": 2,
   "metadata": {
    "collapsed": true
   },
   "outputs": [],
   "source": [
    "import numpy as np\n",
    "import matplotlib.pyplot as plt\n",
    "import os\n",
    "import pandas as pd\n",
    "import pickle\n",
    "import copy\n",
    "import cv2\n",
    "import math\n",
    "from matplotlib import animation, rc\n",
    "from IPython.display import HTML\n",
    "%matplotlib inline"
   ]
  },
  {
   "cell_type": "code",
   "execution_count": 3,
   "metadata": {
    "collapsed": true
   },
   "outputs": [],
   "source": [
    "from opmap.RawCam import RawCam\n",
    "from opmap.VmemMap import VmemMap\n",
    "from opmap.PhaseMap import PhaseMap\n",
    "from opmap.PhaseVarianceMap import PhaseVarianceMap\n",
    "from opmap.PhaseVariancePeakMap import PhaseVariancePeakMap\n",
    "from opmap.util import makeMovie"
   ]
  },
  {
   "cell_type": "code",
   "execution_count": 7,
   "metadata": {},
   "outputs": [],
   "source": [
    "exp_dir = \"/mnt/recordings/ExperimentData/\"\n",
    "anl_dir = \"/mnt/recordings/AnalysisResult/Tomii/2017-07-19/\"\n",
    "\n",
    "df_path = os.path.join( anl_dir, \"pv_stim.csv\" )\n",
    "\n",
    "delay = 5\n",
    "\n",
    "pv_thre = 0.7"
   ]
  },
  {
   "cell_type": "code",
   "execution_count": 8,
   "metadata": {
    "collapsed": true
   },
   "outputs": [],
   "source": [
    "def show_session(s):\n",
    "    for key in s.keys(): \n",
    "        print \"{0}:{1}\".format(key, s[key])\n",
    "    \n",
    "def integrate_all(cam, vmem, pmap, pvmap, stim_x, stim_y ):\n",
    "    \n",
    "    shape = pvmap.data.shape\n",
    "    phase_wf = -1.9\n",
    "    phase_wt = 2.3\n",
    "    phase_w = 0.075\n",
    "    step = vmem.data.shape[1] /  pvmap.data.shape[1] \n",
    "    \n",
    "    rgb_img = np.zeros( (shape[0]-delay, shape[1], shape[2], 3), dtype=np.uint8)\n",
    "    \n",
    "    #------------------\n",
    "    # Camera\n",
    "    #------------------\n",
    "    rgb_img[:,:,:,1] = (  (cam.data[delay:,::step,::step] - cam.vmin) / (cam.vmax-cam.vmin)*96 ).astype(np.uint8)\n",
    "    \n",
    "    #------------------\n",
    "    # Vmem\n",
    "    #------------------\n",
    "    # rgb_img[:,:,:,0] = ( (vmem.data[delay:,::step,::step]-vmem.vmin)*0.5*255 ).astype(np.uint8)\n",
    "    rgb_img[:,:,:,2] = 127 + ( vmem.data[delay:,::step,::step]*128 ).astype(np.uint8)\n",
    "    rgb_img[:,:,:,0] = 127 + ( - vmem.data[delay:,::step,::step]*128 ).astype(np.uint8)\n",
    "    \n",
    "    #------------------\n",
    "    # WF\n",
    "    #------------------\n",
    "    mask = (( np.abs( pmap.data - phase_wf ) < phase_w )*1.0).astype(np.uint8)[:-delay,:,:]\n",
    "    for i in range(3) : rgb_img[:,:,:,i] *= (1-mask)\n",
    "    rgb_img[:,:,:,2] += mask*255\n",
    "\n",
    "    #------------------\n",
    "    # WT\n",
    "    #------------------\n",
    "    mask = (( np.abs( pmap.data - phase_wt ) < phase_w )*1.0).astype(np.uint8)[:-delay,:,:]\n",
    "    for i in range(3) : rgb_img[:,:,:,i] *= (1-mask)\n",
    "    rgb_img[:,:,:,0] += mask*255\n",
    "    \n",
    "    #------------------\n",
    "    # ROI\n",
    "    #------------------\n",
    "    for i in range(shape[0]-delay) : \n",
    "        for c in range(3):\n",
    "            rgb_img[i,:,:,c] *= pvmap.roi[:,:].astype(np.uint8)\n",
    "        \n",
    "    #------------------\n",
    "    # PS (#FFFFFF)\n",
    "    #------------------\n",
    "    mask = (( pvmap.data > pv_thre )*1.0).astype(np.uint8)[:-delay,:,:]\n",
    "    for i in range(3) : rgb_img[:,:,:,i] *= (1-mask)\n",
    "    for i in range(3) : rgb_img[:,:,:,i] += mask*(255*pvmap.data[:-delay,:,:]).astype(np.uint8)\n",
    "        \n",
    "    #------------------\n",
    "    # Stim point (#FFFF00)\n",
    "    #------------------\n",
    "    mask = np.zeros( (shape[0]-delay, shape[1], shape[2]), dtype=np.uint8 )\n",
    "    mask[ :, stim_y-1:stim_y+2, stim_x-1:stim_x+2 ] = 1\n",
    "    for i in range(3) : rgb_img[:,:,:,i] *= (1-mask)\n",
    "    rgb_img[:,:,:,2] += (mask*255).astype(np.uint8)\n",
    "    rgb_img[:,:,:,1] += (mask*255).astype(np.uint8)        \n",
    "    \n",
    "    return rgb_img\n",
    "\n"
   ]
  },
  {
   "cell_type": "markdown",
   "metadata": {},
   "source": [
    "## Data frameロード"
   ]
  },
  {
   "cell_type": "code",
   "execution_count": 9,
   "metadata": {},
   "outputs": [
    {
     "name": "stdout",
     "output_type": "stream",
     "text": [
      "N: 37\n"
     ]
    }
   ],
   "source": [
    "df = pd.read_csv(df_path)\n",
    "print \"N:\",len(df)\n",
    "#df"
   ]
  },
  {
   "cell_type": "code",
   "execution_count": 10,
   "metadata": {
    "collapsed": true
   },
   "outputs": [],
   "source": [
    "#sessions = range(len(df))\n",
    "\n",
    "#sessions = range(5)\n",
    "\n",
    "#sessions =  range(15, 25)\n",
    "\n",
    "sessions = [4]"
   ]
  },
  {
   "cell_type": "code",
   "execution_count": 17,
   "metadata": {
    "scrolled": false
   },
   "outputs": [
    {
     "ename": "IndentationError",
     "evalue": "expected an indented block (<ipython-input-17-5fbf15dc5966>, line 11)",
     "output_type": "error",
     "traceback": [
      "\u001b[0;36m  File \u001b[0;32m\"<ipython-input-17-5fbf15dc5966>\"\u001b[0;36m, line \u001b[0;32m11\u001b[0m\n\u001b[0;31m    print \"{0}:{1}\".format(i, target)\u001b[0m\n\u001b[0m        ^\u001b[0m\n\u001b[0;31mIndentationError\u001b[0m\u001b[0;31m:\u001b[0m expected an indented block\n"
     ]
    }
   ],
   "source": [
    "for i in sessions:\n",
    "    \n",
    "    s = df.loc[i,:]\n",
    "    \n",
    "    sample = s[\"sample\"]\n",
    "    session = s[\"session\"]\n",
    "    target = \"{0}/{1}/C001H001S{2:0>4}\".format(exp_dir, sample, session)    \n",
    "    save_dir = target.replace(exp_dir, anl_dir)\n",
    "    print \"{0}:{1}\".format(i, target)\n",
    "    \n",
    "    if 'cam' in locals() : del(cam)\n",
    "    if 'vmem' in locals() : del(vmem)\n",
    "    if 'pmap' in locals() : del(pmap)\n",
    "    if 'pvmap' in locals() : del(pvmap)\n",
    "    if 'pvpmap' in locals() : del(pvpmap)\n",
    "\n",
    "    cam = RawCam(\n",
    "        path = target,\n",
    "        cam_type = 'sa4', \n",
    "        image_height = 512, image_width = 512, \n",
    "        frame_start = 0, frame_end = 500 )\n",
    "    vmem = VmemMap( cam )\n",
    "    vmem_ = copy.deepcopy(vmem)\n",
    "    vmem_.setDiffRange(diff_min=64)\n",
    "    vmem_.morphROI(closing=3)\n",
    "    vmem_.smooth(9)\n",
    "    pmap = PhaseMap( vmem_ )\n",
    "    pvmap = PhaseVarianceMap(pmap, size=5)\n",
    "    pvpmap = PhaseVariancePeakMap(pvmap)\n",
    "    core_log = pvpmap.getCoreLog()\n",
    "    rgb_img = integrate_all(cam, vmem_, pmap, pvmap, stim_x=s[\"stim_x\"], stim_y=s[\"stim_y\"])\n",
    "    \n",
    "    if True:\n",
    "        np.savez(os.path.join(save_dir, \"vmem\"), vmem.data)\n",
    "        np.savez(os.path.join(save_dir, \"pmap\"), pmap.data)\n",
    "        np.savez(os.path.join(save_dir, \"pvmap\"), pvmap.data)\n",
    "        np.savez(os.path.join(save_dir, \"pvpmap\"), pvpmap.data)\n",
    "\n",
    "    with open(os.path.join(save_dir, \"center.csv\"), 'w') as outf:\n",
    "        for row in core_log:\n",
    "            str_line = ''\n",
    "            for elem in row:\n",
    "                str_line += '{0},'.format(elem)\n",
    "            str_line.rstrip(',')\n",
    "            outf.write(str_line)\n",
    "            outf.write('\\n')\n",
    "    continue\n",
    "            \n",
    "    with open(os.path.join(save_dir, \"elec_phase.log\"), 'w') as outf:\n",
    "        elec_phase = pmap.data[:, s[\"stim_y\"], s[\"stim_x\"]]\n",
    "        for i, v in enumerate(elec_phase):\n",
    "            outf.write('{0} {1}\\n'.format(i, v))\n",
    "\n",
    "    dirs = []\n",
    "\n",
    "    #d = os.path.join( save_dir , \"vmem\");  vmem.saveImage(d); dirs.append(d)\n",
    "    #d = os.path.join( save_dir , \"pmap\"); pmap.saveImage(d); dirs.append(d)\n",
    "    #d = os.path.join( save_dir , \"pvmap\"); pvmap.saveImage(d); dirs.append(d)\n",
    "    #d = os.path.join( save_dir , \"pvpmap\"); pvpmap.saveImage(d); dirs.append(d)\n",
    "\n",
    "    d = os.path.join( save_dir , \"all\")\n",
    "    if not os.path.exists(d) : os.mkdir(d)\n",
    "    dirs.append(d)\n",
    "    for i, img in enumerate(rgb_img):\n",
    "        #im = plt.imshow(img)\n",
    "        #plt.savefig(os.path.join(d, \"{0:0>6}.png\".format(i)))\n",
    "        cv2.putText(img,\"{0:0>4}ms\".format(i), (4,16), cv2.FONT_HERSHEY_PLAIN, 0.6, (255,255,255))\n",
    "        cv2.imwrite(os.path.join(d, \"{0:0>6}.png\".format(i)), img)\n",
    "        \n",
    "    for d in dirs: makeMovie(d)\n"
   ]
  }
 ],
 "metadata": {
  "kernelspec": {
   "display_name": "Python 2",
   "language": "python",
   "name": "python2"
  },
  "language_info": {
   "codemirror_mode": {
    "name": "ipython",
    "version": 2
   },
   "file_extension": ".py",
   "mimetype": "text/x-python",
   "name": "python",
   "nbconvert_exporter": "python",
   "pygments_lexer": "ipython2",
   "version": "2.7.13"
  }
 },
 "nbformat": 4,
 "nbformat_minor": 2
}
