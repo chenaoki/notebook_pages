{
 "cells": [
  {
   "cell_type": "code",
   "execution_count": 1,
   "metadata": {
    "collapsed": false
   },
   "outputs": [],
   "source": [
    "from mpl_toolkits.mplot3d import Axes3D\n",
    "import numpy as np\n",
    "import pandas as pd\n",
    "import matplotlib.pyplot as plt\n",
    "#%matplotlib inline"
   ]
  },
  {
   "cell_type": "code",
   "execution_count": 2,
   "metadata": {
    "collapsed": true
   },
   "outputs": [],
   "source": [
    "df_path = \"/Users/tomii/tmp/AnalysisResult/pv_stim_pandas.csv\""
   ]
  },
  {
   "cell_type": "code",
   "execution_count": 3,
   "metadata": {
    "collapsed": false,
    "scrolled": true
   },
   "outputs": [],
   "source": [
    "df = pd.read_csv(df_path)"
   ]
  },
  {
   "cell_type": "code",
   "execution_count": 4,
   "metadata": {
    "collapsed": false
   },
   "outputs": [],
   "source": [
    "data = np.zeros([len(df), 4])\n",
    "for i in range(len(df)):\n",
    "    s = df.loc[i,:]    \n",
    "    vec_pre = (s.stim_x - s.pre_x) + 1j*(s.stim_y - s.pre_y)\n",
    "    shift = np.abs(((s.pst_x - s.pre_x) + 1j*(s.pst_y - s.pre_y)))\n",
    "    \n",
    "    d = np.array([s.stim_phase, np.abs(vec_pre), np.angle(vec_pre) - s.fb_angle, shift])\n",
    "    data[i,:] = d\n",
    "    #print i, s.sample, s.session, d\n",
    "\n",
    "plt.hist(data[:,3], np.arange(1,40,2))\n",
    "plt.show()"
   ]
  },
  {
   "cell_type": "code",
   "execution_count": 5,
   "metadata": {
    "collapsed": false
   },
   "outputs": [
    {
     "name": "stderr",
     "output_type": "stream",
     "text": [
      "/usr/local/lib/python2.7/site-packages/matplotlib/collections.py:571: FutureWarning: elementwise comparison failed; returning scalar instead, but in the future will perform elementwise comparison\n",
      "  if self._edgecolors == str('face'):\n"
     ]
    }
   ],
   "source": [
    "#thre = np.max(data[:,2])*0.5\n",
    "thre = 18\n",
    "\n",
    "x =  np.cos(data[:,0])\n",
    "y = np.sin(data[:,0])\n",
    "x *= np.absolute(np.cos(data[:,2]))\n",
    "y *= np.absolute(np.cos(data[:,2]))\n",
    "\n",
    "rgb = (np.c_[data[:,3], data[:,3], data[:,3]] > thre)*1.0\n",
    "#rgb = np.c_[data[:,3], data[:,3], data[:,3]] / np.max(data[:,3])\n",
    "#rgb[:,1] = 0.0\n",
    "#rgb[:,2] = 1-rgb[:,0]\n",
    "\n",
    "fig, ax = plt.subplots()\n",
    "ax.scatter(x, y, s=100, facecolors=rgb)\n",
    "plt.xlim([-1.5,1.5])\n",
    "plt.ylim([-1.5,1.5])\n",
    "plt.show()"
   ]
  },
  {
   "cell_type": "code",
   "execution_count": 6,
   "metadata": {
    "collapsed": false
   },
   "outputs": [
    {
     "name": "stdout",
     "output_type": "stream",
     "text": [
      "21.3125690317\n"
     ]
    }
   ],
   "source": [
    "#thre = np.max(data[:,2])*0.5\n",
    "#thre = np.mean(data[:,2])\n",
    "\n",
    "x =  np.cos(data[:,0])\n",
    "y = np.sin(data[:,0])\n",
    "x *= data[:,1]\n",
    "y *= data[:,1]\n",
    "#x /= np.max(data[:,1])\n",
    "#y /= np.max(data[:,1])\n",
    "\n",
    "rgb = (np.c_[data[:,3], data[:,3], data[:,3]] > thre)*1.0\n",
    "#rgb = np.c_[data[:,3], data[:,3], data[:,3]] / np.max(data[:,3])\n",
    "#rgb[:,1] = 0.0\n",
    "#rgb[:,2] = 1-rgb[:,0]\n",
    "\n",
    "fig, ax = plt.subplots()\n",
    "ax.scatter(x, y, s=100, facecolors=rgb)\n",
    "plt.xlim([-40,40])\n",
    "plt.ylim([-40,40])\n",
    "plt.show()\n",
    "\n",
    "print np.mean(data[:,1])"
   ]
  },
  {
   "cell_type": "code",
   "execution_count": 7,
   "metadata": {
    "collapsed": false
   },
   "outputs": [
    {
     "name": "stderr",
     "output_type": "stream",
     "text": [
      "/usr/local/Cellar/python/2.7.11/Frameworks/Python.framework/Versions/2.7/lib/python2.7/site-packages/mpl_toolkits/mplot3d/axes3d.py:1094: FutureWarning: comparison to `None` will result in an elementwise object comparison in the future.\n",
      "  if self.button_pressed in self._rotate_btn:\n"
     ]
    }
   ],
   "source": [
    "fig = plt.figure()\n",
    "ax = fig.add_subplot(111, projection='3d')\n",
    "\n",
    "l = data[:,1] \n",
    "l /= np.max(l)\n",
    "x =  np.cos(data[:,0])\n",
    "y = np.sin(data[:,0])\n",
    "x *= np.absolute(np.cos(data[:,2]))\n",
    "y *= np.absolute(np.cos(data[:,2]))\n",
    "x *= l\n",
    "y *= l\n",
    "z = l * np.absolute(np.sin(data[:,2]))\n",
    "\n",
    "thre = 18\n",
    "rgb = (np.c_[data[:,3], data[:,3], data[:,3]] > thre)*1.0\n",
    "#rgb = np.c_[data[:,3], data[:,3], data[:,3]] / np.max(data[:,3])\n",
    "#rgb[:,1] = 0.0\n",
    "#rgb[:,2] = 1-rgb[:,0]\n",
    "\n",
    "ax.scatter(x, y, z, s=50, c=rgb)\n",
    "#plt.xlim([-1.5,1.5])\n",
    "#plt.ylim([-1.5,1.5])\n",
    "#plt.zlim([-1.5,1.5])\n",
    "plt.show()"
   ]
  },
  {
   "cell_type": "code",
   "execution_count": 11,
   "metadata": {
    "collapsed": false
   },
   "outputs": [
    {
     "name": "stdout",
     "output_type": "stream",
     "text": [
      "        sample  session  frame_start\n",
      "10  20160907-3       11          400\n",
      "11  20160907-3       17          360\n",
      "13  20161019-1       18          370\n",
      "14  20161019-1       19          370\n",
      "15  20161019-2        6          170\n",
      "18  20161019-2        9          190\n",
      "27  20161019-2       18          190\n",
      "28  20161019-2       19          200\n",
      "29  20161019-2       20          210\n",
      "35  20161019-3       25          255\n",
      "[[[ -2.48086182  -4.03572208   3.60555128]\n",
      "  [ -2.84469657  -1.45209099   9.48683298]\n",
      "  [ -2.71337265  -2.64152391   5.        ]\n",
      "  [ -1.71351379  -3.31626485  23.70653918]\n",
      "  [ -1.96593969  -2.2794226   38.05259518]\n",
      "  [ -2.93230223  -1.9513027   35.05709629]\n",
      "  [ -2.80538421  -3.32144615   7.28010989]\n",
      "  [ -2.42557414  -3.4276441    3.60555128]\n",
      "  [ -1.66214547  -3.60524026   4.47213595]\n",
      "  [ -2.04189594   0.55575572  25.8069758 ]]]\n"
     ]
    }
   ],
   "source": [
    "print df.loc[list(np.where(data[:,0]   <  -0.5*np.pi )[0]), [\"sample\", \"session\", \"frame_start\"]]\n",
    "print data[np.where(data[:,0]   <  -0.5*np.pi ), :]"
   ]
  }
 ],
 "metadata": {
  "kernelspec": {
   "display_name": "Python 2",
   "language": "python",
   "name": "python2"
  },
  "language_info": {
   "codemirror_mode": {
    "name": "ipython",
    "version": 2
   },
   "file_extension": ".py",
   "mimetype": "text/x-python",
   "name": "python",
   "nbconvert_exporter": "python",
   "pygments_lexer": "ipython2",
   "version": "2.7.11"
  }
 },
 "nbformat": 4,
 "nbformat_minor": 0
}
