{
 "cells": [
  {
   "cell_type": "code",
   "execution_count": 1,
   "metadata": {
    "collapsed": true
   },
   "outputs": [],
   "source": [
    "import commands\n",
    "import numpy as np\n",
    "import matplotlib.pyplot as plt\n",
    "%matplotlib inline"
   ]
  },
  {
   "cell_type": "code",
   "execution_count": 7,
   "metadata": {
    "collapsed": false
   },
   "outputs": [
    {
     "name": "stdout",
     "output_type": "stream",
     "text": [
      "/Users/tomii/tmp/AnalysisResult//20140911-2/C001H001S0008/shift_phase.npy\n",
      "/Users/tomii/tmp/AnalysisResult//20140911-2/C001H001S0014/shift_phase.npy\n",
      "/Users/tomii/tmp/AnalysisResult//20140911-2/C001H001S0015/shift_phase.npy\n",
      "/Users/tomii/tmp/AnalysisResult//20140911-2/C001H001S0016/shift_phase.npy\n",
      "/Users/tomii/tmp/AnalysisResult//20140911-2/C001H001S0017/shift_phase.npy\n",
      "/Users/tomii/tmp/AnalysisResult//20140911-2/C001H001S0034/shift_phase.npy\n",
      "/Users/tomii/tmp/AnalysisResult//20140911-2/C001H001S0035/shift_phase.npy\n",
      "/Users/tomii/tmp/AnalysisResult//20140911-2/C001H001S0036/shift_phase.npy\n",
      "/Users/tomii/tmp/AnalysisResult//20140911-2/C001H001S0038/shift_phase.npy\n",
      "/Users/tomii/tmp/AnalysisResult//20160907-3/C001H001S0006/shift_phase.npy\n",
      "/Users/tomii/tmp/AnalysisResult//20160907-3/C001H001S0011/shift_phase.npy\n",
      "/Users/tomii/tmp/AnalysisResult//20160907-3/C001H001S0017/shift_phase.npy\n",
      "/Users/tomii/tmp/AnalysisResult//20160907-3/C001H001S0018/shift_phase.npy\n",
      "/Users/tomii/tmp/AnalysisResult//20160907-3/C001H001S0019/shift_phase.npy\n",
      "/Users/tomii/tmp/AnalysisResult//20160907-3/C001H001S0020/shift_phase.npy\n",
      "/Users/tomii/tmp/AnalysisResult//20160907-3/C001H001S0021/shift_phase.npy\n",
      "/Users/tomii/tmp/AnalysisResult//20160907-3/C001H001S0022/shift_phase.npy\n",
      "/Users/tomii/tmp/AnalysisResult//20160907-3/C001H001S0023/shift_phase.npy\n",
      "/Users/tomii/tmp/AnalysisResult//20160907-3/C001H001S0034/shift_phase.npy\n"
     ]
    }
   ],
   "source": [
    "files = commands.getoutput(\"find /Users/tomii/tmp/AnalysisResult/ -maxdepth 3 -type f -name shift_phase.npy\").split('\\n')\n",
    "for f in files : print f"
   ]
  },
  {
   "cell_type": "code",
   "execution_count": 9,
   "metadata": {
    "collapsed": false
   },
   "outputs": [
    {
     "name": "stdout",
     "output_type": "stream",
     "text": [
      "(3177,)\n"
     ]
    }
   ],
   "source": [
    "list_data = [ np.load(f) for f in files]\n",
    "list_phase = []\n",
    "for d in list_data : list_phase.extend(list(d))\n",
    "list_phase = np.array(list_phase)\n",
    "print list_phase.shape"
   ]
  },
  {
   "cell_type": "code",
   "execution_count": 25,
   "metadata": {
    "collapsed": false
   },
   "outputs": [
    {
     "name": "stdout",
     "output_type": "stream",
     "text": [
      "(3177,)\n",
      "mean 1.02389\n",
      "var 0.934084\n"
     ]
    },
    {
     "data": {
      "image/png": "[encoded data removed]",
      "text/plain": [
       "<matplotlib.figure.Figure at 0x10477dcd0>"
      ]
     },
     "metadata": {},
     "output_type": "display_data"
    }
   ],
   "source": [
    "print list_phase.shape\n",
    "print \"mean\", np.mean(list_phase)\n",
    "print \"var\", np.var(list_phase)\n",
    "plt.hist(list_phase, np.arange(-np.pi, np.pi, 0.1*np.pi))\n",
    "plt.xlim(-np.pi, np.pi)\n",
    "plt.xlabel(\"Phase [rad]\")\n",
    "plt.ylabel(\"#Pixels\")\n",
    "plt.savefig(\"/Users/tomii/tmp/AnalysisResult/phase_shift_total.png\")\n",
    "plt.show()"
   ]
  },
  {
   "cell_type": "code",
   "execution_count": 27,
   "metadata": {
    "collapsed": false
   },
   "outputs": [
    {
     "name": "stdout",
     "output_type": "stream",
     "text": [
      "(19,)\n",
      "0.960244\n",
      "0.151335\n"
     ]
    },
    {
     "data": {
      "image/png": "[encoded data removed]",
      "text/plain": [
       "<matplotlib.figure.Figure at 0x104616790>"
      ]
     },
     "metadata": {},
     "output_type": "display_data"
    }
   ],
   "source": [
    "means = np.array([np.mean(d) for d in list_data])\n",
    "print means.shape\n",
    "print np.mean(means)\n",
    "print np.var(means)\n",
    "plt.hist(means, np.arange(-np.pi, np.pi, np.pi*0.1))\n",
    "plt.xlabel(\"Phase [rad]\")\n",
    "plt.ylabel(\"#Stimulation case\")\n",
    "plt.savefig(\"/Users/tomii/tmp/AnalysisResult/phase_shift_means.png\")"
   ]
  },
  {
   "cell_type": "code",
   "execution_count": null,
   "metadata": {
    "collapsed": true
   },
   "outputs": [],
   "source": []
  }
 ],
 "metadata": {
  "kernelspec": {
   "display_name": "Python 2",
   "language": "python",
   "name": "python2"
  },
  "language_info": {
   "codemirror_mode": {
    "name": "ipython",
    "version": 2
   },
   "file_extension": ".py",
   "mimetype": "text/x-python",
   "name": "python",
   "nbconvert_exporter": "python",
   "pygments_lexer": "ipython2",
   "version": "2.7.11"
  }
 },
 "nbformat": 4,
 "nbformat_minor": 0
}
