{
 "cells": [
  {
   "cell_type": "code",
   "execution_count": 1,
   "metadata": {
    "collapsed": true
   },
   "outputs": [],
   "source": [
    "import numpy as np\n",
    "import matplotlib.pyplot as plt\n",
    "import os\n",
    "%matplotlib inline"
   ]
  },
  {
   "cell_type": "code",
   "execution_count": 2,
   "metadata": {},
   "outputs": [],
   "source": [
    "from opmap.RawCam import RawCam\n",
    "from opmap.VmemMap import VmemMap\n",
    "from opmap.PhaseMap import PhaseMap\n",
    "from opmap.PhaseVarianceMap import PhaseVarianceMap"
   ]
  },
  {
   "cell_type": "code",
   "execution_count": 3,
   "metadata": {
    "collapsed": true
   },
   "outputs": [],
   "source": [
    "from opmap.util import makeMovie"
   ]
  },
  {
   "cell_type": "code",
   "execution_count": 4,
   "metadata": {
    "collapsed": true
   },
   "outputs": [],
   "source": [
    "targets = [\n",
    "    \"/mnt/recordings/ExperimentData/20160907-3/C001H001S0018/\",\n",
    "    \"/mnt/recordings/ExperimentData/20160907-3/C001H001S0019/\",\n",
    "    \"/mnt/recordings/ExperimentData/20160907-3/C001H001S0020/\",\n",
    "    \"/mnt/recordings/ExperimentData/20160907-3/C001H001S0021/\",\n",
    "    \"/mnt/recordings/ExperimentData/20160907-3/C001H001S0022/\",\n",
    "    \"/mnt/recordings/ExperimentData/20160907-3/C001H001S0023/\",\n",
    "    \"/mnt/recordings/ExperimentData/20160907-3/C001H001S0034/\"\n",
    "]"
   ]
  },
  {
   "cell_type": "code",
   "execution_count": 5,
   "metadata": {},
   "outputs": [],
   "source": [
    "for target in targets:\n",
    "\n",
    "    cam = RawCam(\n",
    "        path = target,\n",
    "        cam_type = 'sa4', \n",
    "        image_height = 512, image_width = 512, frame_start = 0, frame_end = 800\n",
    "    )\n",
    "\n",
    "    vmem = VmemMap( cam )\n",
    "    vmem.setDiffRange(diff_min=80)\n",
    "    vmem.smooth(9)\n",
    "    pmap = PhaseMap( vmem )\n",
    "    pvmap = PhaseVarianceMap(pmap, size=5)\n",
    "\n",
    "    save_dir = target.replace(\"ExperimentData\", \"AnalysisResult/Tomii/2017-07-09\")\n",
    "\n",
    "    dirs = []\n",
    "    d = os.path.join( save_dir , \"vmem\");  vmem.saveImage(d); dirs.append(d)\n",
    "    d = os.path.join( save_dir , \"pmap\"); pmap.saveImage(d); dirs.append(d)\n",
    "    d = os.path.join( save_dir , \"pvmap\"); pvmap.saveImage(d); dirs.append(d)\n",
    "\n",
    "    #for d in dirs: makeMovie(d)"
   ]
  }
 ],
 "metadata": {
  "kernelspec": {
   "display_name": "Python 2",
   "language": "python",
   "name": "python2"
  },
  "language_info": {
   "codemirror_mode": {
    "name": "ipython",
    "version": 2
   },
   "file_extension": ".py",
   "mimetype": "text/x-python",
   "name": "python",
   "nbconvert_exporter": "python",
   "pygments_lexer": "ipython2",
   "version": "2.7.13"
  }
 },
 "nbformat": 4,
 "nbformat_minor": 2
}
