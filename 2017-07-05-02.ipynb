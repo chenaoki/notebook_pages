{
 "cells": [
  {
   "cell_type": "code",
   "execution_count": 2,
   "metadata": {
    "collapsed": true
   },
   "outputs": [],
   "source": [
    "import pandas as pd\n",
    "import numpy as np"
   ]
  },
  {
   "cell_type": "code",
   "execution_count": 5,
   "metadata": {
    "collapsed": true
   },
   "outputs": [],
   "source": [
    "data_dir = \"/mnt/recordings/AnalysisResult/Tomii/\"\n",
    "df_path = data_dir + \"pv_stim_pandas.csv\""
   ]
  },
  {
   "cell_type": "code",
   "execution_count": 20,
   "metadata": {},
   "outputs": [
    {
     "name": "stdout",
     "output_type": "stream",
     "text": [
      "N: 46\n"
     ]
    }
   ],
   "source": [
    "df = pd.read_csv(df_path)\n",
    "\n",
    "print \"N:\",len(df)"
   ]
  },
  {
   "cell_type": "code",
   "execution_count": 21,
   "metadata": {},
   "outputs": [
    {
     "name": "stdout",
     "output_type": "stream",
     "text": [
      "20140911-2 8\n",
      "20140911-2 14\n",
      "20140911-2 15\n",
      "20140911-2 17\n",
      "20140911-2 34\n",
      "20140911-2 35\n",
      "20140911-2 36\n",
      "20140911-2 38\n",
      "20160907-3 6\n",
      "20160907-3 10\n",
      "20160907-3 11\n",
      "20160907-3 17\n",
      "20160907-3 22\n",
      "20161019-1 18\n",
      "20161019-1 19\n",
      "20161019-2 6\n",
      "20161019-2 7\n",
      "20161019-2 8\n",
      "20161019-2 9\n",
      "20161019-2 10\n",
      "20161019-2 11\n",
      "20161019-2 12\n",
      "20161019-2 13\n",
      "20161019-2 14\n",
      "20161019-2 15\n",
      "20161019-2 16\n",
      "20161019-2 17\n",
      "20161019-2 18\n",
      "20161019-2 19\n",
      "20161019-2 20\n",
      "20161019-2 21\n",
      "20161019-2 22\n",
      "20161019-2 23\n",
      "20161019-2 24\n",
      "20161019-3 24\n",
      "20161019-3 25\n",
      "20161021-1 9\n",
      "20161021-1 10\n",
      "20161021-1 11\n",
      "20161021-1 12\n",
      "20161021-1 13\n",
      "20161021-1 14\n",
      "20161021-1 16\n",
      "20161021-2 10\n",
      "20161021-2 11\n",
      "20161021-2 12\n"
     ]
    }
   ],
   "source": [
    "for i in range(len(df)):\n",
    "    s = df.loc[i,:]\n",
    "    print s[\"sample\"], s[\"session\"]"
   ]
  }
 ],
 "metadata": {
  "kernelspec": {
   "display_name": "Python 2",
   "language": "python",
   "name": "python2"
  },
  "language_info": {
   "codemirror_mode": {
    "name": "ipython",
    "version": 2
   },
   "file_extension": ".py",
   "mimetype": "text/x-python",
   "name": "python",
   "nbconvert_exporter": "python",
   "pygments_lexer": "ipython2",
   "version": "2.7.13"
  }
 },
 "nbformat": 4,
 "nbformat_minor": 2
}
