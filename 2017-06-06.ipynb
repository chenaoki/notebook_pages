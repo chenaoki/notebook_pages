{
 "cells": [
  {
   "cell_type": "code",
   "execution_count": 78,
   "metadata": {
    "collapsed": true
   },
   "outputs": [],
   "source": [
    "import numpy as np\n",
    "import struct\n",
    "import matplotlib.pyplot as plt\n",
    "import glob\n",
    "%matplotlib inline"
   ]
  },
  {
   "cell_type": "code",
   "execution_count": 87,
   "metadata": {
    "collapsed": false
   },
   "outputs": [],
   "source": [
    "def readSnp2d(f_path):\n",
    "    params = {}\n",
    "    \n",
    "    f = open(f_path, \"rb\")\n",
    "    params[\"nx\"] =struct.unpack('i', f.read(4))[0]\n",
    "    params[\"ny\"] = struct.unpack('i', f.read(4))[0]\n",
    "    params[\"t\"] = struct.unpack('d', f.read(8))[0]\n",
    "    params[\"H\"] = struct.unpack('d', f.read(8))[0]\n",
    "    params[\"DeltaT\"] = struct.unpack('d', f.read(8))[0]\n",
    "    \n",
    "    nx = params[\"nx\"]\n",
    "    ny = params[\"ny\"]\n",
    "    assert nx > 0 and ny > 0\n",
    "\n",
    "    img = np.zeros((ny, nx), dtype=np.float32)\n",
    "    for x in range(nx):\n",
    "        for y in range(ny):\n",
    "            img[y, x] = struct.unpack('f', f.read(4))[0]\n",
    "\n",
    "    return params, img"
   ]
  },
  {
   "cell_type": "code",
   "execution_count": 90,
   "metadata": {
    "collapsed": false
   },
   "outputs": [
    {
     "name": "stdout",
     "output_type": "stream",
     "text": [
      "/home/tomii/Source/SimSonic2D/examples/hello/V_001.snp2D\n",
      "/home/tomii/Source/SimSonic2D/examples/hello/V_002.snp2D\n",
      "/home/tomii/Source/SimSonic2D/examples/hello/V_003.snp2D\n",
      "/home/tomii/Source/SimSonic2D/examples/hello/V_004.snp2D\n",
      "/home/tomii/Source/SimSonic2D/examples/hello/V_005.snp2D\n",
      "/home/tomii/Source/SimSonic2D/examples/hello/V_006.snp2D\n",
      "/home/tomii/Source/SimSonic2D/examples/hello/V_007.snp2D\n",
      "/home/tomii/Source/SimSonic2D/examples/hello/V_008.snp2D\n",
      "/home/tomii/Source/SimSonic2D/examples/hello/V_009.snp2D\n",
      "/home/tomii/Source/SimSonic2D/examples/hello/V_010.snp2D\n",
      "/home/tomii/Source/SimSonic2D/examples/hello/V_011.snp2D\n",
      "/home/tomii/Source/SimSonic2D/examples/hello/V_012.snp2D\n",
      "/home/tomii/Source/SimSonic2D/examples/hello/V_013.snp2D\n",
      "/home/tomii/Source/SimSonic2D/examples/hello/V_014.snp2D\n",
      "/home/tomii/Source/SimSonic2D/examples/hello/V_015.snp2D\n",
      "/home/tomii/Source/SimSonic2D/examples/hello/V_016.snp2D\n",
      "/home/tomii/Source/SimSonic2D/examples/hello/V_017.snp2D\n",
      "/home/tomii/Source/SimSonic2D/examples/hello/V_018.snp2D\n",
      "/home/tomii/Source/SimSonic2D/examples/hello/V_019.snp2D\n"
     ]
    },
    {
     "data": {
      "image/png": "[encoded data removed]",
      "text/plain": [
       "<matplotlib.figure.Figure at 0x7fb719782c90>"
      ]
     },
     "metadata": {},
     "output_type": "display_data"
    }
   ],
   "source": [
    "sim_dir = \"/home/tomii/Source/SimSonic2D/examples/hello/\"\n",
    "verbose = False\n",
    "    \n",
    "files = glob.glob(sim_dir+\"*snp2D\")\n",
    "files.sort()\n",
    "for i, f_path in enumerate(files):\n",
    "    print f_path\n",
    "    params, img = readSnp2d(f_path)\n",
    "    plt.imshow(img)\n",
    "    plt.savefig('./result/snap_{0:0>3}.png'.format(i))"
   ]
  },
  {
   "cell_type": "code",
   "execution_count": null,
   "metadata": {
    "collapsed": true
   },
   "outputs": [],
   "source": []
  }
 ],
 "metadata": {
  "kernelspec": {
   "display_name": "Python 2",
   "language": "python",
   "name": "python2"
  },
  "language_info": {
   "codemirror_mode": {
    "name": "ipython",
    "version": 2
   },
   "file_extension": ".py",
   "mimetype": "text/x-python",
   "name": "python",
   "nbconvert_exporter": "python",
   "pygments_lexer": "ipython2",
   "version": "2.7.13"
  }
 },
 "nbformat": 4,
 "nbformat_minor": 2
}
